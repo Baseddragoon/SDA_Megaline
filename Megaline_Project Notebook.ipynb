{
 "cells": [
  {
   "cell_type": "markdown",
   "metadata": {},
   "source": [
    "# Which one is a better plan?\n",
    "\n",
    "You work as an analyst for the telecom operator Megaline. The company offers its clients two prepaid plans, Surf and Ultimate. The commercial department wants to know which of the plans brings in more revenue in order to adjust the advertising budget.\n",
    "\n",
    "You are going to carry out a preliminary analysis of the plans based on a relatively small client selection. You'll have the data on 500 Megaline clients: who the clients are, where they're from, which plan they use, and the number of calls they made and text messages they sent in 2018. Your job is to analyze the clients' behavior and determine which prepaid plan brings in more revenue."
   ]
  },
  {
   "cell_type": "markdown",
   "metadata": {},
   "source": [
    "The goal of this project is to outline which plan makes us more money between the surf plan and the ultimate plan. In order to do that we are first going to load our dataframes and print them out and see if there is any underlining issues with them before digging in further. After we take care of that we'll be looking at monthly internet usage,  call count, & number of messages sent. We'll be using that with the megaline plan to find the monthly revenue of each user and from there we will be looking at how the plans differ with usage as well as revenue between the two. We will end on finding out which one of the data plans, if either, brings in more revenue so we can increase the advertising budget on.\n",
    "After that we'll be running a hypothesis on determining if the Ultimate Plan brings in the most revenue and if the New York New Jersey area has a differnece in revenue it brings in."
   ]
  },
  {
   "cell_type": "markdown",
   "metadata": {},
   "source": [
    "## Initialization"
   ]
  },
  {
   "cell_type": "markdown",
   "metadata": {},
   "source": [
    "We are going to load our libaries to take a look at all the dataframes to use to help and see what plan brings in more revenue between Surf and Ultimate."
   ]
  },
  {
   "cell_type": "code",
   "execution_count": 1,
   "metadata": {},
   "outputs": [],
   "source": [
    "# Loading all the libraries\n",
    "import pandas as pd\n",
    "import numpy as np\n",
    "import matplotlib.pyplot as plt\n",
    "import seaborn as sns\n",
    "\n",
    "calls = pd.read_csv('/datasets/megaline_calls.csv') \n",
    "\n",
    "internet = pd.read_csv('/datasets/megaline_internet.csv') \n",
    "\n",
    "messages = pd.read_csv('/datasets/megaline_messages.csv') \n",
    "\n",
    "megaline_plans = pd.read_csv('/datasets/megaline_plans.csv') \n",
    "\n",
    "megaline_users = pd.read_csv('/datasets/megaline_users.csv')\n"
   ]
  },
  {
   "cell_type": "markdown",
   "metadata": {},
   "source": [
    "## Load data"
   ]
  },
  {
   "cell_type": "markdown",
   "metadata": {},
   "source": [
    "Were going to load the tables and look at what kind of data we are working with"
   ]
  },
  {
   "cell_type": "code",
   "execution_count": 2,
   "metadata": {},
   "outputs": [
    {
     "data": {
      "text/html": [
       "<div>\n",
       "<style scoped>\n",
       "    .dataframe tbody tr th:only-of-type {\n",
       "        vertical-align: middle;\n",
       "    }\n",
       "\n",
       "    .dataframe tbody tr th {\n",
       "        vertical-align: top;\n",
       "    }\n",
       "\n",
       "    .dataframe thead th {\n",
       "        text-align: right;\n",
       "    }\n",
       "</style>\n",
       "<table border=\"1\" class=\"dataframe\">\n",
       "  <thead>\n",
       "    <tr style=\"text-align: right;\">\n",
       "      <th></th>\n",
       "      <th>id</th>\n",
       "      <th>user_id</th>\n",
       "      <th>call_date</th>\n",
       "      <th>duration</th>\n",
       "    </tr>\n",
       "  </thead>\n",
       "  <tbody>\n",
       "    <tr>\n",
       "      <th>0</th>\n",
       "      <td>1000_93</td>\n",
       "      <td>1000</td>\n",
       "      <td>2018-12-27</td>\n",
       "      <td>8.52</td>\n",
       "    </tr>\n",
       "    <tr>\n",
       "      <th>1</th>\n",
       "      <td>1000_145</td>\n",
       "      <td>1000</td>\n",
       "      <td>2018-12-27</td>\n",
       "      <td>13.66</td>\n",
       "    </tr>\n",
       "    <tr>\n",
       "      <th>2</th>\n",
       "      <td>1000_247</td>\n",
       "      <td>1000</td>\n",
       "      <td>2018-12-27</td>\n",
       "      <td>14.48</td>\n",
       "    </tr>\n",
       "    <tr>\n",
       "      <th>3</th>\n",
       "      <td>1000_309</td>\n",
       "      <td>1000</td>\n",
       "      <td>2018-12-28</td>\n",
       "      <td>5.76</td>\n",
       "    </tr>\n",
       "    <tr>\n",
       "      <th>4</th>\n",
       "      <td>1000_380</td>\n",
       "      <td>1000</td>\n",
       "      <td>2018-12-30</td>\n",
       "      <td>4.22</td>\n",
       "    </tr>\n",
       "  </tbody>\n",
       "</table>\n",
       "</div>"
      ],
      "text/plain": [
       "         id  user_id   call_date  duration\n",
       "0   1000_93     1000  2018-12-27      8.52\n",
       "1  1000_145     1000  2018-12-27     13.66\n",
       "2  1000_247     1000  2018-12-27     14.48\n",
       "3  1000_309     1000  2018-12-28      5.76\n",
       "4  1000_380     1000  2018-12-30      4.22"
      ]
     },
     "execution_count": 2,
     "metadata": {},
     "output_type": "execute_result"
    }
   ],
   "source": [
    "# Load the data files into different DataFrames\n",
    "calls.head()\n"
   ]
  },
  {
   "cell_type": "code",
   "execution_count": 3,
   "metadata": {},
   "outputs": [
    {
     "data": {
      "text/html": [
       "<div>\n",
       "<style scoped>\n",
       "    .dataframe tbody tr th:only-of-type {\n",
       "        vertical-align: middle;\n",
       "    }\n",
       "\n",
       "    .dataframe tbody tr th {\n",
       "        vertical-align: top;\n",
       "    }\n",
       "\n",
       "    .dataframe thead th {\n",
       "        text-align: right;\n",
       "    }\n",
       "</style>\n",
       "<table border=\"1\" class=\"dataframe\">\n",
       "  <thead>\n",
       "    <tr style=\"text-align: right;\">\n",
       "      <th></th>\n",
       "      <th>id</th>\n",
       "      <th>user_id</th>\n",
       "      <th>session_date</th>\n",
       "      <th>mb_used</th>\n",
       "    </tr>\n",
       "  </thead>\n",
       "  <tbody>\n",
       "    <tr>\n",
       "      <th>0</th>\n",
       "      <td>1000_13</td>\n",
       "      <td>1000</td>\n",
       "      <td>2018-12-29</td>\n",
       "      <td>89.86</td>\n",
       "    </tr>\n",
       "    <tr>\n",
       "      <th>1</th>\n",
       "      <td>1000_204</td>\n",
       "      <td>1000</td>\n",
       "      <td>2018-12-31</td>\n",
       "      <td>0.00</td>\n",
       "    </tr>\n",
       "    <tr>\n",
       "      <th>2</th>\n",
       "      <td>1000_379</td>\n",
       "      <td>1000</td>\n",
       "      <td>2018-12-28</td>\n",
       "      <td>660.40</td>\n",
       "    </tr>\n",
       "    <tr>\n",
       "      <th>3</th>\n",
       "      <td>1000_413</td>\n",
       "      <td>1000</td>\n",
       "      <td>2018-12-26</td>\n",
       "      <td>270.99</td>\n",
       "    </tr>\n",
       "    <tr>\n",
       "      <th>4</th>\n",
       "      <td>1000_442</td>\n",
       "      <td>1000</td>\n",
       "      <td>2018-12-27</td>\n",
       "      <td>880.22</td>\n",
       "    </tr>\n",
       "  </tbody>\n",
       "</table>\n",
       "</div>"
      ],
      "text/plain": [
       "         id  user_id session_date  mb_used\n",
       "0   1000_13     1000   2018-12-29    89.86\n",
       "1  1000_204     1000   2018-12-31     0.00\n",
       "2  1000_379     1000   2018-12-28   660.40\n",
       "3  1000_413     1000   2018-12-26   270.99\n",
       "4  1000_442     1000   2018-12-27   880.22"
      ]
     },
     "execution_count": 3,
     "metadata": {},
     "output_type": "execute_result"
    }
   ],
   "source": [
    "internet.head()"
   ]
  },
  {
   "cell_type": "code",
   "execution_count": 4,
   "metadata": {},
   "outputs": [
    {
     "data": {
      "text/html": [
       "<div>\n",
       "<style scoped>\n",
       "    .dataframe tbody tr th:only-of-type {\n",
       "        vertical-align: middle;\n",
       "    }\n",
       "\n",
       "    .dataframe tbody tr th {\n",
       "        vertical-align: top;\n",
       "    }\n",
       "\n",
       "    .dataframe thead th {\n",
       "        text-align: right;\n",
       "    }\n",
       "</style>\n",
       "<table border=\"1\" class=\"dataframe\">\n",
       "  <thead>\n",
       "    <tr style=\"text-align: right;\">\n",
       "      <th></th>\n",
       "      <th>id</th>\n",
       "      <th>user_id</th>\n",
       "      <th>message_date</th>\n",
       "    </tr>\n",
       "  </thead>\n",
       "  <tbody>\n",
       "    <tr>\n",
       "      <th>0</th>\n",
       "      <td>1000_125</td>\n",
       "      <td>1000</td>\n",
       "      <td>2018-12-27</td>\n",
       "    </tr>\n",
       "    <tr>\n",
       "      <th>1</th>\n",
       "      <td>1000_160</td>\n",
       "      <td>1000</td>\n",
       "      <td>2018-12-31</td>\n",
       "    </tr>\n",
       "    <tr>\n",
       "      <th>2</th>\n",
       "      <td>1000_223</td>\n",
       "      <td>1000</td>\n",
       "      <td>2018-12-31</td>\n",
       "    </tr>\n",
       "    <tr>\n",
       "      <th>3</th>\n",
       "      <td>1000_251</td>\n",
       "      <td>1000</td>\n",
       "      <td>2018-12-27</td>\n",
       "    </tr>\n",
       "    <tr>\n",
       "      <th>4</th>\n",
       "      <td>1000_255</td>\n",
       "      <td>1000</td>\n",
       "      <td>2018-12-26</td>\n",
       "    </tr>\n",
       "  </tbody>\n",
       "</table>\n",
       "</div>"
      ],
      "text/plain": [
       "         id  user_id message_date\n",
       "0  1000_125     1000   2018-12-27\n",
       "1  1000_160     1000   2018-12-31\n",
       "2  1000_223     1000   2018-12-31\n",
       "3  1000_251     1000   2018-12-27\n",
       "4  1000_255     1000   2018-12-26"
      ]
     },
     "execution_count": 4,
     "metadata": {},
     "output_type": "execute_result"
    }
   ],
   "source": [
    "messages.head()"
   ]
  },
  {
   "cell_type": "code",
   "execution_count": 5,
   "metadata": {},
   "outputs": [
    {
     "data": {
      "text/html": [
       "<div>\n",
       "<style scoped>\n",
       "    .dataframe tbody tr th:only-of-type {\n",
       "        vertical-align: middle;\n",
       "    }\n",
       "\n",
       "    .dataframe tbody tr th {\n",
       "        vertical-align: top;\n",
       "    }\n",
       "\n",
       "    .dataframe thead th {\n",
       "        text-align: right;\n",
       "    }\n",
       "</style>\n",
       "<table border=\"1\" class=\"dataframe\">\n",
       "  <thead>\n",
       "    <tr style=\"text-align: right;\">\n",
       "      <th></th>\n",
       "      <th>messages_included</th>\n",
       "      <th>mb_per_month_included</th>\n",
       "      <th>minutes_included</th>\n",
       "      <th>usd_monthly_pay</th>\n",
       "      <th>usd_per_gb</th>\n",
       "      <th>usd_per_message</th>\n",
       "      <th>usd_per_minute</th>\n",
       "      <th>plan_name</th>\n",
       "    </tr>\n",
       "  </thead>\n",
       "  <tbody>\n",
       "    <tr>\n",
       "      <th>0</th>\n",
       "      <td>50</td>\n",
       "      <td>15360</td>\n",
       "      <td>500</td>\n",
       "      <td>20</td>\n",
       "      <td>10</td>\n",
       "      <td>0.03</td>\n",
       "      <td>0.03</td>\n",
       "      <td>surf</td>\n",
       "    </tr>\n",
       "    <tr>\n",
       "      <th>1</th>\n",
       "      <td>1000</td>\n",
       "      <td>30720</td>\n",
       "      <td>3000</td>\n",
       "      <td>70</td>\n",
       "      <td>7</td>\n",
       "      <td>0.01</td>\n",
       "      <td>0.01</td>\n",
       "      <td>ultimate</td>\n",
       "    </tr>\n",
       "  </tbody>\n",
       "</table>\n",
       "</div>"
      ],
      "text/plain": [
       "   messages_included  mb_per_month_included  minutes_included  \\\n",
       "0                 50                  15360               500   \n",
       "1               1000                  30720              3000   \n",
       "\n",
       "   usd_monthly_pay  usd_per_gb  usd_per_message  usd_per_minute plan_name  \n",
       "0               20          10             0.03            0.03      surf  \n",
       "1               70           7             0.01            0.01  ultimate  "
      ]
     },
     "execution_count": 5,
     "metadata": {},
     "output_type": "execute_result"
    }
   ],
   "source": [
    "megaline_plans.head()"
   ]
  },
  {
   "cell_type": "code",
   "execution_count": 6,
   "metadata": {},
   "outputs": [
    {
     "data": {
      "text/html": [
       "<div>\n",
       "<style scoped>\n",
       "    .dataframe tbody tr th:only-of-type {\n",
       "        vertical-align: middle;\n",
       "    }\n",
       "\n",
       "    .dataframe tbody tr th {\n",
       "        vertical-align: top;\n",
       "    }\n",
       "\n",
       "    .dataframe thead th {\n",
       "        text-align: right;\n",
       "    }\n",
       "</style>\n",
       "<table border=\"1\" class=\"dataframe\">\n",
       "  <thead>\n",
       "    <tr style=\"text-align: right;\">\n",
       "      <th></th>\n",
       "      <th>user_id</th>\n",
       "      <th>first_name</th>\n",
       "      <th>last_name</th>\n",
       "      <th>age</th>\n",
       "      <th>city</th>\n",
       "      <th>reg_date</th>\n",
       "      <th>plan</th>\n",
       "      <th>churn_date</th>\n",
       "    </tr>\n",
       "  </thead>\n",
       "  <tbody>\n",
       "    <tr>\n",
       "      <th>0</th>\n",
       "      <td>1000</td>\n",
       "      <td>Anamaria</td>\n",
       "      <td>Bauer</td>\n",
       "      <td>45</td>\n",
       "      <td>Atlanta-Sandy Springs-Roswell, GA MSA</td>\n",
       "      <td>2018-12-24</td>\n",
       "      <td>ultimate</td>\n",
       "      <td>NaN</td>\n",
       "    </tr>\n",
       "    <tr>\n",
       "      <th>1</th>\n",
       "      <td>1001</td>\n",
       "      <td>Mickey</td>\n",
       "      <td>Wilkerson</td>\n",
       "      <td>28</td>\n",
       "      <td>Seattle-Tacoma-Bellevue, WA MSA</td>\n",
       "      <td>2018-08-13</td>\n",
       "      <td>surf</td>\n",
       "      <td>NaN</td>\n",
       "    </tr>\n",
       "    <tr>\n",
       "      <th>2</th>\n",
       "      <td>1002</td>\n",
       "      <td>Carlee</td>\n",
       "      <td>Hoffman</td>\n",
       "      <td>36</td>\n",
       "      <td>Las Vegas-Henderson-Paradise, NV MSA</td>\n",
       "      <td>2018-10-21</td>\n",
       "      <td>surf</td>\n",
       "      <td>NaN</td>\n",
       "    </tr>\n",
       "    <tr>\n",
       "      <th>3</th>\n",
       "      <td>1003</td>\n",
       "      <td>Reynaldo</td>\n",
       "      <td>Jenkins</td>\n",
       "      <td>52</td>\n",
       "      <td>Tulsa, OK MSA</td>\n",
       "      <td>2018-01-28</td>\n",
       "      <td>surf</td>\n",
       "      <td>NaN</td>\n",
       "    </tr>\n",
       "    <tr>\n",
       "      <th>4</th>\n",
       "      <td>1004</td>\n",
       "      <td>Leonila</td>\n",
       "      <td>Thompson</td>\n",
       "      <td>40</td>\n",
       "      <td>Seattle-Tacoma-Bellevue, WA MSA</td>\n",
       "      <td>2018-05-23</td>\n",
       "      <td>surf</td>\n",
       "      <td>NaN</td>\n",
       "    </tr>\n",
       "  </tbody>\n",
       "</table>\n",
       "</div>"
      ],
      "text/plain": [
       "   user_id first_name  last_name  age                                   city  \\\n",
       "0     1000   Anamaria      Bauer   45  Atlanta-Sandy Springs-Roswell, GA MSA   \n",
       "1     1001     Mickey  Wilkerson   28        Seattle-Tacoma-Bellevue, WA MSA   \n",
       "2     1002     Carlee    Hoffman   36   Las Vegas-Henderson-Paradise, NV MSA   \n",
       "3     1003   Reynaldo    Jenkins   52                          Tulsa, OK MSA   \n",
       "4     1004    Leonila   Thompson   40        Seattle-Tacoma-Bellevue, WA MSA   \n",
       "\n",
       "     reg_date      plan churn_date  \n",
       "0  2018-12-24  ultimate        NaN  \n",
       "1  2018-08-13      surf        NaN  \n",
       "2  2018-10-21      surf        NaN  \n",
       "3  2018-01-28      surf        NaN  \n",
       "4  2018-05-23      surf        NaN  "
      ]
     },
     "execution_count": 6,
     "metadata": {},
     "output_type": "execute_result"
    }
   ],
   "source": [
    "megaline_users.head()"
   ]
  },
  {
   "cell_type": "markdown",
   "metadata": {},
   "source": [
    "## Prepare the data"
   ]
  },
  {
   "cell_type": "markdown",
   "metadata": {},
   "source": [
    "## Plans"
   ]
  },
  {
   "cell_type": "code",
   "execution_count": 7,
   "metadata": {},
   "outputs": [
    {
     "name": "stdout",
     "output_type": "stream",
     "text": [
      "<class 'pandas.core.frame.DataFrame'>\n",
      "RangeIndex: 2 entries, 0 to 1\n",
      "Data columns (total 8 columns):\n",
      " #   Column                 Non-Null Count  Dtype  \n",
      "---  ------                 --------------  -----  \n",
      " 0   messages_included      2 non-null      int64  \n",
      " 1   mb_per_month_included  2 non-null      int64  \n",
      " 2   minutes_included       2 non-null      int64  \n",
      " 3   usd_monthly_pay        2 non-null      int64  \n",
      " 4   usd_per_gb             2 non-null      int64  \n",
      " 5   usd_per_message        2 non-null      float64\n",
      " 6   usd_per_minute         2 non-null      float64\n",
      " 7   plan_name              2 non-null      object \n",
      "dtypes: float64(2), int64(5), object(1)\n",
      "memory usage: 256.0+ bytes\n"
     ]
    }
   ],
   "source": [
    "# Print the general/summary information about the plans' DataFrame\n",
    "megaline_plans.info()\n"
   ]
  },
  {
   "cell_type": "code",
   "execution_count": 8,
   "metadata": {},
   "outputs": [
    {
     "data": {
      "text/html": [
       "<div>\n",
       "<style scoped>\n",
       "    .dataframe tbody tr th:only-of-type {\n",
       "        vertical-align: middle;\n",
       "    }\n",
       "\n",
       "    .dataframe tbody tr th {\n",
       "        vertical-align: top;\n",
       "    }\n",
       "\n",
       "    .dataframe thead th {\n",
       "        text-align: right;\n",
       "    }\n",
       "</style>\n",
       "<table border=\"1\" class=\"dataframe\">\n",
       "  <thead>\n",
       "    <tr style=\"text-align: right;\">\n",
       "      <th></th>\n",
       "      <th>messages_included</th>\n",
       "      <th>mb_per_month_included</th>\n",
       "      <th>minutes_included</th>\n",
       "      <th>usd_monthly_pay</th>\n",
       "      <th>usd_per_gb</th>\n",
       "      <th>usd_per_message</th>\n",
       "      <th>usd_per_minute</th>\n",
       "      <th>plan_name</th>\n",
       "    </tr>\n",
       "  </thead>\n",
       "  <tbody>\n",
       "    <tr>\n",
       "      <th>0</th>\n",
       "      <td>50</td>\n",
       "      <td>15360</td>\n",
       "      <td>500</td>\n",
       "      <td>20</td>\n",
       "      <td>10</td>\n",
       "      <td>0.03</td>\n",
       "      <td>0.03</td>\n",
       "      <td>surf</td>\n",
       "    </tr>\n",
       "    <tr>\n",
       "      <th>1</th>\n",
       "      <td>1000</td>\n",
       "      <td>30720</td>\n",
       "      <td>3000</td>\n",
       "      <td>70</td>\n",
       "      <td>7</td>\n",
       "      <td>0.01</td>\n",
       "      <td>0.01</td>\n",
       "      <td>ultimate</td>\n",
       "    </tr>\n",
       "  </tbody>\n",
       "</table>\n",
       "</div>"
      ],
      "text/plain": [
       "   messages_included  mb_per_month_included  minutes_included  \\\n",
       "0                 50                  15360               500   \n",
       "1               1000                  30720              3000   \n",
       "\n",
       "   usd_monthly_pay  usd_per_gb  usd_per_message  usd_per_minute plan_name  \n",
       "0               20          10             0.03            0.03      surf  \n",
       "1               70           7             0.01            0.01  ultimate  "
      ]
     },
     "execution_count": 8,
     "metadata": {},
     "output_type": "execute_result"
    }
   ],
   "source": [
    "# Print a sample of data for plans\n",
    "megaline_plans.sample(2)\n"
   ]
  },
  {
   "cell_type": "markdown",
   "metadata": {},
   "source": [
    "We printed out the plan info in a dataframe. We see there are two rows 1 for the ultimate plan and 1 for the surf plan."
   ]
  },
  {
   "cell_type": "markdown",
   "metadata": {},
   "source": [
    " "
   ]
  },
  {
   "cell_type": "markdown",
   "metadata": {},
   "source": [
    "## Fix data"
   ]
  },
  {
   "cell_type": "code",
   "execution_count": 9,
   "metadata": {},
   "outputs": [
    {
     "data": {
      "text/html": [
       "<div>\n",
       "<style scoped>\n",
       "    .dataframe tbody tr th:only-of-type {\n",
       "        vertical-align: middle;\n",
       "    }\n",
       "\n",
       "    .dataframe tbody tr th {\n",
       "        vertical-align: top;\n",
       "    }\n",
       "\n",
       "    .dataframe thead th {\n",
       "        text-align: right;\n",
       "    }\n",
       "</style>\n",
       "<table border=\"1\" class=\"dataframe\">\n",
       "  <thead>\n",
       "    <tr style=\"text-align: right;\">\n",
       "      <th></th>\n",
       "      <th>messages_included</th>\n",
       "      <th>mb_per_month_included</th>\n",
       "      <th>minutes_included</th>\n",
       "      <th>usd_monthly_pay</th>\n",
       "      <th>usd_per_gb</th>\n",
       "      <th>usd_per_message</th>\n",
       "      <th>usd_per_minute</th>\n",
       "      <th>plan_name</th>\n",
       "    </tr>\n",
       "  </thead>\n",
       "  <tbody>\n",
       "    <tr>\n",
       "      <th>0</th>\n",
       "      <td>50</td>\n",
       "      <td>15.0</td>\n",
       "      <td>500</td>\n",
       "      <td>20</td>\n",
       "      <td>10</td>\n",
       "      <td>0.03</td>\n",
       "      <td>0.03</td>\n",
       "      <td>surf</td>\n",
       "    </tr>\n",
       "    <tr>\n",
       "      <th>1</th>\n",
       "      <td>1000</td>\n",
       "      <td>30.0</td>\n",
       "      <td>3000</td>\n",
       "      <td>70</td>\n",
       "      <td>7</td>\n",
       "      <td>0.01</td>\n",
       "      <td>0.01</td>\n",
       "      <td>ultimate</td>\n",
       "    </tr>\n",
       "  </tbody>\n",
       "</table>\n",
       "</div>"
      ],
      "text/plain": [
       "   messages_included  mb_per_month_included  minutes_included  \\\n",
       "0                 50                   15.0               500   \n",
       "1               1000                   30.0              3000   \n",
       "\n",
       "   usd_monthly_pay  usd_per_gb  usd_per_message  usd_per_minute plan_name  \n",
       "0               20          10             0.03            0.03      surf  \n",
       "1               70           7             0.01            0.01  ultimate  "
      ]
     },
     "execution_count": 9,
     "metadata": {},
     "output_type": "execute_result"
    }
   ],
   "source": [
    "#turn mb_per_month_included to gb_per_month_included\n",
    "megaline_plans['mb_per_month_included'] = megaline_plans['mb_per_month_included'] /1024\n",
    "megaline_plans"
   ]
  },
  {
   "cell_type": "markdown",
   "metadata": {},
   "source": [
    "## Enrich data"
   ]
  },
  {
   "cell_type": "code",
   "execution_count": 10,
   "metadata": {},
   "outputs": [
    {
     "data": {
      "text/html": [
       "<div>\n",
       "<style scoped>\n",
       "    .dataframe tbody tr th:only-of-type {\n",
       "        vertical-align: middle;\n",
       "    }\n",
       "\n",
       "    .dataframe tbody tr th {\n",
       "        vertical-align: top;\n",
       "    }\n",
       "\n",
       "    .dataframe thead th {\n",
       "        text-align: right;\n",
       "    }\n",
       "</style>\n",
       "<table border=\"1\" class=\"dataframe\">\n",
       "  <thead>\n",
       "    <tr style=\"text-align: right;\">\n",
       "      <th></th>\n",
       "      <th>messages_included</th>\n",
       "      <th>gb_per_month_included</th>\n",
       "      <th>minutes_included</th>\n",
       "      <th>usd_monthly_pay</th>\n",
       "      <th>usd_per_gb</th>\n",
       "      <th>usd_per_message</th>\n",
       "      <th>usd_per_minute</th>\n",
       "      <th>plan_name</th>\n",
       "    </tr>\n",
       "  </thead>\n",
       "  <tbody>\n",
       "    <tr>\n",
       "      <th>0</th>\n",
       "      <td>50</td>\n",
       "      <td>15.0</td>\n",
       "      <td>500</td>\n",
       "      <td>20</td>\n",
       "      <td>10</td>\n",
       "      <td>0.03</td>\n",
       "      <td>0.03</td>\n",
       "      <td>surf</td>\n",
       "    </tr>\n",
       "    <tr>\n",
       "      <th>1</th>\n",
       "      <td>1000</td>\n",
       "      <td>30.0</td>\n",
       "      <td>3000</td>\n",
       "      <td>70</td>\n",
       "      <td>7</td>\n",
       "      <td>0.01</td>\n",
       "      <td>0.01</td>\n",
       "      <td>ultimate</td>\n",
       "    </tr>\n",
       "  </tbody>\n",
       "</table>\n",
       "</div>"
      ],
      "text/plain": [
       "   messages_included  gb_per_month_included  minutes_included  \\\n",
       "0                 50                   15.0               500   \n",
       "1               1000                   30.0              3000   \n",
       "\n",
       "   usd_monthly_pay  usd_per_gb  usd_per_message  usd_per_minute plan_name  \n",
       "0               20          10             0.03            0.03      surf  \n",
       "1               70           7             0.01            0.01  ultimate  "
      ]
     },
     "execution_count": 10,
     "metadata": {},
     "output_type": "execute_result"
    }
   ],
   "source": [
    "#change name of mb_per_month_included column\n",
    "megaline_plans.rename(columns = {'mb_per_month_included':'gb_per_month_included'}, inplace=True)\n",
    "megaline_plans"
   ]
  },
  {
   "cell_type": "markdown",
   "metadata": {},
   "source": [
    "## Users"
   ]
  },
  {
   "cell_type": "code",
   "execution_count": 11,
   "metadata": {},
   "outputs": [
    {
     "name": "stdout",
     "output_type": "stream",
     "text": [
      "<class 'pandas.core.frame.DataFrame'>\n",
      "RangeIndex: 500 entries, 0 to 499\n",
      "Data columns (total 8 columns):\n",
      " #   Column      Non-Null Count  Dtype \n",
      "---  ------      --------------  ----- \n",
      " 0   user_id     500 non-null    int64 \n",
      " 1   first_name  500 non-null    object\n",
      " 2   last_name   500 non-null    object\n",
      " 3   age         500 non-null    int64 \n",
      " 4   city        500 non-null    object\n",
      " 5   reg_date    500 non-null    object\n",
      " 6   plan        500 non-null    object\n",
      " 7   churn_date  34 non-null     object\n",
      "dtypes: int64(2), object(6)\n",
      "memory usage: 31.4+ KB\n"
     ]
    }
   ],
   "source": [
    "# Print the general/summary information about the users' DataFrame\n",
    "\n",
    "megaline_users.info()"
   ]
  },
  {
   "cell_type": "code",
   "execution_count": 12,
   "metadata": {},
   "outputs": [
    {
     "data": {
      "text/html": [
       "<div>\n",
       "<style scoped>\n",
       "    .dataframe tbody tr th:only-of-type {\n",
       "        vertical-align: middle;\n",
       "    }\n",
       "\n",
       "    .dataframe tbody tr th {\n",
       "        vertical-align: top;\n",
       "    }\n",
       "\n",
       "    .dataframe thead th {\n",
       "        text-align: right;\n",
       "    }\n",
       "</style>\n",
       "<table border=\"1\" class=\"dataframe\">\n",
       "  <thead>\n",
       "    <tr style=\"text-align: right;\">\n",
       "      <th></th>\n",
       "      <th>user_id</th>\n",
       "      <th>first_name</th>\n",
       "      <th>last_name</th>\n",
       "      <th>age</th>\n",
       "      <th>city</th>\n",
       "      <th>reg_date</th>\n",
       "      <th>plan</th>\n",
       "      <th>churn_date</th>\n",
       "    </tr>\n",
       "  </thead>\n",
       "  <tbody>\n",
       "    <tr>\n",
       "      <th>47</th>\n",
       "      <td>1047</td>\n",
       "      <td>Yuk</td>\n",
       "      <td>French</td>\n",
       "      <td>22</td>\n",
       "      <td>Indianapolis-Carmel-Anderson, IN MSA</td>\n",
       "      <td>2018-06-16</td>\n",
       "      <td>ultimate</td>\n",
       "      <td>NaN</td>\n",
       "    </tr>\n",
       "    <tr>\n",
       "      <th>294</th>\n",
       "      <td>1294</td>\n",
       "      <td>Demetrius</td>\n",
       "      <td>Russo</td>\n",
       "      <td>67</td>\n",
       "      <td>New York-Newark-Jersey City, NY-NJ-PA MSA</td>\n",
       "      <td>2018-04-19</td>\n",
       "      <td>surf</td>\n",
       "      <td>NaN</td>\n",
       "    </tr>\n",
       "    <tr>\n",
       "      <th>166</th>\n",
       "      <td>1166</td>\n",
       "      <td>Kaycee</td>\n",
       "      <td>Bryant</td>\n",
       "      <td>26</td>\n",
       "      <td>Baltimore-Columbia-Towson, MD MSA</td>\n",
       "      <td>2018-05-07</td>\n",
       "      <td>surf</td>\n",
       "      <td>NaN</td>\n",
       "    </tr>\n",
       "    <tr>\n",
       "      <th>147</th>\n",
       "      <td>1147</td>\n",
       "      <td>Duncan</td>\n",
       "      <td>Malone</td>\n",
       "      <td>71</td>\n",
       "      <td>Urban Honolulu, HI MSA</td>\n",
       "      <td>2018-04-30</td>\n",
       "      <td>surf</td>\n",
       "      <td>NaN</td>\n",
       "    </tr>\n",
       "    <tr>\n",
       "      <th>4</th>\n",
       "      <td>1004</td>\n",
       "      <td>Leonila</td>\n",
       "      <td>Thompson</td>\n",
       "      <td>40</td>\n",
       "      <td>Seattle-Tacoma-Bellevue, WA MSA</td>\n",
       "      <td>2018-05-23</td>\n",
       "      <td>surf</td>\n",
       "      <td>NaN</td>\n",
       "    </tr>\n",
       "  </tbody>\n",
       "</table>\n",
       "</div>"
      ],
      "text/plain": [
       "     user_id first_name last_name  age  \\\n",
       "47      1047        Yuk    French   22   \n",
       "294     1294  Demetrius     Russo   67   \n",
       "166     1166     Kaycee    Bryant   26   \n",
       "147     1147     Duncan    Malone   71   \n",
       "4       1004    Leonila  Thompson   40   \n",
       "\n",
       "                                          city    reg_date      plan  \\\n",
       "47        Indianapolis-Carmel-Anderson, IN MSA  2018-06-16  ultimate   \n",
       "294  New York-Newark-Jersey City, NY-NJ-PA MSA  2018-04-19      surf   \n",
       "166          Baltimore-Columbia-Towson, MD MSA  2018-05-07      surf   \n",
       "147                     Urban Honolulu, HI MSA  2018-04-30      surf   \n",
       "4              Seattle-Tacoma-Bellevue, WA MSA  2018-05-23      surf   \n",
       "\n",
       "    churn_date  \n",
       "47         NaN  \n",
       "294        NaN  \n",
       "166        NaN  \n",
       "147        NaN  \n",
       "4          NaN  "
      ]
     },
     "execution_count": 12,
     "metadata": {},
     "output_type": "execute_result"
    }
   ],
   "source": [
    "# Print a sample of data for users\n",
    "megaline_users.sample(5)\n"
   ]
  },
  {
   "cell_type": "markdown",
   "metadata": {},
   "source": [
    "As we see from the info we notice that the reg_date column dtype is an object rather than datetime. So we need to cheeck that. We are going to check for dups just to insure there isn't any repeating rows as well. We are also making it so there is a df with just  user_id and plan to add plans into other dataframes."
   ]
  },
  {
   "cell_type": "markdown",
   "metadata": {},
   "source": [
    " "
   ]
  },
  {
   "cell_type": "markdown",
   "metadata": {},
   "source": [
    "### Fix Data"
   ]
  },
  {
   "cell_type": "code",
   "execution_count": 13,
   "metadata": {},
   "outputs": [
    {
     "name": "stdout",
     "output_type": "stream",
     "text": [
      "0\n"
     ]
    }
   ],
   "source": [
    "#search for dups\n",
    "print(megaline_users.duplicated().sum())\n"
   ]
  },
  {
   "cell_type": "markdown",
   "metadata": {},
   "source": [
    "### Enrich Data"
   ]
  },
  {
   "cell_type": "markdown",
   "metadata": {},
   "source": [
    "[Add additional factors to the data if you believe they might be useful.]"
   ]
  },
  {
   "cell_type": "code",
   "execution_count": 14,
   "metadata": {},
   "outputs": [
    {
     "name": "stdout",
     "output_type": "stream",
     "text": [
      "<class 'pandas.core.frame.DataFrame'>\n",
      "RangeIndex: 500 entries, 0 to 499\n",
      "Data columns (total 8 columns):\n",
      " #   Column      Non-Null Count  Dtype         \n",
      "---  ------      --------------  -----         \n",
      " 0   user_id     500 non-null    int64         \n",
      " 1   first_name  500 non-null    object        \n",
      " 2   last_name   500 non-null    object        \n",
      " 3   age         500 non-null    int64         \n",
      " 4   city        500 non-null    object        \n",
      " 5   reg_date    500 non-null    datetime64[ns]\n",
      " 6   plan        500 non-null    object        \n",
      " 7   churn_date  34 non-null     object        \n",
      "dtypes: datetime64[ns](1), int64(2), object(5)\n",
      "memory usage: 31.4+ KB\n"
     ]
    },
    {
     "data": {
      "text/html": [
       "<div>\n",
       "<style scoped>\n",
       "    .dataframe tbody tr th:only-of-type {\n",
       "        vertical-align: middle;\n",
       "    }\n",
       "\n",
       "    .dataframe tbody tr th {\n",
       "        vertical-align: top;\n",
       "    }\n",
       "\n",
       "    .dataframe thead th {\n",
       "        text-align: right;\n",
       "    }\n",
       "</style>\n",
       "<table border=\"1\" class=\"dataframe\">\n",
       "  <thead>\n",
       "    <tr style=\"text-align: right;\">\n",
       "      <th></th>\n",
       "      <th>user_id</th>\n",
       "      <th>plan</th>\n",
       "    </tr>\n",
       "  </thead>\n",
       "  <tbody>\n",
       "    <tr>\n",
       "      <th>0</th>\n",
       "      <td>1000</td>\n",
       "      <td>ultimate</td>\n",
       "    </tr>\n",
       "    <tr>\n",
       "      <th>1</th>\n",
       "      <td>1001</td>\n",
       "      <td>surf</td>\n",
       "    </tr>\n",
       "    <tr>\n",
       "      <th>2</th>\n",
       "      <td>1002</td>\n",
       "      <td>surf</td>\n",
       "    </tr>\n",
       "    <tr>\n",
       "      <th>3</th>\n",
       "      <td>1003</td>\n",
       "      <td>surf</td>\n",
       "    </tr>\n",
       "    <tr>\n",
       "      <th>4</th>\n",
       "      <td>1004</td>\n",
       "      <td>surf</td>\n",
       "    </tr>\n",
       "    <tr>\n",
       "      <th>...</th>\n",
       "      <td>...</td>\n",
       "      <td>...</td>\n",
       "    </tr>\n",
       "    <tr>\n",
       "      <th>495</th>\n",
       "      <td>1495</td>\n",
       "      <td>surf</td>\n",
       "    </tr>\n",
       "    <tr>\n",
       "      <th>496</th>\n",
       "      <td>1496</td>\n",
       "      <td>surf</td>\n",
       "    </tr>\n",
       "    <tr>\n",
       "      <th>497</th>\n",
       "      <td>1497</td>\n",
       "      <td>ultimate</td>\n",
       "    </tr>\n",
       "    <tr>\n",
       "      <th>498</th>\n",
       "      <td>1498</td>\n",
       "      <td>surf</td>\n",
       "    </tr>\n",
       "    <tr>\n",
       "      <th>499</th>\n",
       "      <td>1499</td>\n",
       "      <td>surf</td>\n",
       "    </tr>\n",
       "  </tbody>\n",
       "</table>\n",
       "<p>500 rows × 2 columns</p>\n",
       "</div>"
      ],
      "text/plain": [
       "     user_id      plan\n",
       "0       1000  ultimate\n",
       "1       1001      surf\n",
       "2       1002      surf\n",
       "3       1003      surf\n",
       "4       1004      surf\n",
       "..       ...       ...\n",
       "495     1495      surf\n",
       "496     1496      surf\n",
       "497     1497  ultimate\n",
       "498     1498      surf\n",
       "499     1499      surf\n",
       "\n",
       "[500 rows x 2 columns]"
      ]
     },
     "execution_count": 14,
     "metadata": {},
     "output_type": "execute_result"
    }
   ],
   "source": [
    "#fixing date format on reg_date \n",
    "megaline_users['reg_date'] = pd.to_datetime(megaline_users['reg_date'], format='%Y-%m-%d')\n",
    "\n",
    "megaline_users.info()\n",
    "#making a table with only user_id and plan to allow us to see users plans more easily\n",
    "users_id = megaline_users[['user_id', 'plan']]\n",
    "users_id"
   ]
  },
  {
   "cell_type": "markdown",
   "metadata": {},
   "source": [
    "## Calls"
   ]
  },
  {
   "cell_type": "code",
   "execution_count": 15,
   "metadata": {},
   "outputs": [
    {
     "name": "stdout",
     "output_type": "stream",
     "text": [
      "<class 'pandas.core.frame.DataFrame'>\n",
      "RangeIndex: 137735 entries, 0 to 137734\n",
      "Data columns (total 4 columns):\n",
      " #   Column     Non-Null Count   Dtype  \n",
      "---  ------     --------------   -----  \n",
      " 0   id         137735 non-null  object \n",
      " 1   user_id    137735 non-null  int64  \n",
      " 2   call_date  137735 non-null  object \n",
      " 3   duration   137735 non-null  float64\n",
      "dtypes: float64(1), int64(1), object(2)\n",
      "memory usage: 4.2+ MB\n"
     ]
    }
   ],
   "source": [
    "# Print the general/summary information about the calls' DataFrame\n",
    "\n",
    "calls.info()\n"
   ]
  },
  {
   "cell_type": "code",
   "execution_count": 16,
   "metadata": {},
   "outputs": [
    {
     "data": {
      "text/html": [
       "<div>\n",
       "<style scoped>\n",
       "    .dataframe tbody tr th:only-of-type {\n",
       "        vertical-align: middle;\n",
       "    }\n",
       "\n",
       "    .dataframe tbody tr th {\n",
       "        vertical-align: top;\n",
       "    }\n",
       "\n",
       "    .dataframe thead th {\n",
       "        text-align: right;\n",
       "    }\n",
       "</style>\n",
       "<table border=\"1\" class=\"dataframe\">\n",
       "  <thead>\n",
       "    <tr style=\"text-align: right;\">\n",
       "      <th></th>\n",
       "      <th>id</th>\n",
       "      <th>user_id</th>\n",
       "      <th>call_date</th>\n",
       "      <th>duration</th>\n",
       "    </tr>\n",
       "  </thead>\n",
       "  <tbody>\n",
       "    <tr>\n",
       "      <th>39339</th>\n",
       "      <td>1147_62</td>\n",
       "      <td>1147</td>\n",
       "      <td>2018-05-14</td>\n",
       "      <td>14.30</td>\n",
       "    </tr>\n",
       "    <tr>\n",
       "      <th>130010</th>\n",
       "      <td>1467_246</td>\n",
       "      <td>1467</td>\n",
       "      <td>2018-05-25</td>\n",
       "      <td>3.82</td>\n",
       "    </tr>\n",
       "    <tr>\n",
       "      <th>100127</th>\n",
       "      <td>1358_611</td>\n",
       "      <td>1358</td>\n",
       "      <td>2018-07-19</td>\n",
       "      <td>9.86</td>\n",
       "    </tr>\n",
       "    <tr>\n",
       "      <th>60114</th>\n",
       "      <td>1216_99</td>\n",
       "      <td>1216</td>\n",
       "      <td>2018-12-14</td>\n",
       "      <td>18.92</td>\n",
       "    </tr>\n",
       "    <tr>\n",
       "      <th>15158</th>\n",
       "      <td>1061_100</td>\n",
       "      <td>1061</td>\n",
       "      <td>2018-11-01</td>\n",
       "      <td>19.86</td>\n",
       "    </tr>\n",
       "  </tbody>\n",
       "</table>\n",
       "</div>"
      ],
      "text/plain": [
       "              id  user_id   call_date  duration\n",
       "39339    1147_62     1147  2018-05-14     14.30\n",
       "130010  1467_246     1467  2018-05-25      3.82\n",
       "100127  1358_611     1358  2018-07-19      9.86\n",
       "60114    1216_99     1216  2018-12-14     18.92\n",
       "15158   1061_100     1061  2018-11-01     19.86"
      ]
     },
     "execution_count": 16,
     "metadata": {},
     "output_type": "execute_result"
    }
   ],
   "source": [
    "# Print a sample of data for calls\n",
    "calls.sample(5)"
   ]
  },
  {
   "cell_type": "markdown",
   "metadata": {},
   "source": [
    "The first thing we notice is that call_date is not set up in datatime format, so we have to fix that. We are going to check for any duplications just to ensure there isn't duplicated data. We are also going to make columns with the month and year by pulling from the call date to make things easier down the line when looking atr this data. "
   ]
  },
  {
   "cell_type": "markdown",
   "metadata": {},
   "source": [
    " "
   ]
  },
  {
   "cell_type": "markdown",
   "metadata": {},
   "source": [
    "### Fix data"
   ]
  },
  {
   "cell_type": "code",
   "execution_count": 17,
   "metadata": {},
   "outputs": [
    {
     "data": {
      "text/html": [
       "<div>\n",
       "<style scoped>\n",
       "    .dataframe tbody tr th:only-of-type {\n",
       "        vertical-align: middle;\n",
       "    }\n",
       "\n",
       "    .dataframe tbody tr th {\n",
       "        vertical-align: top;\n",
       "    }\n",
       "\n",
       "    .dataframe thead th {\n",
       "        text-align: right;\n",
       "    }\n",
       "</style>\n",
       "<table border=\"1\" class=\"dataframe\">\n",
       "  <thead>\n",
       "    <tr style=\"text-align: right;\">\n",
       "      <th></th>\n",
       "      <th>id</th>\n",
       "      <th>user_id</th>\n",
       "      <th>call_date</th>\n",
       "      <th>duration</th>\n",
       "    </tr>\n",
       "  </thead>\n",
       "  <tbody>\n",
       "    <tr>\n",
       "      <th>0</th>\n",
       "      <td>1000_93</td>\n",
       "      <td>1000</td>\n",
       "      <td>2018-12-27</td>\n",
       "      <td>9.0</td>\n",
       "    </tr>\n",
       "    <tr>\n",
       "      <th>1</th>\n",
       "      <td>1000_145</td>\n",
       "      <td>1000</td>\n",
       "      <td>2018-12-27</td>\n",
       "      <td>14.0</td>\n",
       "    </tr>\n",
       "    <tr>\n",
       "      <th>2</th>\n",
       "      <td>1000_247</td>\n",
       "      <td>1000</td>\n",
       "      <td>2018-12-27</td>\n",
       "      <td>15.0</td>\n",
       "    </tr>\n",
       "    <tr>\n",
       "      <th>3</th>\n",
       "      <td>1000_309</td>\n",
       "      <td>1000</td>\n",
       "      <td>2018-12-28</td>\n",
       "      <td>6.0</td>\n",
       "    </tr>\n",
       "    <tr>\n",
       "      <th>4</th>\n",
       "      <td>1000_380</td>\n",
       "      <td>1000</td>\n",
       "      <td>2018-12-30</td>\n",
       "      <td>5.0</td>\n",
       "    </tr>\n",
       "    <tr>\n",
       "      <th>...</th>\n",
       "      <td>...</td>\n",
       "      <td>...</td>\n",
       "      <td>...</td>\n",
       "      <td>...</td>\n",
       "    </tr>\n",
       "    <tr>\n",
       "      <th>137730</th>\n",
       "      <td>1499_199</td>\n",
       "      <td>1499</td>\n",
       "      <td>2018-11-21</td>\n",
       "      <td>9.0</td>\n",
       "    </tr>\n",
       "    <tr>\n",
       "      <th>137731</th>\n",
       "      <td>1499_200</td>\n",
       "      <td>1499</td>\n",
       "      <td>2018-10-20</td>\n",
       "      <td>11.0</td>\n",
       "    </tr>\n",
       "    <tr>\n",
       "      <th>137732</th>\n",
       "      <td>1499_201</td>\n",
       "      <td>1499</td>\n",
       "      <td>2018-09-21</td>\n",
       "      <td>9.0</td>\n",
       "    </tr>\n",
       "    <tr>\n",
       "      <th>137733</th>\n",
       "      <td>1499_202</td>\n",
       "      <td>1499</td>\n",
       "      <td>2018-10-10</td>\n",
       "      <td>1.0</td>\n",
       "    </tr>\n",
       "    <tr>\n",
       "      <th>137734</th>\n",
       "      <td>1499_203</td>\n",
       "      <td>1499</td>\n",
       "      <td>2018-12-29</td>\n",
       "      <td>14.0</td>\n",
       "    </tr>\n",
       "  </tbody>\n",
       "</table>\n",
       "<p>137735 rows × 4 columns</p>\n",
       "</div>"
      ],
      "text/plain": [
       "              id  user_id   call_date  duration\n",
       "0        1000_93     1000  2018-12-27       9.0\n",
       "1       1000_145     1000  2018-12-27      14.0\n",
       "2       1000_247     1000  2018-12-27      15.0\n",
       "3       1000_309     1000  2018-12-28       6.0\n",
       "4       1000_380     1000  2018-12-30       5.0\n",
       "...          ...      ...         ...       ...\n",
       "137730  1499_199     1499  2018-11-21       9.0\n",
       "137731  1499_200     1499  2018-10-20      11.0\n",
       "137732  1499_201     1499  2018-09-21       9.0\n",
       "137733  1499_202     1499  2018-10-10       1.0\n",
       "137734  1499_203     1499  2018-12-29      14.0\n",
       "\n",
       "[137735 rows x 4 columns]"
      ]
     },
     "execution_count": 17,
     "metadata": {},
     "output_type": "execute_result"
    }
   ],
   "source": [
    "#search for dups\n",
    "calls.duplicated().sum()\n",
    "# round up duration to the nearest min\n",
    "calls['duration'] = np.ceil(calls['duration'])\n",
    "calls"
   ]
  },
  {
   "cell_type": "markdown",
   "metadata": {},
   "source": [
    "### Enrich data"
   ]
  },
  {
   "cell_type": "code",
   "execution_count": 18,
   "metadata": {
    "scrolled": true
   },
   "outputs": [
    {
     "name": "stdout",
     "output_type": "stream",
     "text": [
      "<class 'pandas.core.frame.DataFrame'>\n",
      "RangeIndex: 137735 entries, 0 to 137734\n",
      "Data columns (total 6 columns):\n",
      " #   Column     Non-Null Count   Dtype         \n",
      "---  ------     --------------   -----         \n",
      " 0   id         137735 non-null  object        \n",
      " 1   user_id    137735 non-null  int64         \n",
      " 2   call_date  137735 non-null  datetime64[ns]\n",
      " 3   duration   137735 non-null  float64       \n",
      " 4   month      137735 non-null  int64         \n",
      " 5   year       137735 non-null  int64         \n",
      "dtypes: datetime64[ns](1), float64(1), int64(3), object(1)\n",
      "memory usage: 6.3+ MB\n"
     ]
    }
   ],
   "source": [
    "calls['call_date'] = pd.to_datetime(calls['call_date'], format='%Y-%m-%d')\n",
    "calls['month'] = calls['call_date'].dt.month\n",
    "calls['year'] = calls['call_date'].dt.year\n",
    "calls.info()"
   ]
  },
  {
   "cell_type": "markdown",
   "metadata": {},
   "source": [
    "## Messages"
   ]
  },
  {
   "cell_type": "code",
   "execution_count": 19,
   "metadata": {},
   "outputs": [
    {
     "name": "stdout",
     "output_type": "stream",
     "text": [
      "<class 'pandas.core.frame.DataFrame'>\n",
      "RangeIndex: 76051 entries, 0 to 76050\n",
      "Data columns (total 3 columns):\n",
      " #   Column        Non-Null Count  Dtype \n",
      "---  ------        --------------  ----- \n",
      " 0   id            76051 non-null  object\n",
      " 1   user_id       76051 non-null  int64 \n",
      " 2   message_date  76051 non-null  object\n",
      "dtypes: int64(1), object(2)\n",
      "memory usage: 1.7+ MB\n"
     ]
    }
   ],
   "source": [
    "# Print the general/summary information about the messages' DataFrame\n",
    "messages.info()\n"
   ]
  },
  {
   "cell_type": "code",
   "execution_count": 20,
   "metadata": {},
   "outputs": [
    {
     "data": {
      "text/html": [
       "<div>\n",
       "<style scoped>\n",
       "    .dataframe tbody tr th:only-of-type {\n",
       "        vertical-align: middle;\n",
       "    }\n",
       "\n",
       "    .dataframe tbody tr th {\n",
       "        vertical-align: top;\n",
       "    }\n",
       "\n",
       "    .dataframe thead th {\n",
       "        text-align: right;\n",
       "    }\n",
       "</style>\n",
       "<table border=\"1\" class=\"dataframe\">\n",
       "  <thead>\n",
       "    <tr style=\"text-align: right;\">\n",
       "      <th></th>\n",
       "      <th>id</th>\n",
       "      <th>user_id</th>\n",
       "      <th>message_date</th>\n",
       "    </tr>\n",
       "  </thead>\n",
       "  <tbody>\n",
       "    <tr>\n",
       "      <th>5184</th>\n",
       "      <td>1051_14</td>\n",
       "      <td>1051</td>\n",
       "      <td>2018-12-30</td>\n",
       "    </tr>\n",
       "    <tr>\n",
       "      <th>33361</th>\n",
       "      <td>1211_37</td>\n",
       "      <td>1211</td>\n",
       "      <td>2018-08-30</td>\n",
       "    </tr>\n",
       "    <tr>\n",
       "      <th>45797</th>\n",
       "      <td>1312_281</td>\n",
       "      <td>1312</td>\n",
       "      <td>2018-09-12</td>\n",
       "    </tr>\n",
       "    <tr>\n",
       "      <th>49101</th>\n",
       "      <td>1328_59</td>\n",
       "      <td>1328</td>\n",
       "      <td>2018-08-07</td>\n",
       "    </tr>\n",
       "    <tr>\n",
       "      <th>68731</th>\n",
       "      <td>1444_214</td>\n",
       "      <td>1444</td>\n",
       "      <td>2018-11-19</td>\n",
       "    </tr>\n",
       "  </tbody>\n",
       "</table>\n",
       "</div>"
      ],
      "text/plain": [
       "             id  user_id message_date\n",
       "5184    1051_14     1051   2018-12-30\n",
       "33361   1211_37     1211   2018-08-30\n",
       "45797  1312_281     1312   2018-09-12\n",
       "49101   1328_59     1328   2018-08-07\n",
       "68731  1444_214     1444   2018-11-19"
      ]
     },
     "execution_count": 20,
     "metadata": {},
     "output_type": "execute_result"
    }
   ],
   "source": [
    "# Print a sample of data for message\n",
    "messages.sample(5)\n"
   ]
  },
  {
   "cell_type": "markdown",
   "metadata": {},
   "source": [
    "In the message_date column we are going to make that a datetime format. We are going to be adding in a month and a year column as well to work with later. And then we'll be looking at things to see if there are any duplicates. "
   ]
  },
  {
   "cell_type": "markdown",
   "metadata": {},
   "source": [
    " "
   ]
  },
  {
   "cell_type": "markdown",
   "metadata": {},
   "source": [
    "### Fix data"
   ]
  },
  {
   "cell_type": "code",
   "execution_count": 21,
   "metadata": {},
   "outputs": [
    {
     "data": {
      "text/plain": [
       "0"
      ]
     },
     "execution_count": 21,
     "metadata": {},
     "output_type": "execute_result"
    }
   ],
   "source": [
    "#search for dups\n",
    "messages.duplicated().sum()"
   ]
  },
  {
   "cell_type": "markdown",
   "metadata": {},
   "source": [
    "### Enrich data"
   ]
  },
  {
   "cell_type": "code",
   "execution_count": 22,
   "metadata": {},
   "outputs": [
    {
     "name": "stdout",
     "output_type": "stream",
     "text": [
      "<class 'pandas.core.frame.DataFrame'>\n",
      "RangeIndex: 76051 entries, 0 to 76050\n",
      "Data columns (total 5 columns):\n",
      " #   Column        Non-Null Count  Dtype         \n",
      "---  ------        --------------  -----         \n",
      " 0   id            76051 non-null  object        \n",
      " 1   user_id       76051 non-null  int64         \n",
      " 2   message_date  76051 non-null  datetime64[ns]\n",
      " 3   year          76051 non-null  int64         \n",
      " 4   month         76051 non-null  int64         \n",
      "dtypes: datetime64[ns](1), int64(3), object(1)\n",
      "memory usage: 2.9+ MB\n"
     ]
    },
    {
     "data": {
      "text/html": [
       "<div>\n",
       "<style scoped>\n",
       "    .dataframe tbody tr th:only-of-type {\n",
       "        vertical-align: middle;\n",
       "    }\n",
       "\n",
       "    .dataframe tbody tr th {\n",
       "        vertical-align: top;\n",
       "    }\n",
       "\n",
       "    .dataframe thead th {\n",
       "        text-align: right;\n",
       "    }\n",
       "</style>\n",
       "<table border=\"1\" class=\"dataframe\">\n",
       "  <thead>\n",
       "    <tr style=\"text-align: right;\">\n",
       "      <th></th>\n",
       "      <th>id</th>\n",
       "      <th>user_id</th>\n",
       "      <th>message_date</th>\n",
       "      <th>year</th>\n",
       "      <th>month</th>\n",
       "    </tr>\n",
       "  </thead>\n",
       "  <tbody>\n",
       "    <tr>\n",
       "      <th>0</th>\n",
       "      <td>1000_125</td>\n",
       "      <td>1000</td>\n",
       "      <td>2018-12-27</td>\n",
       "      <td>2018</td>\n",
       "      <td>12</td>\n",
       "    </tr>\n",
       "    <tr>\n",
       "      <th>1</th>\n",
       "      <td>1000_160</td>\n",
       "      <td>1000</td>\n",
       "      <td>2018-12-31</td>\n",
       "      <td>2018</td>\n",
       "      <td>12</td>\n",
       "    </tr>\n",
       "    <tr>\n",
       "      <th>2</th>\n",
       "      <td>1000_223</td>\n",
       "      <td>1000</td>\n",
       "      <td>2018-12-31</td>\n",
       "      <td>2018</td>\n",
       "      <td>12</td>\n",
       "    </tr>\n",
       "    <tr>\n",
       "      <th>3</th>\n",
       "      <td>1000_251</td>\n",
       "      <td>1000</td>\n",
       "      <td>2018-12-27</td>\n",
       "      <td>2018</td>\n",
       "      <td>12</td>\n",
       "    </tr>\n",
       "    <tr>\n",
       "      <th>4</th>\n",
       "      <td>1000_255</td>\n",
       "      <td>1000</td>\n",
       "      <td>2018-12-26</td>\n",
       "      <td>2018</td>\n",
       "      <td>12</td>\n",
       "    </tr>\n",
       "    <tr>\n",
       "      <th>...</th>\n",
       "      <td>...</td>\n",
       "      <td>...</td>\n",
       "      <td>...</td>\n",
       "      <td>...</td>\n",
       "      <td>...</td>\n",
       "    </tr>\n",
       "    <tr>\n",
       "      <th>76046</th>\n",
       "      <td>1497_526</td>\n",
       "      <td>1497</td>\n",
       "      <td>2018-12-24</td>\n",
       "      <td>2018</td>\n",
       "      <td>12</td>\n",
       "    </tr>\n",
       "    <tr>\n",
       "      <th>76047</th>\n",
       "      <td>1497_536</td>\n",
       "      <td>1497</td>\n",
       "      <td>2018-12-24</td>\n",
       "      <td>2018</td>\n",
       "      <td>12</td>\n",
       "    </tr>\n",
       "    <tr>\n",
       "      <th>76048</th>\n",
       "      <td>1497_547</td>\n",
       "      <td>1497</td>\n",
       "      <td>2018-12-31</td>\n",
       "      <td>2018</td>\n",
       "      <td>12</td>\n",
       "    </tr>\n",
       "    <tr>\n",
       "      <th>76049</th>\n",
       "      <td>1497_558</td>\n",
       "      <td>1497</td>\n",
       "      <td>2018-12-24</td>\n",
       "      <td>2018</td>\n",
       "      <td>12</td>\n",
       "    </tr>\n",
       "    <tr>\n",
       "      <th>76050</th>\n",
       "      <td>1497_613</td>\n",
       "      <td>1497</td>\n",
       "      <td>2018-12-23</td>\n",
       "      <td>2018</td>\n",
       "      <td>12</td>\n",
       "    </tr>\n",
       "  </tbody>\n",
       "</table>\n",
       "<p>76051 rows × 5 columns</p>\n",
       "</div>"
      ],
      "text/plain": [
       "             id  user_id message_date  year  month\n",
       "0      1000_125     1000   2018-12-27  2018     12\n",
       "1      1000_160     1000   2018-12-31  2018     12\n",
       "2      1000_223     1000   2018-12-31  2018     12\n",
       "3      1000_251     1000   2018-12-27  2018     12\n",
       "4      1000_255     1000   2018-12-26  2018     12\n",
       "...         ...      ...          ...   ...    ...\n",
       "76046  1497_526     1497   2018-12-24  2018     12\n",
       "76047  1497_536     1497   2018-12-24  2018     12\n",
       "76048  1497_547     1497   2018-12-31  2018     12\n",
       "76049  1497_558     1497   2018-12-24  2018     12\n",
       "76050  1497_613     1497   2018-12-23  2018     12\n",
       "\n",
       "[76051 rows x 5 columns]"
      ]
     },
     "execution_count": 22,
     "metadata": {},
     "output_type": "execute_result"
    }
   ],
   "source": [
    "#change message datetime format\n",
    "messages['message_date'] =  pd.to_datetime(messages['message_date'], format='%Y-%m-%d')\n",
    "messages['year'] = messages['message_date'].dt.year\n",
    "messages['month'] = messages['message_date'].dt.month\n",
    "messages.info()\n",
    "messages"
   ]
  },
  {
   "cell_type": "markdown",
   "metadata": {},
   "source": [
    "## Internet"
   ]
  },
  {
   "cell_type": "code",
   "execution_count": 23,
   "metadata": {},
   "outputs": [
    {
     "name": "stdout",
     "output_type": "stream",
     "text": [
      "<class 'pandas.core.frame.DataFrame'>\n",
      "RangeIndex: 104825 entries, 0 to 104824\n",
      "Data columns (total 4 columns):\n",
      " #   Column        Non-Null Count   Dtype  \n",
      "---  ------        --------------   -----  \n",
      " 0   id            104825 non-null  object \n",
      " 1   user_id       104825 non-null  int64  \n",
      " 2   session_date  104825 non-null  object \n",
      " 3   mb_used       104825 non-null  float64\n",
      "dtypes: float64(1), int64(1), object(2)\n",
      "memory usage: 3.2+ MB\n"
     ]
    }
   ],
   "source": [
    "# Print the general/summary information about the internet DataFrame\n",
    "internet.info()\n"
   ]
  },
  {
   "cell_type": "code",
   "execution_count": 24,
   "metadata": {},
   "outputs": [
    {
     "data": {
      "text/html": [
       "<div>\n",
       "<style scoped>\n",
       "    .dataframe tbody tr th:only-of-type {\n",
       "        vertical-align: middle;\n",
       "    }\n",
       "\n",
       "    .dataframe tbody tr th {\n",
       "        vertical-align: top;\n",
       "    }\n",
       "\n",
       "    .dataframe thead th {\n",
       "        text-align: right;\n",
       "    }\n",
       "</style>\n",
       "<table border=\"1\" class=\"dataframe\">\n",
       "  <thead>\n",
       "    <tr style=\"text-align: right;\">\n",
       "      <th></th>\n",
       "      <th>id</th>\n",
       "      <th>user_id</th>\n",
       "      <th>session_date</th>\n",
       "      <th>mb_used</th>\n",
       "    </tr>\n",
       "  </thead>\n",
       "  <tbody>\n",
       "    <tr>\n",
       "      <th>62199</th>\n",
       "      <td>1283_97</td>\n",
       "      <td>1283</td>\n",
       "      <td>2018-12-11</td>\n",
       "      <td>386.68</td>\n",
       "    </tr>\n",
       "    <tr>\n",
       "      <th>29544</th>\n",
       "      <td>1134_474</td>\n",
       "      <td>1134</td>\n",
       "      <td>2018-10-23</td>\n",
       "      <td>172.67</td>\n",
       "    </tr>\n",
       "    <tr>\n",
       "      <th>4143</th>\n",
       "      <td>1026_50</td>\n",
       "      <td>1026</td>\n",
       "      <td>2018-07-29</td>\n",
       "      <td>721.53</td>\n",
       "    </tr>\n",
       "    <tr>\n",
       "      <th>36640</th>\n",
       "      <td>1164_323</td>\n",
       "      <td>1164</td>\n",
       "      <td>2018-06-23</td>\n",
       "      <td>656.63</td>\n",
       "    </tr>\n",
       "    <tr>\n",
       "      <th>19529</th>\n",
       "      <td>1088_303</td>\n",
       "      <td>1088</td>\n",
       "      <td>2018-05-30</td>\n",
       "      <td>0.00</td>\n",
       "    </tr>\n",
       "  </tbody>\n",
       "</table>\n",
       "</div>"
      ],
      "text/plain": [
       "             id  user_id session_date  mb_used\n",
       "62199   1283_97     1283   2018-12-11   386.68\n",
       "29544  1134_474     1134   2018-10-23   172.67\n",
       "4143    1026_50     1026   2018-07-29   721.53\n",
       "36640  1164_323     1164   2018-06-23   656.63\n",
       "19529  1088_303     1088   2018-05-30     0.00"
      ]
     },
     "execution_count": 24,
     "metadata": {},
     "output_type": "execute_result"
    }
   ],
   "source": [
    "# Print a sample of data for the internet traffic\n",
    "internet.sample(5)\n"
   ]
  },
  {
   "cell_type": "markdown",
   "metadata": {},
   "source": [
    "Just like the last two df we worked with we need to put session_date to datetime format and make a month and year column for them for sakes down the line. And then check for duplicates."
   ]
  },
  {
   "cell_type": "markdown",
   "metadata": {},
   "source": [
    " "
   ]
  },
  {
   "cell_type": "markdown",
   "metadata": {},
   "source": [
    "### Fix data"
   ]
  },
  {
   "cell_type": "code",
   "execution_count": 25,
   "metadata": {},
   "outputs": [
    {
     "data": {
      "text/plain": [
       "0"
      ]
     },
     "execution_count": 25,
     "metadata": {},
     "output_type": "execute_result"
    }
   ],
   "source": [
    "#check for duplicates\n",
    "internet.duplicated().sum()"
   ]
  },
  {
   "cell_type": "markdown",
   "metadata": {},
   "source": [
    "### Enrich data"
   ]
  },
  {
   "cell_type": "code",
   "execution_count": 26,
   "metadata": {},
   "outputs": [
    {
     "name": "stdout",
     "output_type": "stream",
     "text": [
      "<class 'pandas.core.frame.DataFrame'>\n",
      "RangeIndex: 104825 entries, 0 to 104824\n",
      "Data columns (total 6 columns):\n",
      " #   Column        Non-Null Count   Dtype         \n",
      "---  ------        --------------   -----         \n",
      " 0   id            104825 non-null  object        \n",
      " 1   user_id       104825 non-null  int64         \n",
      " 2   session_date  104825 non-null  datetime64[ns]\n",
      " 3   mb_used       104825 non-null  float64       \n",
      " 4   month         104825 non-null  int64         \n",
      " 5   year          104825 non-null  int64         \n",
      "dtypes: datetime64[ns](1), float64(1), int64(3), object(1)\n",
      "memory usage: 4.8+ MB\n"
     ]
    },
    {
     "data": {
      "text/html": [
       "<div>\n",
       "<style scoped>\n",
       "    .dataframe tbody tr th:only-of-type {\n",
       "        vertical-align: middle;\n",
       "    }\n",
       "\n",
       "    .dataframe tbody tr th {\n",
       "        vertical-align: top;\n",
       "    }\n",
       "\n",
       "    .dataframe thead th {\n",
       "        text-align: right;\n",
       "    }\n",
       "</style>\n",
       "<table border=\"1\" class=\"dataframe\">\n",
       "  <thead>\n",
       "    <tr style=\"text-align: right;\">\n",
       "      <th></th>\n",
       "      <th>id</th>\n",
       "      <th>user_id</th>\n",
       "      <th>session_date</th>\n",
       "      <th>mb_used</th>\n",
       "      <th>month</th>\n",
       "      <th>year</th>\n",
       "    </tr>\n",
       "  </thead>\n",
       "  <tbody>\n",
       "    <tr>\n",
       "      <th>0</th>\n",
       "      <td>1000_13</td>\n",
       "      <td>1000</td>\n",
       "      <td>2018-12-29</td>\n",
       "      <td>89.86</td>\n",
       "      <td>12</td>\n",
       "      <td>2018</td>\n",
       "    </tr>\n",
       "    <tr>\n",
       "      <th>1</th>\n",
       "      <td>1000_204</td>\n",
       "      <td>1000</td>\n",
       "      <td>2018-12-31</td>\n",
       "      <td>0.00</td>\n",
       "      <td>12</td>\n",
       "      <td>2018</td>\n",
       "    </tr>\n",
       "    <tr>\n",
       "      <th>2</th>\n",
       "      <td>1000_379</td>\n",
       "      <td>1000</td>\n",
       "      <td>2018-12-28</td>\n",
       "      <td>660.40</td>\n",
       "      <td>12</td>\n",
       "      <td>2018</td>\n",
       "    </tr>\n",
       "    <tr>\n",
       "      <th>3</th>\n",
       "      <td>1000_413</td>\n",
       "      <td>1000</td>\n",
       "      <td>2018-12-26</td>\n",
       "      <td>270.99</td>\n",
       "      <td>12</td>\n",
       "      <td>2018</td>\n",
       "    </tr>\n",
       "    <tr>\n",
       "      <th>4</th>\n",
       "      <td>1000_442</td>\n",
       "      <td>1000</td>\n",
       "      <td>2018-12-27</td>\n",
       "      <td>880.22</td>\n",
       "      <td>12</td>\n",
       "      <td>2018</td>\n",
       "    </tr>\n",
       "    <tr>\n",
       "      <th>...</th>\n",
       "      <td>...</td>\n",
       "      <td>...</td>\n",
       "      <td>...</td>\n",
       "      <td>...</td>\n",
       "      <td>...</td>\n",
       "      <td>...</td>\n",
       "    </tr>\n",
       "    <tr>\n",
       "      <th>104820</th>\n",
       "      <td>1499_215</td>\n",
       "      <td>1499</td>\n",
       "      <td>2018-10-20</td>\n",
       "      <td>218.06</td>\n",
       "      <td>10</td>\n",
       "      <td>2018</td>\n",
       "    </tr>\n",
       "    <tr>\n",
       "      <th>104821</th>\n",
       "      <td>1499_216</td>\n",
       "      <td>1499</td>\n",
       "      <td>2018-12-30</td>\n",
       "      <td>304.72</td>\n",
       "      <td>12</td>\n",
       "      <td>2018</td>\n",
       "    </tr>\n",
       "    <tr>\n",
       "      <th>104822</th>\n",
       "      <td>1499_217</td>\n",
       "      <td>1499</td>\n",
       "      <td>2018-09-22</td>\n",
       "      <td>292.75</td>\n",
       "      <td>9</td>\n",
       "      <td>2018</td>\n",
       "    </tr>\n",
       "    <tr>\n",
       "      <th>104823</th>\n",
       "      <td>1499_218</td>\n",
       "      <td>1499</td>\n",
       "      <td>2018-12-07</td>\n",
       "      <td>0.00</td>\n",
       "      <td>12</td>\n",
       "      <td>2018</td>\n",
       "    </tr>\n",
       "    <tr>\n",
       "      <th>104824</th>\n",
       "      <td>1499_219</td>\n",
       "      <td>1499</td>\n",
       "      <td>2018-12-24</td>\n",
       "      <td>758.31</td>\n",
       "      <td>12</td>\n",
       "      <td>2018</td>\n",
       "    </tr>\n",
       "  </tbody>\n",
       "</table>\n",
       "<p>104825 rows × 6 columns</p>\n",
       "</div>"
      ],
      "text/plain": [
       "              id  user_id session_date  mb_used  month  year\n",
       "0        1000_13     1000   2018-12-29    89.86     12  2018\n",
       "1       1000_204     1000   2018-12-31     0.00     12  2018\n",
       "2       1000_379     1000   2018-12-28   660.40     12  2018\n",
       "3       1000_413     1000   2018-12-26   270.99     12  2018\n",
       "4       1000_442     1000   2018-12-27   880.22     12  2018\n",
       "...          ...      ...          ...      ...    ...   ...\n",
       "104820  1499_215     1499   2018-10-20   218.06     10  2018\n",
       "104821  1499_216     1499   2018-12-30   304.72     12  2018\n",
       "104822  1499_217     1499   2018-09-22   292.75      9  2018\n",
       "104823  1499_218     1499   2018-12-07     0.00     12  2018\n",
       "104824  1499_219     1499   2018-12-24   758.31     12  2018\n",
       "\n",
       "[104825 rows x 6 columns]"
      ]
     },
     "execution_count": 26,
     "metadata": {},
     "output_type": "execute_result"
    }
   ],
   "source": [
    "#format session date into datetime format\n",
    "internet['session_date'] = pd.to_datetime(internet['session_date'], format='%Y-%m-%d')\n",
    "internet['month'] = internet['session_date'].dt.month\n",
    "internet['year'] = internet['session_date'].dt.year\n",
    "internet.info()\n",
    "internet"
   ]
  },
  {
   "cell_type": "markdown",
   "metadata": {},
   "source": [
    "## Study plan conditions"
   ]
  },
  {
   "cell_type": "code",
   "execution_count": 27,
   "metadata": {},
   "outputs": [
    {
     "data": {
      "text/html": [
       "<div>\n",
       "<style scoped>\n",
       "    .dataframe tbody tr th:only-of-type {\n",
       "        vertical-align: middle;\n",
       "    }\n",
       "\n",
       "    .dataframe tbody tr th {\n",
       "        vertical-align: top;\n",
       "    }\n",
       "\n",
       "    .dataframe thead th {\n",
       "        text-align: right;\n",
       "    }\n",
       "</style>\n",
       "<table border=\"1\" class=\"dataframe\">\n",
       "  <thead>\n",
       "    <tr style=\"text-align: right;\">\n",
       "      <th></th>\n",
       "      <th>messages_included</th>\n",
       "      <th>gb_per_month_included</th>\n",
       "      <th>minutes_included</th>\n",
       "      <th>usd_monthly_pay</th>\n",
       "      <th>usd_per_gb</th>\n",
       "      <th>usd_per_message</th>\n",
       "      <th>usd_per_minute</th>\n",
       "      <th>plan_name</th>\n",
       "    </tr>\n",
       "  </thead>\n",
       "  <tbody>\n",
       "    <tr>\n",
       "      <th>0</th>\n",
       "      <td>50</td>\n",
       "      <td>15.0</td>\n",
       "      <td>500</td>\n",
       "      <td>20</td>\n",
       "      <td>10</td>\n",
       "      <td>0.03</td>\n",
       "      <td>0.03</td>\n",
       "      <td>surf</td>\n",
       "    </tr>\n",
       "    <tr>\n",
       "      <th>1</th>\n",
       "      <td>1000</td>\n",
       "      <td>30.0</td>\n",
       "      <td>3000</td>\n",
       "      <td>70</td>\n",
       "      <td>7</td>\n",
       "      <td>0.01</td>\n",
       "      <td>0.01</td>\n",
       "      <td>ultimate</td>\n",
       "    </tr>\n",
       "  </tbody>\n",
       "</table>\n",
       "</div>"
      ],
      "text/plain": [
       "   messages_included  gb_per_month_included  minutes_included  \\\n",
       "0                 50                   15.0               500   \n",
       "1               1000                   30.0              3000   \n",
       "\n",
       "   usd_monthly_pay  usd_per_gb  usd_per_message  usd_per_minute plan_name  \n",
       "0               20          10             0.03            0.03      surf  \n",
       "1               70           7             0.01            0.01  ultimate  "
      ]
     },
     "execution_count": 27,
     "metadata": {},
     "output_type": "execute_result"
    }
   ],
   "source": [
    "# Print out the plan conditions and make sure they are clear for you\n",
    "megaline_plans\n"
   ]
  },
  {
   "cell_type": "markdown",
   "metadata": {},
   "source": [
    "## Aggregate data per user\n"
   ]
  },
  {
   "cell_type": "code",
   "execution_count": 28,
   "metadata": {},
   "outputs": [
    {
     "data": {
      "text/html": [
       "<div>\n",
       "<style scoped>\n",
       "    .dataframe tbody tr th:only-of-type {\n",
       "        vertical-align: middle;\n",
       "    }\n",
       "\n",
       "    .dataframe tbody tr th {\n",
       "        vertical-align: top;\n",
       "    }\n",
       "\n",
       "    .dataframe thead th {\n",
       "        text-align: right;\n",
       "    }\n",
       "</style>\n",
       "<table border=\"1\" class=\"dataframe\">\n",
       "  <thead>\n",
       "    <tr style=\"text-align: right;\">\n",
       "      <th></th>\n",
       "      <th>user_id</th>\n",
       "      <th>year</th>\n",
       "      <th>month</th>\n",
       "      <th>call_count</th>\n",
       "    </tr>\n",
       "  </thead>\n",
       "  <tbody>\n",
       "    <tr>\n",
       "      <th>0</th>\n",
       "      <td>1000</td>\n",
       "      <td>2018</td>\n",
       "      <td>12</td>\n",
       "      <td>16</td>\n",
       "    </tr>\n",
       "    <tr>\n",
       "      <th>1</th>\n",
       "      <td>1001</td>\n",
       "      <td>2018</td>\n",
       "      <td>8</td>\n",
       "      <td>27</td>\n",
       "    </tr>\n",
       "    <tr>\n",
       "      <th>2</th>\n",
       "      <td>1001</td>\n",
       "      <td>2018</td>\n",
       "      <td>9</td>\n",
       "      <td>49</td>\n",
       "    </tr>\n",
       "    <tr>\n",
       "      <th>3</th>\n",
       "      <td>1001</td>\n",
       "      <td>2018</td>\n",
       "      <td>10</td>\n",
       "      <td>65</td>\n",
       "    </tr>\n",
       "    <tr>\n",
       "      <th>4</th>\n",
       "      <td>1001</td>\n",
       "      <td>2018</td>\n",
       "      <td>11</td>\n",
       "      <td>64</td>\n",
       "    </tr>\n",
       "    <tr>\n",
       "      <th>...</th>\n",
       "      <td>...</td>\n",
       "      <td>...</td>\n",
       "      <td>...</td>\n",
       "      <td>...</td>\n",
       "    </tr>\n",
       "    <tr>\n",
       "      <th>2253</th>\n",
       "      <td>1498</td>\n",
       "      <td>2018</td>\n",
       "      <td>12</td>\n",
       "      <td>39</td>\n",
       "    </tr>\n",
       "    <tr>\n",
       "      <th>2254</th>\n",
       "      <td>1499</td>\n",
       "      <td>2018</td>\n",
       "      <td>9</td>\n",
       "      <td>41</td>\n",
       "    </tr>\n",
       "    <tr>\n",
       "      <th>2255</th>\n",
       "      <td>1499</td>\n",
       "      <td>2018</td>\n",
       "      <td>10</td>\n",
       "      <td>53</td>\n",
       "    </tr>\n",
       "    <tr>\n",
       "      <th>2256</th>\n",
       "      <td>1499</td>\n",
       "      <td>2018</td>\n",
       "      <td>11</td>\n",
       "      <td>45</td>\n",
       "    </tr>\n",
       "    <tr>\n",
       "      <th>2257</th>\n",
       "      <td>1499</td>\n",
       "      <td>2018</td>\n",
       "      <td>12</td>\n",
       "      <td>65</td>\n",
       "    </tr>\n",
       "  </tbody>\n",
       "</table>\n",
       "<p>2258 rows × 4 columns</p>\n",
       "</div>"
      ],
      "text/plain": [
       "      user_id  year  month  call_count\n",
       "0        1000  2018     12          16\n",
       "1        1001  2018      8          27\n",
       "2        1001  2018      9          49\n",
       "3        1001  2018     10          65\n",
       "4        1001  2018     11          64\n",
       "...       ...   ...    ...         ...\n",
       "2253     1498  2018     12          39\n",
       "2254     1499  2018      9          41\n",
       "2255     1499  2018     10          53\n",
       "2256     1499  2018     11          45\n",
       "2257     1499  2018     12          65\n",
       "\n",
       "[2258 rows x 4 columns]"
      ]
     },
     "execution_count": 28,
     "metadata": {},
     "output_type": "execute_result"
    }
   ],
   "source": [
    "# Calculate the number of calls made by each user per month. Save the result.\n",
    "\n",
    "\n",
    "#call groupby to sort user_id by year and month\n",
    "calls_per_month = calls.groupby(['user_id', 'year', 'month']).size().reset_index(name='call_count')\n",
    "calls_per_month\n",
    "\n"
   ]
  },
  {
   "cell_type": "code",
   "execution_count": 29,
   "metadata": {},
   "outputs": [
    {
     "data": {
      "text/html": [
       "<div>\n",
       "<style scoped>\n",
       "    .dataframe tbody tr th:only-of-type {\n",
       "        vertical-align: middle;\n",
       "    }\n",
       "\n",
       "    .dataframe tbody tr th {\n",
       "        vertical-align: top;\n",
       "    }\n",
       "\n",
       "    .dataframe thead th {\n",
       "        text-align: right;\n",
       "    }\n",
       "</style>\n",
       "<table border=\"1\" class=\"dataframe\">\n",
       "  <thead>\n",
       "    <tr style=\"text-align: right;\">\n",
       "      <th></th>\n",
       "      <th>user_id</th>\n",
       "      <th>month</th>\n",
       "      <th>year</th>\n",
       "      <th>total_minutes</th>\n",
       "    </tr>\n",
       "  </thead>\n",
       "  <tbody>\n",
       "    <tr>\n",
       "      <th>0</th>\n",
       "      <td>1000</td>\n",
       "      <td>12</td>\n",
       "      <td>2018</td>\n",
       "      <td>124.0</td>\n",
       "    </tr>\n",
       "    <tr>\n",
       "      <th>1</th>\n",
       "      <td>1001</td>\n",
       "      <td>8</td>\n",
       "      <td>2018</td>\n",
       "      <td>182.0</td>\n",
       "    </tr>\n",
       "    <tr>\n",
       "      <th>2</th>\n",
       "      <td>1001</td>\n",
       "      <td>9</td>\n",
       "      <td>2018</td>\n",
       "      <td>315.0</td>\n",
       "    </tr>\n",
       "    <tr>\n",
       "      <th>3</th>\n",
       "      <td>1001</td>\n",
       "      <td>10</td>\n",
       "      <td>2018</td>\n",
       "      <td>393.0</td>\n",
       "    </tr>\n",
       "    <tr>\n",
       "      <th>4</th>\n",
       "      <td>1001</td>\n",
       "      <td>11</td>\n",
       "      <td>2018</td>\n",
       "      <td>426.0</td>\n",
       "    </tr>\n",
       "    <tr>\n",
       "      <th>...</th>\n",
       "      <td>...</td>\n",
       "      <td>...</td>\n",
       "      <td>...</td>\n",
       "      <td>...</td>\n",
       "    </tr>\n",
       "    <tr>\n",
       "      <th>2253</th>\n",
       "      <td>1498</td>\n",
       "      <td>12</td>\n",
       "      <td>2018</td>\n",
       "      <td>339.0</td>\n",
       "    </tr>\n",
       "    <tr>\n",
       "      <th>2254</th>\n",
       "      <td>1499</td>\n",
       "      <td>9</td>\n",
       "      <td>2018</td>\n",
       "      <td>346.0</td>\n",
       "    </tr>\n",
       "    <tr>\n",
       "      <th>2255</th>\n",
       "      <td>1499</td>\n",
       "      <td>10</td>\n",
       "      <td>2018</td>\n",
       "      <td>385.0</td>\n",
       "    </tr>\n",
       "    <tr>\n",
       "      <th>2256</th>\n",
       "      <td>1499</td>\n",
       "      <td>11</td>\n",
       "      <td>2018</td>\n",
       "      <td>308.0</td>\n",
       "    </tr>\n",
       "    <tr>\n",
       "      <th>2257</th>\n",
       "      <td>1499</td>\n",
       "      <td>12</td>\n",
       "      <td>2018</td>\n",
       "      <td>496.0</td>\n",
       "    </tr>\n",
       "  </tbody>\n",
       "</table>\n",
       "<p>2258 rows × 4 columns</p>\n",
       "</div>"
      ],
      "text/plain": [
       "      user_id  month  year  total_minutes\n",
       "0        1000     12  2018          124.0\n",
       "1        1001      8  2018          182.0\n",
       "2        1001      9  2018          315.0\n",
       "3        1001     10  2018          393.0\n",
       "4        1001     11  2018          426.0\n",
       "...       ...    ...   ...            ...\n",
       "2253     1498     12  2018          339.0\n",
       "2254     1499      9  2018          346.0\n",
       "2255     1499     10  2018          385.0\n",
       "2256     1499     11  2018          308.0\n",
       "2257     1499     12  2018          496.0\n",
       "\n",
       "[2258 rows x 4 columns]"
      ]
     },
     "execution_count": 29,
     "metadata": {},
     "output_type": "execute_result"
    }
   ],
   "source": [
    "# Calculate the amount of minutes spent by each user per month. Save the result.\n",
    "#use groupby to find sum per month\n",
    "monthly_call_time = calls.groupby(['user_id', 'month', 'year'])['duration'].sum().reset_index(name='total_minutes')\n",
    "monthly_call_time "
   ]
  },
  {
   "cell_type": "code",
   "execution_count": 30,
   "metadata": {},
   "outputs": [
    {
     "data": {
      "text/html": [
       "<div>\n",
       "<style scoped>\n",
       "    .dataframe tbody tr th:only-of-type {\n",
       "        vertical-align: middle;\n",
       "    }\n",
       "\n",
       "    .dataframe tbody tr th {\n",
       "        vertical-align: top;\n",
       "    }\n",
       "\n",
       "    .dataframe thead th {\n",
       "        text-align: right;\n",
       "    }\n",
       "</style>\n",
       "<table border=\"1\" class=\"dataframe\">\n",
       "  <thead>\n",
       "    <tr style=\"text-align: right;\">\n",
       "      <th></th>\n",
       "      <th>user_id</th>\n",
       "      <th>year</th>\n",
       "      <th>month</th>\n",
       "      <th>number_of_messages</th>\n",
       "    </tr>\n",
       "  </thead>\n",
       "  <tbody>\n",
       "    <tr>\n",
       "      <th>0</th>\n",
       "      <td>1000</td>\n",
       "      <td>2018</td>\n",
       "      <td>12</td>\n",
       "      <td>11</td>\n",
       "    </tr>\n",
       "    <tr>\n",
       "      <th>1</th>\n",
       "      <td>1001</td>\n",
       "      <td>2018</td>\n",
       "      <td>8</td>\n",
       "      <td>30</td>\n",
       "    </tr>\n",
       "    <tr>\n",
       "      <th>2</th>\n",
       "      <td>1001</td>\n",
       "      <td>2018</td>\n",
       "      <td>9</td>\n",
       "      <td>44</td>\n",
       "    </tr>\n",
       "    <tr>\n",
       "      <th>3</th>\n",
       "      <td>1001</td>\n",
       "      <td>2018</td>\n",
       "      <td>10</td>\n",
       "      <td>53</td>\n",
       "    </tr>\n",
       "    <tr>\n",
       "      <th>4</th>\n",
       "      <td>1001</td>\n",
       "      <td>2018</td>\n",
       "      <td>11</td>\n",
       "      <td>36</td>\n",
       "    </tr>\n",
       "    <tr>\n",
       "      <th>...</th>\n",
       "      <td>...</td>\n",
       "      <td>...</td>\n",
       "      <td>...</td>\n",
       "      <td>...</td>\n",
       "    </tr>\n",
       "    <tr>\n",
       "      <th>1801</th>\n",
       "      <td>1496</td>\n",
       "      <td>2018</td>\n",
       "      <td>9</td>\n",
       "      <td>21</td>\n",
       "    </tr>\n",
       "    <tr>\n",
       "      <th>1802</th>\n",
       "      <td>1496</td>\n",
       "      <td>2018</td>\n",
       "      <td>10</td>\n",
       "      <td>18</td>\n",
       "    </tr>\n",
       "    <tr>\n",
       "      <th>1803</th>\n",
       "      <td>1496</td>\n",
       "      <td>2018</td>\n",
       "      <td>11</td>\n",
       "      <td>13</td>\n",
       "    </tr>\n",
       "    <tr>\n",
       "      <th>1804</th>\n",
       "      <td>1496</td>\n",
       "      <td>2018</td>\n",
       "      <td>12</td>\n",
       "      <td>11</td>\n",
       "    </tr>\n",
       "    <tr>\n",
       "      <th>1805</th>\n",
       "      <td>1497</td>\n",
       "      <td>2018</td>\n",
       "      <td>12</td>\n",
       "      <td>50</td>\n",
       "    </tr>\n",
       "  </tbody>\n",
       "</table>\n",
       "<p>1806 rows × 4 columns</p>\n",
       "</div>"
      ],
      "text/plain": [
       "      user_id  year  month  number_of_messages\n",
       "0        1000  2018     12                  11\n",
       "1        1001  2018      8                  30\n",
       "2        1001  2018      9                  44\n",
       "3        1001  2018     10                  53\n",
       "4        1001  2018     11                  36\n",
       "...       ...   ...    ...                 ...\n",
       "1801     1496  2018      9                  21\n",
       "1802     1496  2018     10                  18\n",
       "1803     1496  2018     11                  13\n",
       "1804     1496  2018     12                  11\n",
       "1805     1497  2018     12                  50\n",
       "\n",
       "[1806 rows x 4 columns]"
      ]
     },
     "execution_count": 30,
     "metadata": {},
     "output_type": "execute_result"
    }
   ],
   "source": [
    "# Calculate the number of messages sent by each user per month. Save the result.\n",
    "\n",
    "monthly_messages =messages.groupby(['user_id', 'year', 'month']).size().reset_index(name= 'number_of_messages')\n",
    "monthly_messages"
   ]
  },
  {
   "cell_type": "code",
   "execution_count": 31,
   "metadata": {},
   "outputs": [
    {
     "data": {
      "text/html": [
       "<div>\n",
       "<style scoped>\n",
       "    .dataframe tbody tr th:only-of-type {\n",
       "        vertical-align: middle;\n",
       "    }\n",
       "\n",
       "    .dataframe tbody tr th {\n",
       "        vertical-align: top;\n",
       "    }\n",
       "\n",
       "    .dataframe thead th {\n",
       "        text-align: right;\n",
       "    }\n",
       "</style>\n",
       "<table border=\"1\" class=\"dataframe\">\n",
       "  <thead>\n",
       "    <tr style=\"text-align: right;\">\n",
       "      <th></th>\n",
       "      <th>user_id</th>\n",
       "      <th>year</th>\n",
       "      <th>month</th>\n",
       "      <th>monthly_gb_usage</th>\n",
       "    </tr>\n",
       "  </thead>\n",
       "  <tbody>\n",
       "    <tr>\n",
       "      <th>0</th>\n",
       "      <td>1000</td>\n",
       "      <td>2018</td>\n",
       "      <td>12</td>\n",
       "      <td>2.0</td>\n",
       "    </tr>\n",
       "    <tr>\n",
       "      <th>1</th>\n",
       "      <td>1001</td>\n",
       "      <td>2018</td>\n",
       "      <td>8</td>\n",
       "      <td>7.0</td>\n",
       "    </tr>\n",
       "    <tr>\n",
       "      <th>2</th>\n",
       "      <td>1001</td>\n",
       "      <td>2018</td>\n",
       "      <td>9</td>\n",
       "      <td>14.0</td>\n",
       "    </tr>\n",
       "    <tr>\n",
       "      <th>3</th>\n",
       "      <td>1001</td>\n",
       "      <td>2018</td>\n",
       "      <td>10</td>\n",
       "      <td>22.0</td>\n",
       "    </tr>\n",
       "    <tr>\n",
       "      <th>4</th>\n",
       "      <td>1001</td>\n",
       "      <td>2018</td>\n",
       "      <td>11</td>\n",
       "      <td>19.0</td>\n",
       "    </tr>\n",
       "    <tr>\n",
       "      <th>...</th>\n",
       "      <td>...</td>\n",
       "      <td>...</td>\n",
       "      <td>...</td>\n",
       "      <td>...</td>\n",
       "    </tr>\n",
       "    <tr>\n",
       "      <th>2272</th>\n",
       "      <td>1498</td>\n",
       "      <td>2018</td>\n",
       "      <td>12</td>\n",
       "      <td>23.0</td>\n",
       "    </tr>\n",
       "    <tr>\n",
       "      <th>2273</th>\n",
       "      <td>1499</td>\n",
       "      <td>2018</td>\n",
       "      <td>9</td>\n",
       "      <td>13.0</td>\n",
       "    </tr>\n",
       "    <tr>\n",
       "      <th>2274</th>\n",
       "      <td>1499</td>\n",
       "      <td>2018</td>\n",
       "      <td>10</td>\n",
       "      <td>20.0</td>\n",
       "    </tr>\n",
       "    <tr>\n",
       "      <th>2275</th>\n",
       "      <td>1499</td>\n",
       "      <td>2018</td>\n",
       "      <td>11</td>\n",
       "      <td>17.0</td>\n",
       "    </tr>\n",
       "    <tr>\n",
       "      <th>2276</th>\n",
       "      <td>1499</td>\n",
       "      <td>2018</td>\n",
       "      <td>12</td>\n",
       "      <td>22.0</td>\n",
       "    </tr>\n",
       "  </tbody>\n",
       "</table>\n",
       "<p>2277 rows × 4 columns</p>\n",
       "</div>"
      ],
      "text/plain": [
       "      user_id  year  month  monthly_gb_usage\n",
       "0        1000  2018     12               2.0\n",
       "1        1001  2018      8               7.0\n",
       "2        1001  2018      9              14.0\n",
       "3        1001  2018     10              22.0\n",
       "4        1001  2018     11              19.0\n",
       "...       ...   ...    ...               ...\n",
       "2272     1498  2018     12              23.0\n",
       "2273     1499  2018      9              13.0\n",
       "2274     1499  2018     10              20.0\n",
       "2275     1499  2018     11              17.0\n",
       "2276     1499  2018     12              22.0\n",
       "\n",
       "[2277 rows x 4 columns]"
      ]
     },
     "execution_count": 31,
     "metadata": {},
     "output_type": "execute_result"
    }
   ],
   "source": [
    "# Calculate the volume of internet traffic used by each user per month. Save the result.\n",
    "\n",
    "monthly_internet = internet.groupby(['user_id', 'year', 'month'])['mb_used'].sum().reset_index(name='monthly_mb_usage')\n",
    "#Convertinng megabytes to gigabytes\n",
    "monthly_internet['monthly_mb_usage'] = monthly_internet['monthly_mb_usage'] / 1024\n",
    "monthly_internet\n",
    "#round up internet usage\n",
    "monthly_internet['monthly_mb_usage'] = np.ceil(monthly_internet['monthly_mb_usage'])\n",
    "#changing mb usage column to gb to describe columnn better\n",
    "monthly_internet.rename(columns = {'monthly_mb_usage':'monthly_gb_usage'}, inplace=True)\n",
    "monthly_internet"
   ]
  },
  {
   "cell_type": "markdown",
   "metadata": {},
   "source": [
    "We've made 4 new df above. We did one adding up number of calls, one with total number of messages one with call time and one with internet usage. Now we can merge them all."
   ]
  },
  {
   "cell_type": "code",
   "execution_count": 32,
   "metadata": {
    "scrolled": true
   },
   "outputs": [
    {
     "data": {
      "text/html": [
       "<div>\n",
       "<style scoped>\n",
       "    .dataframe tbody tr th:only-of-type {\n",
       "        vertical-align: middle;\n",
       "    }\n",
       "\n",
       "    .dataframe tbody tr th {\n",
       "        vertical-align: top;\n",
       "    }\n",
       "\n",
       "    .dataframe thead th {\n",
       "        text-align: right;\n",
       "    }\n",
       "</style>\n",
       "<table border=\"1\" class=\"dataframe\">\n",
       "  <thead>\n",
       "    <tr style=\"text-align: right;\">\n",
       "      <th></th>\n",
       "      <th>user_id</th>\n",
       "      <th>total_minutes</th>\n",
       "      <th>monthly_gb_usage</th>\n",
       "      <th>year</th>\n",
       "      <th>month</th>\n",
       "      <th>number_of_messages</th>\n",
       "      <th>plan</th>\n",
       "    </tr>\n",
       "  </thead>\n",
       "  <tbody>\n",
       "    <tr>\n",
       "      <th>0</th>\n",
       "      <td>1000</td>\n",
       "      <td>124.0</td>\n",
       "      <td>2.0</td>\n",
       "      <td>2018</td>\n",
       "      <td>12</td>\n",
       "      <td>11</td>\n",
       "      <td>ultimate</td>\n",
       "    </tr>\n",
       "    <tr>\n",
       "      <th>1</th>\n",
       "      <td>1001</td>\n",
       "      <td>182.0</td>\n",
       "      <td>7.0</td>\n",
       "      <td>2018</td>\n",
       "      <td>8</td>\n",
       "      <td>30</td>\n",
       "      <td>surf</td>\n",
       "    </tr>\n",
       "    <tr>\n",
       "      <th>2</th>\n",
       "      <td>1001</td>\n",
       "      <td>182.0</td>\n",
       "      <td>7.0</td>\n",
       "      <td>2018</td>\n",
       "      <td>9</td>\n",
       "      <td>44</td>\n",
       "      <td>surf</td>\n",
       "    </tr>\n",
       "    <tr>\n",
       "      <th>3</th>\n",
       "      <td>1001</td>\n",
       "      <td>182.0</td>\n",
       "      <td>7.0</td>\n",
       "      <td>2018</td>\n",
       "      <td>10</td>\n",
       "      <td>53</td>\n",
       "      <td>surf</td>\n",
       "    </tr>\n",
       "    <tr>\n",
       "      <th>4</th>\n",
       "      <td>1001</td>\n",
       "      <td>182.0</td>\n",
       "      <td>7.0</td>\n",
       "      <td>2018</td>\n",
       "      <td>11</td>\n",
       "      <td>36</td>\n",
       "      <td>surf</td>\n",
       "    </tr>\n",
       "    <tr>\n",
       "      <th>...</th>\n",
       "      <td>...</td>\n",
       "      <td>...</td>\n",
       "      <td>...</td>\n",
       "      <td>...</td>\n",
       "      <td>...</td>\n",
       "      <td>...</td>\n",
       "      <td>...</td>\n",
       "    </tr>\n",
       "    <tr>\n",
       "      <th>84735</th>\n",
       "      <td>1496</td>\n",
       "      <td>294.0</td>\n",
       "      <td>17.0</td>\n",
       "      <td>2018</td>\n",
       "      <td>9</td>\n",
       "      <td>21</td>\n",
       "      <td>surf</td>\n",
       "    </tr>\n",
       "    <tr>\n",
       "      <th>84736</th>\n",
       "      <td>1496</td>\n",
       "      <td>294.0</td>\n",
       "      <td>17.0</td>\n",
       "      <td>2018</td>\n",
       "      <td>10</td>\n",
       "      <td>18</td>\n",
       "      <td>surf</td>\n",
       "    </tr>\n",
       "    <tr>\n",
       "      <th>84737</th>\n",
       "      <td>1496</td>\n",
       "      <td>294.0</td>\n",
       "      <td>17.0</td>\n",
       "      <td>2018</td>\n",
       "      <td>11</td>\n",
       "      <td>13</td>\n",
       "      <td>surf</td>\n",
       "    </tr>\n",
       "    <tr>\n",
       "      <th>84738</th>\n",
       "      <td>1496</td>\n",
       "      <td>294.0</td>\n",
       "      <td>17.0</td>\n",
       "      <td>2018</td>\n",
       "      <td>12</td>\n",
       "      <td>11</td>\n",
       "      <td>surf</td>\n",
       "    </tr>\n",
       "    <tr>\n",
       "      <th>84739</th>\n",
       "      <td>1497</td>\n",
       "      <td>300.0</td>\n",
       "      <td>11.0</td>\n",
       "      <td>2018</td>\n",
       "      <td>12</td>\n",
       "      <td>50</td>\n",
       "      <td>ultimate</td>\n",
       "    </tr>\n",
       "  </tbody>\n",
       "</table>\n",
       "<p>84740 rows × 7 columns</p>\n",
       "</div>"
      ],
      "text/plain": [
       "       user_id  total_minutes  monthly_gb_usage  year  month  \\\n",
       "0         1000          124.0               2.0  2018     12   \n",
       "1         1001          182.0               7.0  2018      8   \n",
       "2         1001          182.0               7.0  2018      9   \n",
       "3         1001          182.0               7.0  2018     10   \n",
       "4         1001          182.0               7.0  2018     11   \n",
       "...        ...            ...               ...   ...    ...   \n",
       "84735     1496          294.0              17.0  2018      9   \n",
       "84736     1496          294.0              17.0  2018     10   \n",
       "84737     1496          294.0              17.0  2018     11   \n",
       "84738     1496          294.0              17.0  2018     12   \n",
       "84739     1497          300.0              11.0  2018     12   \n",
       "\n",
       "       number_of_messages      plan  \n",
       "0                      11  ultimate  \n",
       "1                      30      surf  \n",
       "2                      44      surf  \n",
       "3                      53      surf  \n",
       "4                      36      surf  \n",
       "...                   ...       ...  \n",
       "84735                  21      surf  \n",
       "84736                  18      surf  \n",
       "84737                  13      surf  \n",
       "84738                  11      surf  \n",
       "84739                  50  ultimate  \n",
       "\n",
       "[84740 rows x 7 columns]"
      ]
     },
     "execution_count": 32,
     "metadata": {},
     "output_type": "execute_result"
    }
   ],
   "source": [
    "# Merge the data for calls, minutes, messages, internet based on user_id and month\n",
    "#call merge to merge all 3 dfs\n",
    "user_month_usage = monthly_call_time.merge(monthly_internet, on='user_id').merge(monthly_messages, on='user_id').merge(users_id, on='user_id')\n",
    "#drop uneeded columns\n",
    "user_month_usage = user_month_usage.drop(columns=['month_x', 'year_x', 'year_y', 'month_y'])\n",
    "#print df\n",
    "user_month_usage\n"
   ]
  },
  {
   "cell_type": "code",
   "execution_count": 33,
   "metadata": {},
   "outputs": [
    {
     "data": {
      "text/html": [
       "<div>\n",
       "<style scoped>\n",
       "    .dataframe tbody tr th:only-of-type {\n",
       "        vertical-align: middle;\n",
       "    }\n",
       "\n",
       "    .dataframe tbody tr th {\n",
       "        vertical-align: top;\n",
       "    }\n",
       "\n",
       "    .dataframe thead th {\n",
       "        text-align: right;\n",
       "    }\n",
       "</style>\n",
       "<table border=\"1\" class=\"dataframe\">\n",
       "  <thead>\n",
       "    <tr style=\"text-align: right;\">\n",
       "      <th></th>\n",
       "      <th>messages_included</th>\n",
       "      <th>gb_per_month_included</th>\n",
       "      <th>minutes_included</th>\n",
       "      <th>usd_monthly_pay</th>\n",
       "      <th>usd_per_gb</th>\n",
       "      <th>usd_per_message</th>\n",
       "      <th>usd_per_minute</th>\n",
       "      <th>plan_name</th>\n",
       "    </tr>\n",
       "  </thead>\n",
       "  <tbody>\n",
       "    <tr>\n",
       "      <th>0</th>\n",
       "      <td>50</td>\n",
       "      <td>15.0</td>\n",
       "      <td>500</td>\n",
       "      <td>20</td>\n",
       "      <td>10</td>\n",
       "      <td>0.03</td>\n",
       "      <td>0.03</td>\n",
       "      <td>surf</td>\n",
       "    </tr>\n",
       "    <tr>\n",
       "      <th>1</th>\n",
       "      <td>1000</td>\n",
       "      <td>30.0</td>\n",
       "      <td>3000</td>\n",
       "      <td>70</td>\n",
       "      <td>7</td>\n",
       "      <td>0.01</td>\n",
       "      <td>0.01</td>\n",
       "      <td>ultimate</td>\n",
       "    </tr>\n",
       "  </tbody>\n",
       "</table>\n",
       "</div>"
      ],
      "text/plain": [
       "   messages_included  gb_per_month_included  minutes_included  \\\n",
       "0                 50                   15.0               500   \n",
       "1               1000                   30.0              3000   \n",
       "\n",
       "   usd_monthly_pay  usd_per_gb  usd_per_message  usd_per_minute plan_name  \n",
       "0               20          10             0.03            0.03      surf  \n",
       "1               70           7             0.01            0.01  ultimate  "
      ]
     },
     "execution_count": 33,
     "metadata": {},
     "output_type": "execute_result"
    }
   ],
   "source": [
    "# Add the plan information\n",
    "\n",
    "megaline_plans"
   ]
  },
  {
   "cell_type": "code",
   "execution_count": 34,
   "metadata": {},
   "outputs": [
    {
     "data": {
      "text/html": [
       "<div>\n",
       "<style scoped>\n",
       "    .dataframe tbody tr th:only-of-type {\n",
       "        vertical-align: middle;\n",
       "    }\n",
       "\n",
       "    .dataframe tbody tr th {\n",
       "        vertical-align: top;\n",
       "    }\n",
       "\n",
       "    .dataframe thead th {\n",
       "        text-align: right;\n",
       "    }\n",
       "</style>\n",
       "<table border=\"1\" class=\"dataframe\">\n",
       "  <thead>\n",
       "    <tr style=\"text-align: right;\">\n",
       "      <th></th>\n",
       "      <th>user_id</th>\n",
       "      <th>total_minutes</th>\n",
       "      <th>monthly_gb_usage</th>\n",
       "      <th>year</th>\n",
       "      <th>month</th>\n",
       "      <th>number_of_messages</th>\n",
       "      <th>plan</th>\n",
       "      <th>usd_per_minute</th>\n",
       "      <th>usd_per_message</th>\n",
       "      <th>usd_per_gb</th>\n",
       "      <th>usd_monthly_pay</th>\n",
       "      <th>minutes_included</th>\n",
       "      <th>gb_per_month_included</th>\n",
       "      <th>messages_included</th>\n",
       "      <th>monthly_revenue</th>\n",
       "    </tr>\n",
       "  </thead>\n",
       "  <tbody>\n",
       "    <tr>\n",
       "      <th>0</th>\n",
       "      <td>1000</td>\n",
       "      <td>124.0</td>\n",
       "      <td>2.0</td>\n",
       "      <td>2018</td>\n",
       "      <td>12</td>\n",
       "      <td>11</td>\n",
       "      <td>ultimate</td>\n",
       "      <td>0.01</td>\n",
       "      <td>0.01</td>\n",
       "      <td>7</td>\n",
       "      <td>70</td>\n",
       "      <td>3000</td>\n",
       "      <td>30</td>\n",
       "      <td>1000</td>\n",
       "      <td>70.00</td>\n",
       "    </tr>\n",
       "    <tr>\n",
       "      <th>1</th>\n",
       "      <td>1001</td>\n",
       "      <td>182.0</td>\n",
       "      <td>7.0</td>\n",
       "      <td>2018</td>\n",
       "      <td>8</td>\n",
       "      <td>30</td>\n",
       "      <td>surf</td>\n",
       "      <td>0.03</td>\n",
       "      <td>0.03</td>\n",
       "      <td>10</td>\n",
       "      <td>20</td>\n",
       "      <td>500</td>\n",
       "      <td>15</td>\n",
       "      <td>50</td>\n",
       "      <td>20.00</td>\n",
       "    </tr>\n",
       "    <tr>\n",
       "      <th>2</th>\n",
       "      <td>1001</td>\n",
       "      <td>182.0</td>\n",
       "      <td>7.0</td>\n",
       "      <td>2018</td>\n",
       "      <td>9</td>\n",
       "      <td>44</td>\n",
       "      <td>surf</td>\n",
       "      <td>0.03</td>\n",
       "      <td>0.03</td>\n",
       "      <td>10</td>\n",
       "      <td>20</td>\n",
       "      <td>500</td>\n",
       "      <td>15</td>\n",
       "      <td>50</td>\n",
       "      <td>20.00</td>\n",
       "    </tr>\n",
       "    <tr>\n",
       "      <th>3</th>\n",
       "      <td>1001</td>\n",
       "      <td>182.0</td>\n",
       "      <td>7.0</td>\n",
       "      <td>2018</td>\n",
       "      <td>10</td>\n",
       "      <td>53</td>\n",
       "      <td>surf</td>\n",
       "      <td>0.03</td>\n",
       "      <td>0.03</td>\n",
       "      <td>10</td>\n",
       "      <td>20</td>\n",
       "      <td>500</td>\n",
       "      <td>15</td>\n",
       "      <td>50</td>\n",
       "      <td>20.09</td>\n",
       "    </tr>\n",
       "    <tr>\n",
       "      <th>4</th>\n",
       "      <td>1001</td>\n",
       "      <td>182.0</td>\n",
       "      <td>7.0</td>\n",
       "      <td>2018</td>\n",
       "      <td>11</td>\n",
       "      <td>36</td>\n",
       "      <td>surf</td>\n",
       "      <td>0.03</td>\n",
       "      <td>0.03</td>\n",
       "      <td>10</td>\n",
       "      <td>20</td>\n",
       "      <td>500</td>\n",
       "      <td>15</td>\n",
       "      <td>50</td>\n",
       "      <td>20.00</td>\n",
       "    </tr>\n",
       "    <tr>\n",
       "      <th>...</th>\n",
       "      <td>...</td>\n",
       "      <td>...</td>\n",
       "      <td>...</td>\n",
       "      <td>...</td>\n",
       "      <td>...</td>\n",
       "      <td>...</td>\n",
       "      <td>...</td>\n",
       "      <td>...</td>\n",
       "      <td>...</td>\n",
       "      <td>...</td>\n",
       "      <td>...</td>\n",
       "      <td>...</td>\n",
       "      <td>...</td>\n",
       "      <td>...</td>\n",
       "      <td>...</td>\n",
       "    </tr>\n",
       "    <tr>\n",
       "      <th>84735</th>\n",
       "      <td>1496</td>\n",
       "      <td>294.0</td>\n",
       "      <td>17.0</td>\n",
       "      <td>2018</td>\n",
       "      <td>9</td>\n",
       "      <td>21</td>\n",
       "      <td>surf</td>\n",
       "      <td>0.03</td>\n",
       "      <td>0.03</td>\n",
       "      <td>10</td>\n",
       "      <td>20</td>\n",
       "      <td>500</td>\n",
       "      <td>15</td>\n",
       "      <td>50</td>\n",
       "      <td>40.00</td>\n",
       "    </tr>\n",
       "    <tr>\n",
       "      <th>84736</th>\n",
       "      <td>1496</td>\n",
       "      <td>294.0</td>\n",
       "      <td>17.0</td>\n",
       "      <td>2018</td>\n",
       "      <td>10</td>\n",
       "      <td>18</td>\n",
       "      <td>surf</td>\n",
       "      <td>0.03</td>\n",
       "      <td>0.03</td>\n",
       "      <td>10</td>\n",
       "      <td>20</td>\n",
       "      <td>500</td>\n",
       "      <td>15</td>\n",
       "      <td>50</td>\n",
       "      <td>40.00</td>\n",
       "    </tr>\n",
       "    <tr>\n",
       "      <th>84737</th>\n",
       "      <td>1496</td>\n",
       "      <td>294.0</td>\n",
       "      <td>17.0</td>\n",
       "      <td>2018</td>\n",
       "      <td>11</td>\n",
       "      <td>13</td>\n",
       "      <td>surf</td>\n",
       "      <td>0.03</td>\n",
       "      <td>0.03</td>\n",
       "      <td>10</td>\n",
       "      <td>20</td>\n",
       "      <td>500</td>\n",
       "      <td>15</td>\n",
       "      <td>50</td>\n",
       "      <td>40.00</td>\n",
       "    </tr>\n",
       "    <tr>\n",
       "      <th>84738</th>\n",
       "      <td>1496</td>\n",
       "      <td>294.0</td>\n",
       "      <td>17.0</td>\n",
       "      <td>2018</td>\n",
       "      <td>12</td>\n",
       "      <td>11</td>\n",
       "      <td>surf</td>\n",
       "      <td>0.03</td>\n",
       "      <td>0.03</td>\n",
       "      <td>10</td>\n",
       "      <td>20</td>\n",
       "      <td>500</td>\n",
       "      <td>15</td>\n",
       "      <td>50</td>\n",
       "      <td>40.00</td>\n",
       "    </tr>\n",
       "    <tr>\n",
       "      <th>84739</th>\n",
       "      <td>1497</td>\n",
       "      <td>300.0</td>\n",
       "      <td>11.0</td>\n",
       "      <td>2018</td>\n",
       "      <td>12</td>\n",
       "      <td>50</td>\n",
       "      <td>ultimate</td>\n",
       "      <td>0.01</td>\n",
       "      <td>0.01</td>\n",
       "      <td>7</td>\n",
       "      <td>70</td>\n",
       "      <td>3000</td>\n",
       "      <td>30</td>\n",
       "      <td>1000</td>\n",
       "      <td>70.00</td>\n",
       "    </tr>\n",
       "  </tbody>\n",
       "</table>\n",
       "<p>84740 rows × 15 columns</p>\n",
       "</div>"
      ],
      "text/plain": [
       "       user_id  total_minutes  monthly_gb_usage  year  month  \\\n",
       "0         1000          124.0               2.0  2018     12   \n",
       "1         1001          182.0               7.0  2018      8   \n",
       "2         1001          182.0               7.0  2018      9   \n",
       "3         1001          182.0               7.0  2018     10   \n",
       "4         1001          182.0               7.0  2018     11   \n",
       "...        ...            ...               ...   ...    ...   \n",
       "84735     1496          294.0              17.0  2018      9   \n",
       "84736     1496          294.0              17.0  2018     10   \n",
       "84737     1496          294.0              17.0  2018     11   \n",
       "84738     1496          294.0              17.0  2018     12   \n",
       "84739     1497          300.0              11.0  2018     12   \n",
       "\n",
       "       number_of_messages      plan  usd_per_minute  usd_per_message  \\\n",
       "0                      11  ultimate            0.01             0.01   \n",
       "1                      30      surf            0.03             0.03   \n",
       "2                      44      surf            0.03             0.03   \n",
       "3                      53      surf            0.03             0.03   \n",
       "4                      36      surf            0.03             0.03   \n",
       "...                   ...       ...             ...              ...   \n",
       "84735                  21      surf            0.03             0.03   \n",
       "84736                  18      surf            0.03             0.03   \n",
       "84737                  13      surf            0.03             0.03   \n",
       "84738                  11      surf            0.03             0.03   \n",
       "84739                  50  ultimate            0.01             0.01   \n",
       "\n",
       "       usd_per_gb  usd_monthly_pay  minutes_included  gb_per_month_included  \\\n",
       "0               7               70              3000                     30   \n",
       "1              10               20               500                     15   \n",
       "2              10               20               500                     15   \n",
       "3              10               20               500                     15   \n",
       "4              10               20               500                     15   \n",
       "...           ...              ...               ...                    ...   \n",
       "84735          10               20               500                     15   \n",
       "84736          10               20               500                     15   \n",
       "84737          10               20               500                     15   \n",
       "84738          10               20               500                     15   \n",
       "84739           7               70              3000                     30   \n",
       "\n",
       "       messages_included  monthly_revenue  \n",
       "0                   1000            70.00  \n",
       "1                     50            20.00  \n",
       "2                     50            20.00  \n",
       "3                     50            20.09  \n",
       "4                     50            20.00  \n",
       "...                  ...              ...  \n",
       "84735                 50            40.00  \n",
       "84736                 50            40.00  \n",
       "84737                 50            40.00  \n",
       "84738                 50            40.00  \n",
       "84739               1000            70.00  \n",
       "\n",
       "[84740 rows x 15 columns]"
      ]
     },
     "execution_count": 34,
     "metadata": {},
     "output_type": "execute_result"
    }
   ],
   "source": [
    "# Calculate the monthly revenue for each user\n",
    "\n",
    "user_month_usage\n",
    "\n",
    "#the plans of the services\n",
    "df_plans = pd.DataFrame({\n",
    "    'usd_per_minute': [0.03, 0.01],       \n",
    "    'usd_per_message': [0.03, 0.01],\n",
    "     'usd_per_gb': [10, 7],\n",
    "     'usd_monthly_pay': [20, 70],\n",
    "     'minutes_included': [500, 3000],\n",
    "     'gb_per_month_included': [15, 30], \n",
    "     'messages_included': [50, 1000],\n",
    "     'plan_name': ['surf', 'ultimate']\n",
    "})\n",
    "\n",
    "# Merge the DataFrames on the plan column\n",
    "user_month_usage = pd.merge(user_month_usage, df_plans, left_on='plan', right_on='plan_name', how='left')\n",
    "\n",
    "# Drop the 'plan_name' column since it's redundant after merging\n",
    "user_month_usage = user_month_usage.drop(columns='plan_name')\n",
    "\n",
    "          \n",
    "         \n",
    "\n",
    "\n",
    "#use function to calculate revene\n",
    "\n",
    "def monthly_revenue(row):\n",
    "    try:\n",
    "        \n",
    " \n",
    "        minutes_charges = max(0, row['total_minutes'] - row['minutes_included'])\n",
    "        messages_charges = max(0, row['number_of_messages'] - row['messages_included'])\n",
    "        internet_charges = max(0, row['monthly_gb_usage'] - (row['gb_per_month_included'] ))\n",
    "                       \n",
    "        call_cost = minutes_charges * row['usd_per_minute']\n",
    "        message_cost = messages_charges * row['usd_per_message']\n",
    "        internet_cost = internet_charges  * row['usd_per_gb']\n",
    "        total_cost = call_cost + message_cost + internet_cost + row['usd_monthly_pay']\n",
    "                        \n",
    "        return total_cost\n",
    "    except KeyError as e:\n",
    "        print(f\"KeyError: {e} in row:\\n{row}\")\n",
    "        return np.nan\n",
    "user_month_usage['monthly_revenue'] = user_month_usage.apply(monthly_revenue, axis=1)\n",
    "\n",
    "user_month_usage\n",
    "                                \n",
    "                        "
   ]
  },
  {
   "cell_type": "markdown",
   "metadata": {},
   "source": [
    "## Study user behaviour"
   ]
  },
  {
   "cell_type": "markdown",
   "metadata": {},
   "source": [
    "### Calls"
   ]
  },
  {
   "cell_type": "code",
   "execution_count": 35,
   "metadata": {},
   "outputs": [
    {
     "data": {
      "image/png": "[encoded data removed]",
      "text/plain": [
       "<Figure size 1200x600 with 1 Axes>"
      ]
     },
     "metadata": {},
     "output_type": "display_data"
    }
   ],
   "source": [
    "# Compare average duration of calls per each plan per each distinct month. Plot a bar plat to visualize it.\n",
    "#merge plan type on\n",
    "monthly_call_total = monthly_call_time.merge(users_id, on='user_id')\n",
    "\n",
    "monthly_call_total\n",
    "monthly_call_avg = monthly_call_total.groupby(['plan', 'month'])['total_minutes'].mean().reset_index()\n",
    "monthly_call_total\n",
    "#plotting the df into a bar chart\n",
    "\n",
    "                                                \n",
    "plt.figure(figsize=(12, 6))\n",
    "sns.barplot(data=monthly_call_avg, x='month', y='total_minutes', hue='plan')\n",
    "plt.title('Average Call Duration per Plan per Month')\n",
    "plt.xlabel('Month')\n",
    "plt.ylabel('Average Call Duration (minutes)')\n",
    "plt.show()\n"
   ]
  },
  {
   "cell_type": "markdown",
   "metadata": {},
   "source": [
    "We see that for most months other than the second that surf plan and ultimate call duration is relitively close together time wise. May-December also has very close call durations on average per month. January is also the month with the smallest call durations by roughly half compared to months from May-December"
   ]
  },
  {
   "cell_type": "code",
   "execution_count": 36,
   "metadata": {},
   "outputs": [
    {
     "name": "stdout",
     "output_type": "stream",
     "text": [
      "        plan  month  total_minutes\n",
      "0       surf      1          406.0\n",
      "1       surf      2         2673.0\n",
      "2       surf      3         7590.0\n",
      "3       surf      4        17577.0\n",
      "4       surf      5        30768.0\n",
      "5       surf      6        41836.0\n",
      "6       surf      7        54448.0\n",
      "7       surf      8        66438.0\n",
      "8       surf      9        80360.0\n",
      "9       surf     10       101846.0\n",
      "10      surf     11       119801.0\n",
      "11      surf     12       150680.0\n",
      "12  ultimate      1          774.0\n",
      "13  ultimate      2         2822.0\n",
      "14  ultimate      3         3651.0\n",
      "15  ultimate      4         7074.0\n",
      "16  ultimate      5        11781.0\n",
      "17  ultimate      6        17435.0\n",
      "18  ultimate      7        25197.0\n",
      "19  ultimate      8        29922.0\n",
      "20  ultimate      9        37626.0\n",
      "21  ultimate     10        47778.0\n",
      "22  ultimate     11        56540.0\n",
      "23  ultimate     12        69324.0\n"
     ]
    },
    {
     "data": {
      "image/png": "[encoded data removed]",
      "text/plain": [
       "<Figure size 1200x600 with 1 Axes>"
      ]
     },
     "metadata": {},
     "output_type": "display_data"
    }
   ],
   "source": [
    "# Compare the number of minutes users of each plan require each month. Plot a histogram.\n",
    "\n",
    "#group and see total minutes used per month\n",
    "monthly_call_totals = monthly_call_total.groupby(['plan', 'month'])['total_minutes'].sum().reset_index()\n",
    "print(monthly_call_totals)\n",
    "#plot histogram\n",
    "plt.figure(figsize=(12, 6))\n",
    "sns.histplot(data=monthly_call_totals,  x='month', y='total_minutes', hue='plan', multiple='stack',  bins=12)\n",
    "plt.title('Minutes needed  per Plan per Month')\n",
    "plt.xlabel('Month')\n",
    "plt.ylabel('Average Call Duration (minutes)')\n",
    "plt.show()\n",
    "\n"
   ]
  },
  {
   "cell_type": "markdown",
   "metadata": {},
   "source": [
    "As we can see the ultimate plan uses much less minutes than the surf plan. The amount of minutes each month goes up each month as well."
   ]
  },
  {
   "cell_type": "code",
   "execution_count": 37,
   "metadata": {},
   "outputs": [
    {
     "name": "stdout",
     "output_type": "stream",
     "text": [
      "435.9375553587245\n"
     ]
    },
    {
     "data": {
      "text/plain": [
       "53787.33666754012"
      ]
     },
     "execution_count": 37,
     "metadata": {},
     "output_type": "execute_result"
    }
   ],
   "source": [
    "# Calculate the mean and the variance of the monthly call duration\n",
    "print(monthly_call_total['total_minutes'].mean())\n",
    "np.var(monthly_call_total['total_minutes'])"
   ]
  },
  {
   "cell_type": "code",
   "execution_count": 38,
   "metadata": {},
   "outputs": [
    {
     "data": {
      "text/plain": [
       "<AxesSubplot:xlabel='month', ylabel='total_minutes'>"
      ]
     },
     "execution_count": 38,
     "metadata": {},
     "output_type": "execute_result"
    },
    {
     "data": {
      "image/png": "[encoded data removed]",
      "text/plain": [
       "<Figure size 640x480 with 1 Axes>"
      ]
     },
     "metadata": {},
     "output_type": "display_data"
    }
   ],
   "source": [
    "# Plot a boxplot to visualize the distribution of the monthly call duration\n",
    "sns.boxplot(data=monthly_call_totals,  x='month', y='total_minutes')\n"
   ]
  },
  {
   "cell_type": "markdown",
   "metadata": {},
   "source": [
    "We can see comparing the two plans that both tend to use more data the later in the year compared to earlier in the year. Now while avg call duration is pretty close to one another total minutes show that the surf plan uses more minutes than the ultimate plan."
   ]
  },
  {
   "cell_type": "markdown",
   "metadata": {},
   "source": [
    "<div class=\"alert alert-block alert-success\">✔️\n",
    "    \n",
    "\n",
    "__Reviewer's comment №1__\n",
    "\n",
    "Great visualization"
   ]
  },
  {
   "cell_type": "markdown",
   "metadata": {},
   "source": [
    " "
   ]
  },
  {
   "cell_type": "markdown",
   "metadata": {},
   "source": [
    "### Messages"
   ]
  },
  {
   "cell_type": "code",
   "execution_count": 39,
   "metadata": {},
   "outputs": [
    {
     "data": {
      "image/png": "[encoded data removed]",
      "text/plain": [
       "<Figure size 1200x600 with 1 Axes>"
      ]
     },
     "metadata": {},
     "output_type": "display_data"
    }
   ],
   "source": [
    "# Compare the number of messages users of each plan tend to send each month\n",
    "#merge monthly messages to add plans\n",
    "monthly_messages = monthly_messages.merge(users_id, on='user_id')\n",
    "#group data to find monthly total messages\n",
    "total_monthly_messages = monthly_messages.groupby(['plan', 'month'])['number_of_messages'].sum().reset_index()\n",
    "total_monthly_messages\n",
    "#make a bar chart \n",
    "\n",
    "                                                \n",
    "plt.figure(figsize=(12, 6))\n",
    "sns.barplot(data=total_monthly_messages, x='month', y='number_of_messages', hue='plan')\n",
    "plt.title('Total Customer Messages')\n",
    "plt.xlabel('Month')\n",
    "plt.ylabel('Number of Messages')\n",
    "plt.show()"
   ]
  },
  {
   "cell_type": "markdown",
   "metadata": {},
   "source": [
    "We see that more messages are sent later in the year compared to earlier months. We also see more messages are sent from the surf plan every month except for january and feburary. "
   ]
  },
  {
   "cell_type": "code",
   "execution_count": 40,
   "metadata": {},
   "outputs": [
    {
     "name": "stdout",
     "output_type": "stream",
     "text": [
      "3168.7916666666665\n"
     ]
    },
    {
     "data": {
      "text/plain": [
       "10374934.664930556"
      ]
     },
     "execution_count": 40,
     "metadata": {},
     "output_type": "execute_result"
    }
   ],
   "source": [
    "# Calculate the mean and the variance of the number of messages\n",
    "#calculate the avg\n",
    "print(total_monthly_messages['number_of_messages'].mean())\n",
    "\n",
    "#calculating the variance\n",
    "np.var(total_monthly_messages['number_of_messages'])"
   ]
  },
  {
   "cell_type": "code",
   "execution_count": 41,
   "metadata": {},
   "outputs": [
    {
     "data": {
      "text/plain": [
       "<AxesSubplot:xlabel='month', ylabel='number_of_messages'>"
      ]
     },
     "execution_count": 41,
     "metadata": {},
     "output_type": "execute_result"
    },
    {
     "data": {
      "image/png": "[encoded data removed]",
      "text/plain": [
       "<Figure size 640x480 with 1 Axes>"
      ]
     },
     "metadata": {},
     "output_type": "display_data"
    }
   ],
   "source": [
    "# Plot a boxplot to visualize the distribution of the number of messages\n",
    "sns.boxplot(data=total_monthly_messages,  x='month', y='number_of_messages')\n"
   ]
  },
  {
   "cell_type": "markdown",
   "metadata": {},
   "source": [
    "Customers tend to send way more messages at the end of the year compared to beginining of the year. There is also more outliers in December that send many more messages compared to other months as well. But people tend to use the Surf plan to send out more messages. "
   ]
  },
  {
   "cell_type": "markdown",
   "metadata": {},
   "source": [
    " "
   ]
  },
  {
   "cell_type": "markdown",
   "metadata": {},
   "source": [
    "### Internet"
   ]
  },
  {
   "cell_type": "code",
   "execution_count": 42,
   "metadata": {},
   "outputs": [
    {
     "name": "stdout",
     "output_type": "stream",
     "text": [
      "        plan  month  monthly_gb_usage\n",
      "0       surf      1              10.0\n",
      "1       surf      2             110.0\n",
      "2       surf      3             312.0\n",
      "3       surf      4             611.0\n",
      "4       surf      5            1087.0\n",
      "5       surf      6            1502.0\n",
      "6       surf      7            2042.0\n",
      "7       surf      8            2735.0\n",
      "8       surf      9            3238.0\n",
      "9       surf     10            4126.0\n",
      "10      surf     11            4650.0\n",
      "11      surf     12            5800.0\n",
      "12  ultimate      1              29.0\n",
      "13  ultimate      2             121.0\n",
      "14  ultimate      3             221.0\n",
      "15  ultimate      4             343.0\n",
      "16  ultimate      5             489.0\n",
      "17  ultimate      6             725.0\n",
      "18  ultimate      7             973.0\n",
      "19  ultimate      8            1267.0\n",
      "20  ultimate      9            1463.0\n",
      "21  ultimate     10            1878.0\n",
      "22  ultimate     11            2174.0\n",
      "23  ultimate     12            2778.0\n"
     ]
    },
    {
     "data": {
      "image/png": "[encoded data removed]",
      "text/plain": [
       "<Figure size 1200x600 with 1 Axes>"
      ]
     },
     "metadata": {},
     "output_type": "display_data"
    }
   ],
   "source": [
    "# Compare the amount of internet traffic consumed by users per plan\n",
    "#merge to get sevice plan in df\n",
    "monthly_internet = monthly_internet.merge(users_id, on='user_id')\n",
    "#group to get sum of internet time per month\n",
    "monthly_internet_usage = monthly_internet.groupby(['plan', 'month'])['monthly_gb_usage'].sum().reset_index()\n",
    "print(monthly_internet_usage)\n",
    "\n",
    "#make a bar chart\n",
    "plt.figure(figsize=(12, 6))\n",
    "sns.barplot(data=monthly_internet_usage, x='month', y='monthly_gb_usage', hue='plan')\n",
    "plt.title('Monthly Internet Usage of Plans')\n",
    "plt.xlabel('Month')\n",
    "plt.ylabel('Internet Usage')\n",
    "plt.show()"
   ]
  },
  {
   "cell_type": "markdown",
   "metadata": {},
   "source": [
    "We see that most of the internet is used in the later part of the year. Surf is used more in all months but January and Feburary. Ultimate is used more in January and both are equal in Febuary."
   ]
  },
  {
   "cell_type": "code",
   "execution_count": 43,
   "metadata": {},
   "outputs": [
    {
     "name": "stdout",
     "output_type": "stream",
     "text": [
      "1611.8333333333333\n"
     ]
    },
    {
     "data": {
      "text/plain": [
       "2399951.4722222225"
      ]
     },
     "execution_count": 43,
     "metadata": {},
     "output_type": "execute_result"
    }
   ],
   "source": [
    "# Calculate the mean and the variance of internet usage\n",
    "print(monthly_internet_usage['monthly_gb_usage'].mean())\n",
    "\n",
    "#calculating the variance\n",
    "np.var(monthly_internet_usage['monthly_gb_usage'])"
   ]
  },
  {
   "cell_type": "code",
   "execution_count": 44,
   "metadata": {},
   "outputs": [
    {
     "data": {
      "text/plain": [
       "<AxesSubplot:xlabel='month', ylabel='monthly_gb_usage'>"
      ]
     },
     "execution_count": 44,
     "metadata": {},
     "output_type": "execute_result"
    },
    {
     "data": {
      "image/png": "[encoded data removed]",
      "text/plain": [
       "<Figure size 640x480 with 1 Axes>"
      ]
     },
     "metadata": {},
     "output_type": "display_data"
    }
   ],
   "source": [
    "# Plot a boxplot to visualize the distribution of internet usage\n",
    "sns.boxplot(data=monthly_internet_usage,  x='month', y='monthly_gb_usage')"
   ]
  },
  {
   "cell_type": "markdown",
   "metadata": {},
   "source": [
    "We see trends that more internet is used in later months compared to earlier months. Surf is used more for internet usage as well."
   ]
  },
  {
   "cell_type": "markdown",
   "metadata": {},
   "source": [
    " "
   ]
  },
  {
   "cell_type": "markdown",
   "metadata": {},
   "source": [
    "## Revenue"
   ]
  },
  {
   "cell_type": "code",
   "execution_count": 45,
   "metadata": {},
   "outputs": [
    {
     "data": {
      "image/png": "[encoded data removed]",
      "text/plain": [
       "<Figure size 1200x600 with 1 Axes>"
      ]
     },
     "metadata": {},
     "output_type": "display_data"
    }
   ],
   "source": [
    "user_month_usage\n",
    "\n",
    "#make a bar chart\n",
    "plt.figure(figsize=(12, 6))\n",
    "sns.barplot(data=user_month_usage, x='month', y='monthly_revenue', hue='plan')\n",
    "plt.title('Monthly Revenue of Plans')\n",
    "plt.xlabel('Month')\n",
    "plt.ylabel('Revenue')\n",
    "plt.show()"
   ]
  },
  {
   "cell_type": "markdown",
   "metadata": {},
   "source": [
    "We taken a look at the monthly revenue of each month. As we can see from the data the surf data is bringing in more revenue every month. We notice that surf's revenue is pretty consistent from March-December with January and Febuary it being less. While we see the Ultimate Plan making the most revenue in Febuary and then going down. However June-December revenue for Ultimates plan is consistent. "
   ]
  },
  {
   "cell_type": "code",
   "execution_count": 46,
   "metadata": {},
   "outputs": [
    {
     "name": "stdout",
     "output_type": "stream",
     "text": [
      "64.19569730941704\n"
     ]
    },
    {
     "data": {
      "text/plain": [
       "1790.019485578192"
      ]
     },
     "execution_count": 46,
     "metadata": {},
     "output_type": "execute_result"
    }
   ],
   "source": [
    "# Calculate the mean and the variance of revenue\n",
    "print(user_month_usage['monthly_revenue'].mean())\n",
    "\n",
    "#calculating the variance\n",
    "np.var(user_month_usage['monthly_revenue'])"
   ]
  },
  {
   "cell_type": "code",
   "execution_count": 47,
   "metadata": {},
   "outputs": [
    {
     "data": {
      "text/plain": [
       "<AxesSubplot:xlabel='month', ylabel='monthly_revenue'>"
      ]
     },
     "execution_count": 47,
     "metadata": {},
     "output_type": "execute_result"
    },
    {
     "data": {
      "image/png": "[encoded data removed]",
      "text/plain": [
       "<Figure size 640x480 with 1 Axes>"
      ]
     },
     "metadata": {},
     "output_type": "display_data"
    }
   ],
   "source": [
    " #Plot a boxplot to visualize the distribution of revenue\n",
    "sns.boxplot(data=user_month_usage,  x='month', y='monthly_revenue')"
   ]
  },
  {
   "cell_type": "markdown",
   "metadata": {},
   "source": [
    "As we see from our boxplot, the biggest thing we notice is revenue is pretty light in january but much more consistent for the rest of the months except for spikes in the holiday months November and December, where they have some very high outliers."
   ]
  },
  {
   "cell_type": "markdown",
   "metadata": {},
   "source": [
    " "
   ]
  },
  {
   "cell_type": "markdown",
   "metadata": {},
   "source": [
    "## Test statistical hypotheses"
   ]
  },
  {
   "cell_type": "markdown",
   "metadata": {},
   "source": [
    "Megaline is trying to see if one of the data plans is greater than the other. A significant enough difference in revenue is 5%. Based on the Ultimate plan being 70$ and the Surf Plan costing 20$ the Ultimate Plan should be making more revenue. However if that is not the case than the Surf plan must make more revenue or the same revenue as the Ultimate plan."
   ]
  },
  {
   "cell_type": "code",
   "execution_count": 48,
   "metadata": {},
   "outputs": [
    {
     "name": "stdout",
     "output_type": "stream",
     "text": [
      "0.0\n",
      "We reject the null hypothesis\n"
     ]
    }
   ],
   "source": [
    "# Test the hypotheses that one plan brings in more than the other on average\n",
    "# filter user_month_usage \n",
    "#filter for surf plan\n",
    "surf_monthly_usage = user_month_usage[user_month_usage['plan'] == 'surf']\n",
    "#filter for ultimate plan\n",
    "ultimate_monthly_usage = user_month_usage[user_month_usage['plan'] == 'ultimate']\n",
    "\n",
    "# Perform t-test\n",
    "from scipy import stats\n",
    "\n",
    "# Extract the column to perform t-test\n",
    "surf_revenue = surf_monthly_usage['monthly_revenue']\n",
    "ultimate_revenue = ultimate_monthly_usage['monthly_revenue']\n",
    "\n",
    "p_value = stats.ttest_ind(surf_revenue, ultimate_revenue,  equal_var=False )\n",
    "\n",
    "alpha = 0.05\n",
    "print(p_value.pvalue)\n",
    "\n",
    "if (p_value.pvalue < alpha):\n",
    "    print(\"We reject the null hypothesis\")\n",
    "else:\n",
    "    print(\"We can't reject the null hypothesis\") "
   ]
  },
  {
   "cell_type": "code",
   "execution_count": 51,
   "metadata": {},
   "outputs": [
    {
     "data": {
      "text/plain": [
       "0        70.0\n",
       "667      70.0\n",
       "668      70.0\n",
       "669      84.0\n",
       "670      84.0\n",
       "         ... \n",
       "83164    70.0\n",
       "83165    70.0\n",
       "83166    70.0\n",
       "83621    70.0\n",
       "84739    70.0\n",
       "Name: monthly_revenue, Length: 27831, dtype: float64"
      ]
     },
     "execution_count": 51,
     "metadata": {},
     "output_type": "execute_result"
    }
   ],
   "source": [
    "ultimate_revenue"
   ]
  },
  {
   "cell_type": "markdown",
   "metadata": {},
   "source": [
    "Since we reject the hypothesis we can say that the Ultimate plan does not bring in more than the surf plan."
   ]
  },
  {
   "cell_type": "markdown",
   "metadata": {},
   "source": [
    " New York and New Jersey do not have the same monthly revenue as other regions that Megaline provide services more. A 5% difference is needed to be significant enough to claim that from the data we collected from all our users. However if not then location will not have a factor in bringing in more revenue"
   ]
  },
  {
   "cell_type": "code",
   "execution_count": 50,
   "metadata": {},
   "outputs": [
    {
     "name": "stdout",
     "output_type": "stream",
     "text": [
      "2.1503221583463606e-47\n",
      "We reject the null hypothesis\n"
     ]
    }
   ],
   "source": [
    "# Test the hypotheses that avg revenue from Users in NJ-NY is differnet from other regions\n",
    "#add cities in df\n",
    "users_month_usage = user_month_usage.merge(megaline_users, on='user_id')\n",
    "users_month_usage \n",
    "#filtering data to have df with only cities from NY & NJ\n",
    "nj = ('NJ')\n",
    "ny = ('NY')\n",
    "ny_nj_month_usage = users_month_usage['city'].str.contains(nj, ny)\n",
    "#putting it back in a dataframe\n",
    "ny_nj_month_data = users_month_usage.loc[ny_nj_month_usage,['user_id', 'month', 'city', 'monthly_revenue']]\n",
    "\n",
    "ny_nj_month_data\n",
    "\n",
    "# Perform t-test\n",
    "from scipy import stats\n",
    "# Extract the column to perform t-test\n",
    "ny_nj_revenue = ny_nj_month_data['monthly_revenue']\n",
    "users_revenue = users_month_usage['monthly_revenue']\n",
    "\n",
    "p_value = stats.ttest_ind(users_revenue, ny_nj_revenue,  equal_var=False )\n",
    "\n",
    "alpha = 0.05\n",
    "print(p_value.pvalue)\n",
    "\n",
    "if (p_value.pvalue < alpha):\n",
    "    print(\"We reject the null hypothesis\")\n",
    "else:\n",
    "    print(\"We can't reject the null hypothesis\") "
   ]
  },
  {
   "cell_type": "markdown",
   "metadata": {},
   "source": [
    "Based on the hypothesis we can reject the idea of New York and New Jersey bringing in more revenue"
   ]
  },
  {
   "cell_type": "markdown",
   "metadata": {},
   "source": [
    "## General conclusion\n",
    "\n",
    "We've determined that the Surf plan brings in more revenue than the Ultimate plan and should be advertised more. Most months bring in about the same amount of revenue with exception of the first two months of the year. We also see region does not factor into revenue brought in. Customers also use more calls, internet and send out more messages later in the year compared to the begginging of the year. We also can'tr disprove the possibility that the New York New Jersey area brings in more revenue monthly as well."
   ]
  },
  {
   "cell_type": "markdown",
   "metadata": {},
   "source": [
    " "
   ]
  }
 ],
 "metadata": {
  "ExecuteTimeLog": [
   {
    "duration": 828,
    "start_time": "2021-11-16T09:21:11.304Z"
   },
   {
    "duration": 893,
    "start_time": "2021-11-16T09:21:17.728Z"
   },
   {
    "duration": 1150,
    "start_time": "2021-11-16T09:21:29.568Z"
   },
   {
    "duration": 3,
    "start_time": "2021-11-16T09:24:14.495Z"
   },
   {
    "duration": 120,
    "start_time": "2021-11-16T09:24:46.630Z"
   },
   {
    "duration": 3,
    "start_time": "2021-11-16T09:28:27.882Z"
   },
   {
    "duration": 4,
    "start_time": "2021-11-16T09:29:54.281Z"
   },
   {
    "duration": 3,
    "start_time": "2021-11-16T09:30:45.936Z"
   },
   {
    "duration": 4,
    "start_time": "2021-11-16T09:31:06.300Z"
   },
   {
    "duration": 113,
    "start_time": "2021-11-16T09:31:37.208Z"
   },
   {
    "duration": 143,
    "start_time": "2021-11-16T09:31:48.656Z"
   },
   {
    "duration": 98,
    "start_time": "2021-11-16T09:31:55.678Z"
   },
   {
    "duration": 3,
    "start_time": "2021-11-16T09:32:08.535Z"
   },
   {
    "duration": 111,
    "start_time": "2021-11-16T09:32:10.120Z"
   },
   {
    "duration": 3,
    "start_time": "2021-11-16T09:32:15.732Z"
   },
   {
    "duration": 4,
    "start_time": "2021-11-16T09:32:29.423Z"
   },
   {
    "duration": 3,
    "start_time": "2021-11-16T10:03:03.074Z"
   },
   {
    "duration": 3,
    "start_time": "2021-11-16T10:10:01.288Z"
   },
   {
    "duration": 3,
    "start_time": "2021-11-16T10:10:46.923Z"
   },
   {
    "duration": 121,
    "start_time": "2021-11-16T10:37:46.494Z"
   },
   {
    "duration": 125,
    "start_time": "2021-11-16T10:38:20.632Z"
   },
   {
    "duration": 112,
    "start_time": "2021-11-16T10:46:53.001Z"
   },
   {
    "duration": 110,
    "start_time": "2021-11-16T10:48:25.775Z"
   },
   {
    "duration": 3,
    "start_time": "2021-11-16T10:50:18.720Z"
   },
   {
    "duration": 4,
    "start_time": "2021-11-16T10:50:37.649Z"
   },
   {
    "duration": 2,
    "start_time": "2021-11-16T10:50:51.884Z"
   },
   {
    "duration": 3,
    "start_time": "2021-11-16T10:51:56.237Z"
   },
   {
    "duration": 101,
    "start_time": "2021-11-16T10:53:13.791Z"
   },
   {
    "duration": 3,
    "start_time": "2021-11-16T10:55:59.186Z"
   },
   {
    "duration": 3,
    "start_time": "2021-11-16T10:56:10.751Z"
   },
   {
    "duration": 3,
    "start_time": "2021-11-16T10:56:49.038Z"
   },
   {
    "duration": 3,
    "start_time": "2021-11-16T10:56:49.174Z"
   },
   {
    "duration": 4,
    "start_time": "2021-11-16T10:56:49.414Z"
   },
   {
    "duration": 3,
    "start_time": "2021-11-16T10:56:49.680Z"
   },
   {
    "duration": 3,
    "start_time": "2021-11-16T10:56:50.370Z"
   },
   {
    "duration": 114,
    "start_time": "2021-11-16T10:59:34.518Z"
   },
   {
    "duration": 3,
    "start_time": "2021-11-16T11:01:41.201Z"
   },
   {
    "duration": 116,
    "start_time": "2021-11-16T11:01:48.754Z"
   },
   {
    "duration": 3,
    "start_time": "2021-11-16T11:02:16.685Z"
   },
   {
    "duration": 3,
    "start_time": "2021-11-16T11:02:19.479Z"
   },
   {
    "duration": 3,
    "start_time": "2021-11-16T11:02:47.067Z"
   },
   {
    "duration": 3,
    "start_time": "2021-11-16T11:02:49.353Z"
   },
   {
    "duration": 3,
    "start_time": "2021-11-16T11:03:07.835Z"
   },
   {
    "duration": 3,
    "start_time": "2021-11-16T11:03:07.953Z"
   },
   {
    "duration": 112,
    "start_time": "2021-11-16T11:07:52.072Z"
   },
   {
    "duration": 187,
    "start_time": "2021-11-16T11:09:23.468Z"
   },
   {
    "duration": 4,
    "start_time": "2021-11-16T11:10:01.455Z"
   },
   {
    "duration": 3,
    "start_time": "2021-11-16T11:10:05.069Z"
   },
   {
    "duration": 4,
    "start_time": "2021-11-16T11:10:13.376Z"
   },
   {
    "duration": 3,
    "start_time": "2021-11-16T11:10:14.434Z"
   },
   {
    "duration": 3,
    "start_time": "2021-11-16T11:10:22.853Z"
   },
   {
    "duration": 4,
    "start_time": "2021-11-16T11:27:29.279Z"
   },
   {
    "duration": 4,
    "start_time": "2021-11-16T11:29:08.919Z"
   },
   {
    "duration": 118,
    "start_time": "2021-11-16T11:29:46.703Z"
   },
   {
    "duration": 437,
    "start_time": "2021-11-16T11:36:02.181Z"
   },
   {
    "duration": 157,
    "start_time": "2021-11-16T11:36:14.388Z"
   },
   {
    "duration": 207,
    "start_time": "2021-11-16T11:47:15.898Z"
   },
   {
    "duration": 3,
    "start_time": "2021-11-16T11:53:52.092Z"
   },
   {
    "duration": 3,
    "start_time": "2021-11-16T11:53:52.236Z"
   },
   {
    "duration": 3,
    "start_time": "2021-11-16T11:59:12.005Z"
   },
   {
    "duration": 112,
    "start_time": "2021-11-16T12:00:33.446Z"
   },
   {
    "duration": 3,
    "start_time": "2021-11-16T12:02:14.453Z"
   },
   {
    "duration": 3,
    "start_time": "2021-11-16T12:02:39.512Z"
   },
   {
    "duration": 106,
    "start_time": "2021-11-16T12:03:03.460Z"
   },
   {
    "duration": 3,
    "start_time": "2021-11-17T20:37:21.139Z"
   },
   {
    "duration": 3,
    "start_time": "2021-11-17T20:37:22.229Z"
   },
   {
    "duration": 3,
    "start_time": "2021-11-17T20:38:38.806Z"
   },
   {
    "duration": 3,
    "start_time": "2021-11-17T20:38:41.958Z"
   },
   {
    "duration": 3,
    "start_time": "2021-11-17T20:43:46.551Z"
   },
   {
    "duration": 4,
    "start_time": "2021-11-17T20:58:21.835Z"
   },
   {
    "duration": 3,
    "start_time": "2021-11-17T20:59:21.872Z"
   },
   {
    "duration": 4,
    "start_time": "2021-11-17T20:59:45.352Z"
   },
   {
    "duration": 4,
    "start_time": "2021-11-17T20:59:49.646Z"
   },
   {
    "duration": 159,
    "start_time": "2021-11-17T21:02:26.949Z"
   },
   {
    "duration": 3,
    "start_time": "2021-11-17T21:03:53.461Z"
   },
   {
    "duration": 3,
    "start_time": "2021-11-17T21:03:53.694Z"
   },
   {
    "duration": 3,
    "start_time": "2021-11-17T21:05:28.145Z"
   },
   {
    "duration": 116,
    "start_time": "2021-11-17T21:05:57.787Z"
   },
   {
    "duration": 3,
    "start_time": "2021-11-17T21:06:37.993Z"
   },
   {
    "duration": 3,
    "start_time": "2021-11-17T21:06:38.261Z"
   },
   {
    "duration": 3,
    "start_time": "2021-11-17T21:11:54.358Z"
   },
   {
    "duration": 3,
    "start_time": "2021-11-17T21:12:43.846Z"
   },
   {
    "duration": 4,
    "start_time": "2021-11-17T21:13:08.773Z"
   },
   {
    "duration": 3,
    "start_time": "2021-11-17T21:14:44.441Z"
   },
   {
    "duration": 3,
    "start_time": "2021-11-17T21:15:42.059Z"
   },
   {
    "duration": 4,
    "start_time": "2021-11-17T21:15:51.995Z"
   },
   {
    "duration": 3,
    "start_time": "2021-11-17T21:15:53.923Z"
   },
   {
    "duration": 3,
    "start_time": "2021-11-17T21:15:55.282Z"
   },
   {
    "duration": 3,
    "start_time": "2021-11-17T21:16:28.492Z"
   },
   {
    "duration": 3,
    "start_time": "2021-11-17T21:16:32.603Z"
   },
   {
    "duration": 3,
    "start_time": "2021-11-17T21:17:06.941Z"
   },
   {
    "duration": 98,
    "start_time": "2021-11-17T21:18:05.733Z"
   },
   {
    "duration": 4,
    "start_time": "2021-11-17T21:21:35.255Z"
   },
   {
    "duration": 3,
    "start_time": "2021-11-17T21:21:37.804Z"
   },
   {
    "duration": 4,
    "start_time": "2021-11-17T21:23:06.071Z"
   },
   {
    "duration": 3,
    "start_time": "2021-11-17T21:23:24.799Z"
   },
   {
    "duration": 3,
    "start_time": "2021-11-17T21:23:32.591Z"
   },
   {
    "duration": 98,
    "start_time": "2021-11-17T21:28:31.559Z"
   },
   {
    "duration": 3,
    "start_time": "2021-11-17T21:28:45.448Z"
   },
   {
    "duration": 3,
    "start_time": "2021-11-17T21:29:17.303Z"
   },
   {
    "duration": 3,
    "start_time": "2021-11-17T21:29:29.617Z"
   },
   {
    "duration": 3,
    "start_time": "2021-11-17T21:29:32.681Z"
   },
   {
    "duration": 3,
    "start_time": "2021-11-17T21:36:11.474Z"
   },
   {
    "duration": 3,
    "start_time": "2021-11-17T21:36:14.791Z"
   },
   {
    "duration": 3,
    "start_time": "2021-11-17T21:36:53.943Z"
   },
   {
    "duration": 3,
    "start_time": "2021-11-17T21:36:56.165Z"
   },
   {
    "duration": 4,
    "start_time": "2021-11-17T21:37:16.590Z"
   },
   {
    "duration": 3,
    "start_time": "2021-11-17T21:37:22.702Z"
   },
   {
    "duration": 4,
    "start_time": "2021-11-17T21:38:03.479Z"
   },
   {
    "duration": 3,
    "start_time": "2021-11-17T21:38:08.601Z"
   },
   {
    "duration": 3,
    "start_time": "2021-11-17T21:38:12.928Z"
   },
   {
    "duration": 3,
    "start_time": "2021-11-17T21:38:48.896Z"
   },
   {
    "duration": 2,
    "start_time": "2021-11-17T21:38:49.171Z"
   },
   {
    "duration": 4,
    "start_time": "2021-11-17T21:39:57.889Z"
   },
   {
    "duration": 3,
    "start_time": "2021-11-17T21:39:58.057Z"
   },
   {
    "duration": 3,
    "start_time": "2021-11-17T21:41:20.108Z"
   },
   {
    "duration": 3,
    "start_time": "2021-11-17T21:41:20.629Z"
   },
   {
    "duration": 3,
    "start_time": "2021-11-17T21:42:49.136Z"
   },
   {
    "duration": 3,
    "start_time": "2021-11-17T21:43:15.137Z"
   },
   {
    "duration": 4,
    "start_time": "2021-11-17T21:43:16.766Z"
   },
   {
    "duration": 4,
    "start_time": "2021-11-17T21:43:31.711Z"
   },
   {
    "duration": 3,
    "start_time": "2021-11-17T21:43:36.312Z"
   },
   {
    "duration": 4,
    "start_time": "2021-11-17T21:45:08.825Z"
   },
   {
    "duration": 4,
    "start_time": "2021-11-17T21:45:10.119Z"
   },
   {
    "duration": 4,
    "start_time": "2021-11-17T21:45:13.748Z"
   },
   {
    "duration": 3,
    "start_time": "2021-11-17T21:45:22.219Z"
   },
   {
    "duration": 3,
    "start_time": "2021-11-17T21:45:33.412Z"
   },
   {
    "duration": 2,
    "start_time": "2021-11-17T21:46:01.885Z"
   },
   {
    "duration": 3,
    "start_time": "2021-11-17T21:46:03.628Z"
   },
   {
    "duration": 107,
    "start_time": "2021-11-17T21:47:32.512Z"
   },
   {
    "duration": 103,
    "start_time": "2021-11-17T21:50:36.243Z"
   },
   {
    "duration": 3,
    "start_time": "2021-11-18T06:28:31.440Z"
   },
   {
    "duration": 3,
    "start_time": "2021-11-18T06:29:00.168Z"
   },
   {
    "duration": 3,
    "start_time": "2021-11-18T06:31:27.008Z"
   },
   {
    "duration": 2,
    "start_time": "2021-11-18T06:35:34.288Z"
   },
   {
    "duration": 2,
    "start_time": "2021-11-18T06:38:04.527Z"
   },
   {
    "duration": 5323,
    "start_time": "2024-07-20T21:40:58.719Z"
   },
   {
    "duration": 37,
    "start_time": "2024-07-20T21:41:38.509Z"
   },
   {
    "duration": 36,
    "start_time": "2024-07-20T21:42:22.762Z"
   },
   {
    "duration": 36,
    "start_time": "2024-07-20T21:43:37.800Z"
   },
   {
    "duration": 338,
    "start_time": "2024-07-20T21:43:47.507Z"
   },
   {
    "duration": 268,
    "start_time": "2024-07-20T21:44:08.563Z"
   },
   {
    "duration": 33,
    "start_time": "2024-07-20T21:45:25.385Z"
   },
   {
    "duration": 18,
    "start_time": "2024-07-20T21:45:40.452Z"
   },
   {
    "duration": 18,
    "start_time": "2024-07-20T21:46:24.787Z"
   },
   {
    "duration": 15,
    "start_time": "2024-07-20T21:46:52.582Z"
   },
   {
    "duration": 11,
    "start_time": "2024-07-20T21:48:05.473Z"
   },
   {
    "duration": 12,
    "start_time": "2024-07-20T21:48:07.546Z"
   },
   {
    "duration": 12,
    "start_time": "2024-07-20T21:48:07.856Z"
   },
   {
    "duration": 13,
    "start_time": "2024-07-20T21:48:08.364Z"
   },
   {
    "duration": 13,
    "start_time": "2024-07-20T21:48:08.853Z"
   },
   {
    "duration": 31,
    "start_time": "2024-07-20T22:59:23.780Z"
   },
   {
    "duration": 16,
    "start_time": "2024-07-20T22:59:30.740Z"
   },
   {
    "duration": 22,
    "start_time": "2024-07-20T22:59:50.612Z"
   },
   {
    "duration": 595,
    "start_time": "2024-07-20T22:59:57.743Z"
   },
   {
    "duration": 13,
    "start_time": "2024-07-20T23:00:07.723Z"
   },
   {
    "duration": 25,
    "start_time": "2024-07-20T23:19:02.008Z"
   },
   {
    "duration": 57,
    "start_time": "2024-07-20T23:19:12.958Z"
   },
   {
    "duration": 23,
    "start_time": "2024-07-20T23:19:17.064Z"
   },
   {
    "duration": 16,
    "start_time": "2024-07-20T23:28:00.007Z"
   },
   {
    "duration": 16,
    "start_time": "2024-07-20T23:28:24.984Z"
   },
   {
    "duration": 14,
    "start_time": "2024-07-20T23:30:34.631Z"
   },
   {
    "duration": 16,
    "start_time": "2024-07-20T23:30:39.530Z"
   },
   {
    "duration": 7,
    "start_time": "2024-07-20T23:36:45.029Z"
   },
   {
    "duration": 9,
    "start_time": "2024-07-20T23:37:12.111Z"
   },
   {
    "duration": 9,
    "start_time": "2024-07-20T23:37:23.682Z"
   },
   {
    "duration": 6,
    "start_time": "2024-07-20T23:37:43.178Z"
   },
   {
    "duration": 14,
    "start_time": "2024-07-20T23:37:47.888Z"
   },
   {
    "duration": 16,
    "start_time": "2024-07-20T23:37:51.358Z"
   },
   {
    "duration": 22,
    "start_time": "2024-07-20T23:42:36.403Z"
   },
   {
    "duration": 8,
    "start_time": "2024-07-20T23:42:43.046Z"
   },
   {
    "duration": 9,
    "start_time": "2024-07-20T23:43:34.572Z"
   },
   {
    "duration": 8,
    "start_time": "2024-07-20T23:49:04.428Z"
   },
   {
    "duration": 8,
    "start_time": "2024-07-20T23:49:09.956Z"
   },
   {
    "duration": 6,
    "start_time": "2024-07-20T23:49:26.579Z"
   },
   {
    "duration": 9,
    "start_time": "2024-07-20T23:54:04.148Z"
   },
   {
    "duration": 8,
    "start_time": "2024-07-20T23:54:19.380Z"
   },
   {
    "duration": 7,
    "start_time": "2024-07-20T23:55:21.488Z"
   },
   {
    "duration": 8,
    "start_time": "2024-07-20T23:55:27.445Z"
   },
   {
    "duration": 22,
    "start_time": "2024-07-20T23:55:58.054Z"
   },
   {
    "duration": 4,
    "start_time": "2024-07-20T23:56:19.615Z"
   },
   {
    "duration": 6,
    "start_time": "2024-07-20T23:56:22.463Z"
   },
   {
    "duration": 4,
    "start_time": "2024-07-20T23:57:53.651Z"
   },
   {
    "duration": 8,
    "start_time": "2024-07-20T23:57:54.893Z"
   },
   {
    "duration": 288,
    "start_time": "2024-07-20T23:58:04.703Z"
   },
   {
    "duration": 11,
    "start_time": "2024-07-20T23:58:05.408Z"
   },
   {
    "duration": 15,
    "start_time": "2024-07-20T23:58:05.618Z"
   },
   {
    "duration": 14,
    "start_time": "2024-07-20T23:58:05.858Z"
   },
   {
    "duration": 13,
    "start_time": "2024-07-20T23:58:06.079Z"
   },
   {
    "duration": 14,
    "start_time": "2024-07-20T23:58:06.292Z"
   },
   {
    "duration": 13,
    "start_time": "2024-07-20T23:58:08.745Z"
   },
   {
    "duration": 15,
    "start_time": "2024-07-20T23:58:09.091Z"
   },
   {
    "duration": 14,
    "start_time": "2024-07-20T23:58:11.680Z"
   },
   {
    "duration": 17,
    "start_time": "2024-07-20T23:58:12.015Z"
   },
   {
    "duration": 6,
    "start_time": "2024-07-20T23:58:13.552Z"
   },
   {
    "duration": 24,
    "start_time": "2024-07-20T23:58:14.604Z"
   },
   {
    "duration": 19,
    "start_time": "2024-07-20T23:58:33.404Z"
   },
   {
    "duration": 10,
    "start_time": "2024-07-20T23:58:58.754Z"
   },
   {
    "duration": 261,
    "start_time": "2024-07-20T23:59:18.459Z"
   },
   {
    "duration": 10,
    "start_time": "2024-07-20T23:59:19.087Z"
   },
   {
    "duration": 11,
    "start_time": "2024-07-20T23:59:19.277Z"
   },
   {
    "duration": 9,
    "start_time": "2024-07-20T23:59:19.518Z"
   },
   {
    "duration": 12,
    "start_time": "2024-07-20T23:59:19.793Z"
   },
   {
    "duration": 13,
    "start_time": "2024-07-20T23:59:20.095Z"
   },
   {
    "duration": 14,
    "start_time": "2024-07-20T23:59:21.649Z"
   },
   {
    "duration": 22,
    "start_time": "2024-07-20T23:59:22.123Z"
   },
   {
    "duration": 14,
    "start_time": "2024-07-20T23:59:26.272Z"
   },
   {
    "duration": 12,
    "start_time": "2024-07-20T23:59:26.605Z"
   },
   {
    "duration": 16,
    "start_time": "2024-07-20T23:59:51.461Z"
   },
   {
    "duration": 9,
    "start_time": "2024-07-21T00:00:35.515Z"
   },
   {
    "duration": 24,
    "start_time": "2024-07-21T00:01:55.517Z"
   },
   {
    "duration": 15,
    "start_time": "2024-07-21T00:03:31.591Z"
   },
   {
    "duration": 22,
    "start_time": "2024-07-21T00:05:48.138Z"
   },
   {
    "duration": 15,
    "start_time": "2024-07-21T00:05:48.791Z"
   },
   {
    "duration": 16,
    "start_time": "2024-07-21T00:38:33.345Z"
   },
   {
    "duration": 13,
    "start_time": "2024-07-21T00:38:43.909Z"
   },
   {
    "duration": 14,
    "start_time": "2024-07-21T00:38:54.829Z"
   },
   {
    "duration": 23,
    "start_time": "2024-07-21T00:39:50.075Z"
   },
   {
    "duration": 15,
    "start_time": "2024-07-21T00:39:50.466Z"
   },
   {
    "duration": 27,
    "start_time": "2024-07-21T00:40:02.199Z"
   },
   {
    "duration": 12,
    "start_time": "2024-07-21T00:40:13.468Z"
   },
   {
    "duration": 276,
    "start_time": "2024-07-21T00:51:15.931Z"
   },
   {
    "duration": 163,
    "start_time": "2024-07-21T00:52:00.247Z"
   },
   {
    "duration": 173,
    "start_time": "2024-07-21T00:52:28.581Z"
   },
   {
    "duration": 15,
    "start_time": "2024-07-21T00:53:48.650Z"
   },
   {
    "duration": 26,
    "start_time": "2024-07-21T00:56:58.878Z"
   },
   {
    "duration": 31,
    "start_time": "2024-07-21T01:08:48.912Z"
   },
   {
    "duration": 6,
    "start_time": "2024-07-21T01:10:17.028Z"
   },
   {
    "duration": 845,
    "start_time": "2024-07-21T01:10:25.687Z"
   },
   {
    "duration": 44,
    "start_time": "2024-07-21T01:10:48.554Z"
   },
   {
    "duration": 6,
    "start_time": "2024-07-21T01:19:17.099Z"
   },
   {
    "duration": 25,
    "start_time": "2024-07-21T01:25:03.347Z"
   },
   {
    "duration": 34,
    "start_time": "2024-07-21T01:26:08.467Z"
   },
   {
    "duration": 20,
    "start_time": "2024-07-21T01:27:01.321Z"
   },
   {
    "duration": 33,
    "start_time": "2024-07-21T01:29:02.394Z"
   },
   {
    "duration": 6,
    "start_time": "2024-07-21T01:29:59.116Z"
   },
   {
    "duration": 37,
    "start_time": "2024-07-21T01:30:06.598Z"
   },
   {
    "duration": 1525,
    "start_time": "2024-07-21T01:42:08.283Z"
   },
   {
    "duration": 20,
    "start_time": "2024-07-21T01:42:09.812Z"
   },
   {
    "duration": 12,
    "start_time": "2024-07-21T01:42:09.835Z"
   },
   {
    "duration": 10,
    "start_time": "2024-07-21T01:42:09.850Z"
   },
   {
    "duration": 13,
    "start_time": "2024-07-21T01:42:09.865Z"
   },
   {
    "duration": 52,
    "start_time": "2024-07-21T01:42:09.880Z"
   },
   {
    "duration": 17,
    "start_time": "2024-07-21T01:42:09.936Z"
   },
   {
    "duration": 13,
    "start_time": "2024-07-21T01:42:09.956Z"
   },
   {
    "duration": 16,
    "start_time": "2024-07-21T01:42:09.972Z"
   },
   {
    "duration": 54,
    "start_time": "2024-07-21T01:42:09.991Z"
   },
   {
    "duration": 16,
    "start_time": "2024-07-21T01:42:10.049Z"
   },
   {
    "duration": 23,
    "start_time": "2024-07-21T01:42:10.069Z"
   },
   {
    "duration": 19,
    "start_time": "2024-07-21T01:42:10.132Z"
   },
   {
    "duration": 72,
    "start_time": "2024-07-21T01:42:10.159Z"
   },
   {
    "duration": 23,
    "start_time": "2024-07-21T01:42:10.235Z"
   },
   {
    "duration": 17,
    "start_time": "2024-07-21T01:42:10.261Z"
   },
   {
    "duration": 67,
    "start_time": "2024-07-21T01:42:10.284Z"
   },
   {
    "duration": 23,
    "start_time": "2024-07-21T01:42:10.353Z"
   },
   {
    "duration": 15,
    "start_time": "2024-07-21T01:42:10.380Z"
   },
   {
    "duration": 67,
    "start_time": "2024-07-21T01:42:10.398Z"
   },
   {
    "duration": 3,
    "start_time": "2024-07-21T01:42:10.468Z"
   },
   {
    "duration": 3,
    "start_time": "2024-07-21T01:42:10.475Z"
   },
   {
    "duration": 4,
    "start_time": "2024-07-21T01:42:10.481Z"
   },
   {
    "duration": 42,
    "start_time": "2024-07-21T01:42:10.488Z"
   },
   {
    "duration": 3,
    "start_time": "2024-07-21T01:42:10.533Z"
   },
   {
    "duration": 3,
    "start_time": "2024-07-21T01:42:10.540Z"
   },
   {
    "duration": 4,
    "start_time": "2024-07-21T01:42:10.546Z"
   },
   {
    "duration": 5,
    "start_time": "2024-07-21T01:42:10.553Z"
   },
   {
    "duration": 3,
    "start_time": "2024-07-21T01:42:10.561Z"
   },
   {
    "duration": 4,
    "start_time": "2024-07-21T01:42:10.567Z"
   },
   {
    "duration": 3,
    "start_time": "2024-07-21T01:42:10.630Z"
   },
   {
    "duration": 5,
    "start_time": "2024-07-21T01:42:10.636Z"
   },
   {
    "duration": 4,
    "start_time": "2024-07-21T01:42:10.644Z"
   },
   {
    "duration": 4,
    "start_time": "2024-07-21T01:42:10.651Z"
   },
   {
    "duration": 3,
    "start_time": "2024-07-21T01:42:10.658Z"
   },
   {
    "duration": 4,
    "start_time": "2024-07-21T01:42:10.664Z"
   },
   {
    "duration": 200,
    "start_time": "2024-07-21T01:43:28.366Z"
   },
   {
    "duration": 10,
    "start_time": "2024-07-21T01:43:37.283Z"
   },
   {
    "duration": 9,
    "start_time": "2024-07-21T01:43:43.564Z"
   },
   {
    "duration": 7,
    "start_time": "2024-07-21T01:43:57.237Z"
   },
   {
    "duration": 48,
    "start_time": "2024-07-21T01:44:49.706Z"
   },
   {
    "duration": 37,
    "start_time": "2024-07-21T01:46:51.764Z"
   },
   {
    "duration": 61,
    "start_time": "2024-07-21T01:48:12.082Z"
   },
   {
    "duration": 13,
    "start_time": "2024-07-21T02:00:02.469Z"
   },
   {
    "duration": 5492,
    "start_time": "2024-07-22T14:14:33.220Z"
   },
   {
    "duration": 18,
    "start_time": "2024-07-22T14:14:38.716Z"
   },
   {
    "duration": 29,
    "start_time": "2024-07-22T14:14:38.738Z"
   },
   {
    "duration": 13,
    "start_time": "2024-07-22T14:14:38.774Z"
   },
   {
    "duration": 15,
    "start_time": "2024-07-22T14:14:38.790Z"
   },
   {
    "duration": 14,
    "start_time": "2024-07-22T14:14:38.809Z"
   },
   {
    "duration": 51,
    "start_time": "2024-07-22T14:14:38.826Z"
   },
   {
    "duration": 18,
    "start_time": "2024-07-22T14:14:38.880Z"
   },
   {
    "duration": 16,
    "start_time": "2024-07-22T14:14:38.902Z"
   },
   {
    "duration": 59,
    "start_time": "2024-07-22T14:14:38.923Z"
   },
   {
    "duration": 7,
    "start_time": "2024-07-22T14:14:38.987Z"
   },
   {
    "duration": 18,
    "start_time": "2024-07-22T14:14:39.844Z"
   },
   {
    "duration": 25,
    "start_time": "2024-07-22T14:14:40.250Z"
   },
   {
    "duration": 18,
    "start_time": "2024-07-22T14:14:40.420Z"
   },
   {
    "duration": 58,
    "start_time": "2024-07-22T14:14:41.353Z"
   },
   {
    "duration": 44,
    "start_time": "2024-07-22T14:14:41.916Z"
   },
   {
    "duration": 22,
    "start_time": "2024-07-22T14:14:42.288Z"
   },
   {
    "duration": 14,
    "start_time": "2024-07-22T14:14:42.483Z"
   },
   {
    "duration": 37,
    "start_time": "2024-07-22T14:14:43.494Z"
   },
   {
    "duration": 30,
    "start_time": "2024-07-22T14:14:44.125Z"
   },
   {
    "duration": 25,
    "start_time": "2024-07-22T14:14:44.483Z"
   },
   {
    "duration": 16,
    "start_time": "2024-07-22T14:14:44.647Z"
   },
   {
    "duration": 78,
    "start_time": "2024-07-22T14:14:45.711Z"
   },
   {
    "duration": 40,
    "start_time": "2024-07-22T14:14:47.788Z"
   },
   {
    "duration": 14,
    "start_time": "2024-07-22T14:14:50.132Z"
   },
   {
    "duration": 52,
    "start_time": "2024-07-22T14:21:26.813Z"
   },
   {
    "duration": 49,
    "start_time": "2024-07-22T14:21:39.117Z"
   },
   {
    "duration": 48,
    "start_time": "2024-07-22T14:21:59.635Z"
   },
   {
    "duration": 45,
    "start_time": "2024-07-22T14:23:48.559Z"
   },
   {
    "duration": 116,
    "start_time": "2024-07-22T14:31:27.697Z"
   },
   {
    "duration": 76,
    "start_time": "2024-07-22T14:31:35.039Z"
   },
   {
    "duration": 57,
    "start_time": "2024-07-22T14:31:51.409Z"
   },
   {
    "duration": 67,
    "start_time": "2024-07-22T14:32:07.227Z"
   },
   {
    "duration": 67,
    "start_time": "2024-07-22T15:00:17.593Z"
   },
   {
    "duration": 273,
    "start_time": "2024-07-22T15:01:01.817Z"
   },
   {
    "duration": 12,
    "start_time": "2024-07-22T15:01:02.279Z"
   },
   {
    "duration": 12,
    "start_time": "2024-07-22T15:01:02.408Z"
   },
   {
    "duration": 9,
    "start_time": "2024-07-22T15:01:02.541Z"
   },
   {
    "duration": 12,
    "start_time": "2024-07-22T15:01:02.694Z"
   },
   {
    "duration": 13,
    "start_time": "2024-07-22T15:01:02.816Z"
   },
   {
    "duration": 14,
    "start_time": "2024-07-22T15:01:03.373Z"
   },
   {
    "duration": 12,
    "start_time": "2024-07-22T15:01:03.521Z"
   },
   {
    "duration": 15,
    "start_time": "2024-07-22T15:01:04.912Z"
   },
   {
    "duration": 14,
    "start_time": "2024-07-22T15:01:05.083Z"
   },
   {
    "duration": 7,
    "start_time": "2024-07-22T15:01:05.824Z"
   },
   {
    "duration": 17,
    "start_time": "2024-07-22T15:01:06.224Z"
   },
   {
    "duration": 25,
    "start_time": "2024-07-22T15:01:06.552Z"
   },
   {
    "duration": 16,
    "start_time": "2024-07-22T15:01:07.286Z"
   },
   {
    "duration": 57,
    "start_time": "2024-07-22T15:01:08.319Z"
   },
   {
    "duration": 82,
    "start_time": "2024-07-22T15:01:08.931Z"
   },
   {
    "duration": 19,
    "start_time": "2024-07-22T15:01:09.332Z"
   },
   {
    "duration": 14,
    "start_time": "2024-07-22T15:01:09.532Z"
   },
   {
    "duration": 29,
    "start_time": "2024-07-22T15:01:10.568Z"
   },
   {
    "duration": 56,
    "start_time": "2024-07-22T15:01:11.066Z"
   },
   {
    "duration": 22,
    "start_time": "2024-07-22T15:01:11.378Z"
   },
   {
    "duration": 14,
    "start_time": "2024-07-22T15:01:11.541Z"
   },
   {
    "duration": 66,
    "start_time": "2024-07-22T15:01:13.168Z"
   },
   {
    "duration": 68,
    "start_time": "2024-07-22T15:01:13.914Z"
   },
   {
    "duration": 11,
    "start_time": "2024-07-22T15:01:15.201Z"
   },
   {
    "duration": 19,
    "start_time": "2024-07-22T15:11:01.603Z"
   },
   {
    "duration": 14,
    "start_time": "2024-07-22T15:12:14.641Z"
   },
   {
    "duration": 7,
    "start_time": "2024-07-22T15:12:20.607Z"
   },
   {
    "duration": 7,
    "start_time": "2024-07-22T15:12:29.454Z"
   },
   {
    "duration": 20,
    "start_time": "2024-07-22T15:12:41.813Z"
   },
   {
    "duration": 23,
    "start_time": "2024-07-22T15:23:07.418Z"
   },
   {
    "duration": 7,
    "start_time": "2024-07-22T15:24:21.148Z"
   },
   {
    "duration": 24,
    "start_time": "2024-07-22T15:24:26.965Z"
   },
   {
    "duration": 32,
    "start_time": "2024-07-22T15:26:11.481Z"
   },
   {
    "duration": 390,
    "start_time": "2024-07-22T15:29:00.882Z"
   },
   {
    "duration": 16,
    "start_time": "2024-07-22T15:29:07.236Z"
   },
   {
    "duration": 176,
    "start_time": "2024-07-22T15:29:22.666Z"
   },
   {
    "duration": 6,
    "start_time": "2024-07-22T15:29:49.044Z"
   },
   {
    "duration": 32,
    "start_time": "2024-07-22T15:33:42.581Z"
   },
   {
    "duration": 32,
    "start_time": "2024-07-22T15:33:59.580Z"
   },
   {
    "duration": 20,
    "start_time": "2024-07-22T15:36:13.315Z"
   },
   {
    "duration": 35,
    "start_time": "2024-07-22T15:36:19.677Z"
   },
   {
    "duration": 876,
    "start_time": "2024-07-22T15:36:45.942Z"
   },
   {
    "duration": 34,
    "start_time": "2024-07-22T15:37:02.275Z"
   },
   {
    "duration": 10,
    "start_time": "2024-07-22T15:37:40.860Z"
   },
   {
    "duration": 23,
    "start_time": "2024-07-22T15:39:09.579Z"
   },
   {
    "duration": 26,
    "start_time": "2024-07-22T15:39:16.631Z"
   },
   {
    "duration": 20,
    "start_time": "2024-07-22T15:41:25.751Z"
   },
   {
    "duration": 30,
    "start_time": "2024-07-22T15:41:48.611Z"
   },
   {
    "duration": 132,
    "start_time": "2024-07-22T15:43:20.998Z"
   },
   {
    "duration": 33,
    "start_time": "2024-07-22T15:43:30.585Z"
   },
   {
    "duration": 25,
    "start_time": "2024-07-22T15:44:15.592Z"
   },
   {
    "duration": 20,
    "start_time": "2024-07-22T15:44:45.061Z"
   },
   {
    "duration": 22,
    "start_time": "2024-07-22T15:45:13.459Z"
   },
   {
    "duration": 31,
    "start_time": "2024-07-22T15:45:22.736Z"
   },
   {
    "duration": 25,
    "start_time": "2024-07-22T15:45:52.681Z"
   },
   {
    "duration": 31,
    "start_time": "2024-07-22T15:46:06.719Z"
   },
   {
    "duration": 18,
    "start_time": "2024-07-22T15:51:09.964Z"
   },
   {
    "duration": 17,
    "start_time": "2024-07-22T15:52:23.761Z"
   },
   {
    "duration": 22,
    "start_time": "2024-07-22T15:52:57.253Z"
   },
   {
    "duration": 21,
    "start_time": "2024-07-22T15:53:05.298Z"
   },
   {
    "duration": 27,
    "start_time": "2024-07-22T15:54:57.812Z"
   },
   {
    "duration": 20,
    "start_time": "2024-07-22T15:57:21.512Z"
   },
   {
    "duration": 25,
    "start_time": "2024-07-22T16:01:43.013Z"
   },
   {
    "duration": 29,
    "start_time": "2024-07-22T16:02:16.805Z"
   },
   {
    "duration": 5,
    "start_time": "2024-07-22T16:10:32.147Z"
   },
   {
    "duration": 38,
    "start_time": "2024-07-22T16:10:56.290Z"
   },
   {
    "duration": 29,
    "start_time": "2024-07-22T16:14:43.158Z"
   },
   {
    "duration": 40,
    "start_time": "2024-07-22T16:14:53.326Z"
   },
   {
    "duration": 12,
    "start_time": "2024-07-22T16:15:24.531Z"
   },
   {
    "duration": 115,
    "start_time": "2024-07-22T16:21:54.958Z"
   },
   {
    "duration": 96,
    "start_time": "2024-07-22T16:22:03.079Z"
   },
   {
    "duration": 81,
    "start_time": "2024-07-22T16:22:14.394Z"
   },
   {
    "duration": 79,
    "start_time": "2024-07-22T16:22:22.497Z"
   },
   {
    "duration": 15,
    "start_time": "2024-07-22T16:22:47.710Z"
   },
   {
    "duration": 100,
    "start_time": "2024-07-22T16:23:35.475Z"
   },
   {
    "duration": 18,
    "start_time": "2024-07-22T16:23:48.126Z"
   },
   {
    "duration": 27,
    "start_time": "2024-07-22T16:23:58.485Z"
   },
   {
    "duration": 58,
    "start_time": "2024-07-22T16:26:44.083Z"
   },
   {
    "duration": 20,
    "start_time": "2024-07-22T17:05:54.198Z"
   },
   {
    "duration": 310,
    "start_time": "2024-07-22T17:18:20.484Z"
   },
   {
    "duration": 1656,
    "start_time": "2024-07-22T17:18:34.537Z"
   },
   {
    "duration": 18,
    "start_time": "2024-07-22T17:18:36.196Z"
   },
   {
    "duration": 11,
    "start_time": "2024-07-22T17:18:36.216Z"
   },
   {
    "duration": 9,
    "start_time": "2024-07-22T17:18:36.231Z"
   },
   {
    "duration": 13,
    "start_time": "2024-07-22T17:18:36.272Z"
   },
   {
    "duration": 17,
    "start_time": "2024-07-22T17:18:36.288Z"
   },
   {
    "duration": 18,
    "start_time": "2024-07-22T17:18:36.309Z"
   },
   {
    "duration": 15,
    "start_time": "2024-07-22T17:18:36.369Z"
   },
   {
    "duration": 15,
    "start_time": "2024-07-22T17:18:36.387Z"
   },
   {
    "duration": 17,
    "start_time": "2024-07-22T17:18:36.405Z"
   },
   {
    "duration": 47,
    "start_time": "2024-07-22T17:18:36.426Z"
   },
   {
    "duration": 29,
    "start_time": "2024-07-22T17:18:36.476Z"
   },
   {
    "duration": 26,
    "start_time": "2024-07-22T17:18:36.508Z"
   },
   {
    "duration": 21,
    "start_time": "2024-07-22T17:18:36.568Z"
   },
   {
    "duration": 84,
    "start_time": "2024-07-22T17:18:36.592Z"
   },
   {
    "duration": 125,
    "start_time": "2024-07-22T17:18:36.680Z"
   },
   {
    "duration": 19,
    "start_time": "2024-07-22T17:18:36.809Z"
   },
   {
    "duration": 14,
    "start_time": "2024-07-22T17:18:36.868Z"
   },
   {
    "duration": 30,
    "start_time": "2024-07-22T17:18:36.886Z"
   },
   {
    "duration": 89,
    "start_time": "2024-07-22T17:18:36.919Z"
   },
   {
    "duration": 22,
    "start_time": "2024-07-22T17:18:37.012Z"
   },
   {
    "duration": 40,
    "start_time": "2024-07-22T17:18:37.037Z"
   },
   {
    "duration": 86,
    "start_time": "2024-07-22T17:18:37.081Z"
   },
   {
    "duration": 70,
    "start_time": "2024-07-22T17:18:37.170Z"
   },
   {
    "duration": 29,
    "start_time": "2024-07-22T17:18:37.242Z"
   },
   {
    "duration": 33,
    "start_time": "2024-07-22T17:18:37.274Z"
   },
   {
    "duration": 67,
    "start_time": "2024-07-22T17:18:37.310Z"
   },
   {
    "duration": 32,
    "start_time": "2024-07-22T17:18:37.382Z"
   },
   {
    "duration": 53,
    "start_time": "2024-07-22T17:18:37.417Z"
   },
   {
    "duration": 60,
    "start_time": "2024-07-22T17:18:37.474Z"
   },
   {
    "duration": 33,
    "start_time": "2024-07-22T17:18:37.537Z"
   },
   {
    "duration": 4,
    "start_time": "2024-07-22T17:18:37.574Z"
   },
   {
    "duration": 4,
    "start_time": "2024-07-22T17:18:37.581Z"
   },
   {
    "duration": 4,
    "start_time": "2024-07-22T17:18:37.588Z"
   },
   {
    "duration": 3,
    "start_time": "2024-07-22T17:18:37.595Z"
   },
   {
    "duration": 4,
    "start_time": "2024-07-22T17:18:37.601Z"
   },
   {
    "duration": 6,
    "start_time": "2024-07-22T17:18:37.608Z"
   },
   {
    "duration": 4,
    "start_time": "2024-07-22T17:18:37.669Z"
   },
   {
    "duration": 4,
    "start_time": "2024-07-22T17:18:37.676Z"
   },
   {
    "duration": 4,
    "start_time": "2024-07-22T17:18:37.684Z"
   },
   {
    "duration": 14,
    "start_time": "2024-07-22T17:19:33.960Z"
   },
   {
    "duration": 17,
    "start_time": "2024-07-22T17:19:54.652Z"
   },
   {
    "duration": 20,
    "start_time": "2024-07-22T17:24:12.218Z"
   },
   {
    "duration": 105,
    "start_time": "2024-07-22T17:25:59.911Z"
   },
   {
    "duration": 1584,
    "start_time": "2024-07-22T17:27:04.906Z"
   },
   {
    "duration": 16,
    "start_time": "2024-07-22T17:27:06.494Z"
   },
   {
    "duration": 12,
    "start_time": "2024-07-22T17:27:06.513Z"
   },
   {
    "duration": 40,
    "start_time": "2024-07-22T17:27:06.528Z"
   },
   {
    "duration": 13,
    "start_time": "2024-07-22T17:27:06.574Z"
   },
   {
    "duration": 15,
    "start_time": "2024-07-22T17:27:06.591Z"
   },
   {
    "duration": 15,
    "start_time": "2024-07-22T17:27:06.609Z"
   },
   {
    "duration": 15,
    "start_time": "2024-07-22T17:27:06.670Z"
   },
   {
    "duration": 16,
    "start_time": "2024-07-22T17:27:06.688Z"
   },
   {
    "duration": 14,
    "start_time": "2024-07-22T17:27:06.708Z"
   },
   {
    "duration": 48,
    "start_time": "2024-07-22T17:27:06.725Z"
   },
   {
    "duration": 28,
    "start_time": "2024-07-22T17:27:06.776Z"
   },
   {
    "duration": 25,
    "start_time": "2024-07-22T17:27:06.807Z"
   },
   {
    "duration": 16,
    "start_time": "2024-07-22T17:27:06.873Z"
   },
   {
    "duration": 83,
    "start_time": "2024-07-22T17:27:06.892Z"
   },
   {
    "duration": 127,
    "start_time": "2024-07-22T17:27:06.978Z"
   },
   {
    "duration": 24,
    "start_time": "2024-07-22T17:27:07.109Z"
   },
   {
    "duration": 40,
    "start_time": "2024-07-22T17:27:07.136Z"
   },
   {
    "duration": 29,
    "start_time": "2024-07-22T17:27:07.180Z"
   },
   {
    "duration": 87,
    "start_time": "2024-07-22T17:27:07.212Z"
   },
   {
    "duration": 22,
    "start_time": "2024-07-22T17:27:07.302Z"
   },
   {
    "duration": 44,
    "start_time": "2024-07-22T17:27:07.327Z"
   },
   {
    "duration": 73,
    "start_time": "2024-07-22T17:27:07.374Z"
   },
   {
    "duration": 84,
    "start_time": "2024-07-22T17:27:07.451Z"
   },
   {
    "duration": 32,
    "start_time": "2024-07-22T17:27:07.538Z"
   },
   {
    "duration": 32,
    "start_time": "2024-07-22T17:27:07.574Z"
   },
   {
    "duration": 61,
    "start_time": "2024-07-22T17:27:07.609Z"
   },
   {
    "duration": 25,
    "start_time": "2024-07-22T17:27:07.673Z"
   },
   {
    "duration": 27,
    "start_time": "2024-07-22T17:27:07.701Z"
   },
   {
    "duration": 95,
    "start_time": "2024-07-22T17:27:07.731Z"
   },
   {
    "duration": 15,
    "start_time": "2024-07-22T17:27:07.829Z"
   },
   {
    "duration": 4,
    "start_time": "2024-07-22T17:27:07.868Z"
   },
   {
    "duration": 28,
    "start_time": "2024-07-22T17:27:07.876Z"
   },
   {
    "duration": 11,
    "start_time": "2024-07-22T17:27:07.907Z"
   },
   {
    "duration": 7,
    "start_time": "2024-07-22T17:27:07.921Z"
   },
   {
    "duration": 3,
    "start_time": "2024-07-22T17:27:07.931Z"
   },
   {
    "duration": 16,
    "start_time": "2024-07-22T17:27:07.969Z"
   },
   {
    "duration": 4,
    "start_time": "2024-07-22T17:27:07.988Z"
   },
   {
    "duration": 16,
    "start_time": "2024-07-22T17:27:07.995Z"
   },
   {
    "duration": 4,
    "start_time": "2024-07-22T17:27:08.014Z"
   },
   {
    "duration": 4,
    "start_time": "2024-07-22T17:27:08.072Z"
   },
   {
    "duration": 8,
    "start_time": "2024-07-22T17:29:11.170Z"
   },
   {
    "duration": 22,
    "start_time": "2024-07-22T17:29:20.103Z"
   },
   {
    "duration": 1478,
    "start_time": "2024-07-22T17:29:42.229Z"
   },
   {
    "duration": 15,
    "start_time": "2024-07-22T17:29:43.710Z"
   },
   {
    "duration": 11,
    "start_time": "2024-07-22T17:29:43.728Z"
   },
   {
    "duration": 26,
    "start_time": "2024-07-22T17:29:43.745Z"
   },
   {
    "duration": 13,
    "start_time": "2024-07-22T17:29:43.774Z"
   },
   {
    "duration": 14,
    "start_time": "2024-07-22T17:29:43.790Z"
   },
   {
    "duration": 15,
    "start_time": "2024-07-22T17:29:43.807Z"
   },
   {
    "duration": 13,
    "start_time": "2024-07-22T17:29:43.869Z"
   },
   {
    "duration": 15,
    "start_time": "2024-07-22T17:29:43.885Z"
   },
   {
    "duration": 18,
    "start_time": "2024-07-22T17:29:43.907Z"
   },
   {
    "duration": 46,
    "start_time": "2024-07-22T17:29:43.927Z"
   },
   {
    "duration": 27,
    "start_time": "2024-07-22T17:29:43.976Z"
   },
   {
    "duration": 25,
    "start_time": "2024-07-22T17:29:44.006Z"
   },
   {
    "duration": 17,
    "start_time": "2024-07-22T17:29:44.069Z"
   },
   {
    "duration": 82,
    "start_time": "2024-07-22T17:29:44.088Z"
   },
   {
    "duration": 97,
    "start_time": "2024-07-22T17:29:44.173Z"
   },
   {
    "duration": 20,
    "start_time": "2024-07-22T17:29:44.273Z"
   },
   {
    "duration": 12,
    "start_time": "2024-07-22T17:29:44.296Z"
   },
   {
    "duration": 71,
    "start_time": "2024-07-22T17:29:44.312Z"
   },
   {
    "duration": 56,
    "start_time": "2024-07-22T17:29:44.386Z"
   },
   {
    "duration": 43,
    "start_time": "2024-07-22T17:29:44.445Z"
   },
   {
    "duration": 15,
    "start_time": "2024-07-22T17:29:44.491Z"
   },
   {
    "duration": 96,
    "start_time": "2024-07-22T17:29:44.509Z"
   },
   {
    "duration": 77,
    "start_time": "2024-07-22T17:29:44.608Z"
   },
   {
    "duration": 12,
    "start_time": "2024-07-22T17:29:44.688Z"
   },
   {
    "duration": 29,
    "start_time": "2024-07-22T17:29:44.704Z"
   },
   {
    "duration": 32,
    "start_time": "2024-07-22T17:29:44.767Z"
   },
   {
    "duration": 23,
    "start_time": "2024-07-22T17:29:44.807Z"
   },
   {
    "duration": 56,
    "start_time": "2024-07-22T17:29:44.833Z"
   },
   {
    "duration": 75,
    "start_time": "2024-07-22T17:29:44.893Z"
   },
   {
    "duration": 14,
    "start_time": "2024-07-22T17:29:44.971Z"
   },
   {
    "duration": 3,
    "start_time": "2024-07-22T17:29:44.989Z"
   },
   {
    "duration": 24,
    "start_time": "2024-07-22T17:29:44.995Z"
   },
   {
    "duration": 46,
    "start_time": "2024-07-22T17:29:45.022Z"
   },
   {
    "duration": 5,
    "start_time": "2024-07-22T17:29:45.071Z"
   },
   {
    "duration": 4,
    "start_time": "2024-07-22T17:29:45.079Z"
   },
   {
    "duration": 16,
    "start_time": "2024-07-22T17:29:45.088Z"
   },
   {
    "duration": 4,
    "start_time": "2024-07-22T17:29:45.107Z"
   },
   {
    "duration": 64,
    "start_time": "2024-07-22T17:29:45.115Z"
   },
   {
    "duration": 4,
    "start_time": "2024-07-22T17:29:45.182Z"
   },
   {
    "duration": 4,
    "start_time": "2024-07-22T17:29:45.190Z"
   },
   {
    "duration": 1293,
    "start_time": "2024-07-22T17:36:02.695Z"
   },
   {
    "duration": 22,
    "start_time": "2024-07-22T17:36:24.492Z"
   },
   {
    "duration": 9,
    "start_time": "2024-07-22T17:37:00.680Z"
   },
   {
    "duration": 25,
    "start_time": "2024-07-22T17:37:11.645Z"
   },
   {
    "duration": 1480,
    "start_time": "2024-07-22T17:37:20.095Z"
   },
   {
    "duration": 16,
    "start_time": "2024-07-22T17:37:21.578Z"
   },
   {
    "duration": 12,
    "start_time": "2024-07-22T17:37:21.596Z"
   },
   {
    "duration": 13,
    "start_time": "2024-07-22T17:37:21.611Z"
   },
   {
    "duration": 45,
    "start_time": "2024-07-22T17:37:21.630Z"
   },
   {
    "duration": 14,
    "start_time": "2024-07-22T17:37:21.678Z"
   },
   {
    "duration": 16,
    "start_time": "2024-07-22T17:37:21.695Z"
   },
   {
    "duration": 13,
    "start_time": "2024-07-22T17:37:21.714Z"
   },
   {
    "duration": 51,
    "start_time": "2024-07-22T17:37:21.729Z"
   },
   {
    "duration": 17,
    "start_time": "2024-07-22T17:37:21.784Z"
   },
   {
    "duration": 7,
    "start_time": "2024-07-22T17:37:21.804Z"
   },
   {
    "duration": 70,
    "start_time": "2024-07-22T17:37:21.814Z"
   },
   {
    "duration": 27,
    "start_time": "2024-07-22T17:37:21.888Z"
   },
   {
    "duration": 47,
    "start_time": "2024-07-22T17:37:21.922Z"
   },
   {
    "duration": 58,
    "start_time": "2024-07-22T17:37:21.972Z"
   },
   {
    "duration": 104,
    "start_time": "2024-07-22T17:37:22.032Z"
   },
   {
    "duration": 35,
    "start_time": "2024-07-22T17:37:22.140Z"
   },
   {
    "duration": 14,
    "start_time": "2024-07-22T17:37:22.178Z"
   },
   {
    "duration": 34,
    "start_time": "2024-07-22T17:37:22.195Z"
   },
   {
    "duration": 88,
    "start_time": "2024-07-22T17:37:22.233Z"
   },
   {
    "duration": 45,
    "start_time": "2024-07-22T17:37:22.324Z"
   },
   {
    "duration": 15,
    "start_time": "2024-07-22T17:37:22.372Z"
   },
   {
    "duration": 86,
    "start_time": "2024-07-22T17:37:22.391Z"
   },
   {
    "duration": 86,
    "start_time": "2024-07-22T17:37:22.480Z"
   },
   {
    "duration": 12,
    "start_time": "2024-07-22T17:37:22.569Z"
   },
   {
    "duration": 31,
    "start_time": "2024-07-22T17:37:22.584Z"
   },
   {
    "duration": 66,
    "start_time": "2024-07-22T17:37:22.618Z"
   },
   {
    "duration": 23,
    "start_time": "2024-07-22T17:37:22.686Z"
   },
   {
    "duration": 26,
    "start_time": "2024-07-22T17:37:22.712Z"
   },
   {
    "duration": 57,
    "start_time": "2024-07-22T17:37:22.768Z"
   },
   {
    "duration": 12,
    "start_time": "2024-07-22T17:37:22.828Z"
   },
   {
    "duration": 3,
    "start_time": "2024-07-22T17:37:22.867Z"
   },
   {
    "duration": 23,
    "start_time": "2024-07-22T17:37:22.873Z"
   },
   {
    "duration": 3,
    "start_time": "2024-07-22T17:37:22.899Z"
   },
   {
    "duration": 4,
    "start_time": "2024-07-22T17:37:22.906Z"
   },
   {
    "duration": 4,
    "start_time": "2024-07-22T17:37:22.913Z"
   },
   {
    "duration": 13,
    "start_time": "2024-07-22T17:37:22.968Z"
   },
   {
    "duration": 3,
    "start_time": "2024-07-22T17:37:22.984Z"
   },
   {
    "duration": 14,
    "start_time": "2024-07-22T17:37:22.990Z"
   },
   {
    "duration": 4,
    "start_time": "2024-07-22T17:37:23.007Z"
   },
   {
    "duration": 3,
    "start_time": "2024-07-22T17:37:23.019Z"
   },
   {
    "duration": 18,
    "start_time": "2024-07-22T17:38:24.344Z"
   },
   {
    "duration": 18,
    "start_time": "2024-07-22T17:39:01.471Z"
   },
   {
    "duration": 20,
    "start_time": "2024-07-22T17:40:45.638Z"
   },
   {
    "duration": 9,
    "start_time": "2024-07-22T17:54:42.538Z"
   },
   {
    "duration": 472,
    "start_time": "2024-07-22T17:54:47.285Z"
   },
   {
    "duration": 16,
    "start_time": "2024-07-22T17:55:13.257Z"
   },
   {
    "duration": 19,
    "start_time": "2024-07-22T17:59:14.292Z"
   },
   {
    "duration": 569,
    "start_time": "2024-07-22T18:01:11.777Z"
   },
   {
    "duration": 532,
    "start_time": "2024-07-22T18:05:36.183Z"
   },
   {
    "duration": 263,
    "start_time": "2024-07-22T18:16:21.731Z"
   },
   {
    "duration": 13,
    "start_time": "2024-07-22T18:16:43.723Z"
   },
   {
    "duration": 42,
    "start_time": "2024-07-22T18:17:21.874Z"
   },
   {
    "duration": 1491,
    "start_time": "2024-07-22T18:18:01.314Z"
   },
   {
    "duration": 17,
    "start_time": "2024-07-22T18:18:02.811Z"
   },
   {
    "duration": 14,
    "start_time": "2024-07-22T18:18:02.831Z"
   },
   {
    "duration": 10,
    "start_time": "2024-07-22T18:18:02.867Z"
   },
   {
    "duration": 13,
    "start_time": "2024-07-22T18:18:02.881Z"
   },
   {
    "duration": 14,
    "start_time": "2024-07-22T18:18:02.897Z"
   },
   {
    "duration": 55,
    "start_time": "2024-07-22T18:18:02.914Z"
   },
   {
    "duration": 12,
    "start_time": "2024-07-22T18:18:02.972Z"
   },
   {
    "duration": 15,
    "start_time": "2024-07-22T18:18:02.988Z"
   },
   {
    "duration": 14,
    "start_time": "2024-07-22T18:18:03.009Z"
   },
   {
    "duration": 44,
    "start_time": "2024-07-22T18:18:03.027Z"
   },
   {
    "duration": 28,
    "start_time": "2024-07-22T18:18:03.074Z"
   },
   {
    "duration": 62,
    "start_time": "2024-07-22T18:18:03.106Z"
   },
   {
    "duration": 17,
    "start_time": "2024-07-22T18:18:03.170Z"
   },
   {
    "duration": 79,
    "start_time": "2024-07-22T18:18:03.190Z"
   },
   {
    "duration": 97,
    "start_time": "2024-07-22T18:18:03.272Z"
   },
   {
    "duration": 20,
    "start_time": "2024-07-22T18:18:03.372Z"
   },
   {
    "duration": 13,
    "start_time": "2024-07-22T18:18:03.394Z"
   },
   {
    "duration": 64,
    "start_time": "2024-07-22T18:18:03.411Z"
   },
   {
    "duration": 56,
    "start_time": "2024-07-22T18:18:03.478Z"
   },
   {
    "duration": 42,
    "start_time": "2024-07-22T18:18:03.537Z"
   },
   {
    "duration": 15,
    "start_time": "2024-07-22T18:18:03.583Z"
   },
   {
    "duration": 99,
    "start_time": "2024-07-22T18:18:03.601Z"
   },
   {
    "duration": 84,
    "start_time": "2024-07-22T18:18:03.703Z"
   },
   {
    "duration": 14,
    "start_time": "2024-07-22T18:18:03.791Z"
   },
   {
    "duration": 60,
    "start_time": "2024-07-22T18:18:03.809Z"
   },
   {
    "duration": 39,
    "start_time": "2024-07-22T18:18:03.874Z"
   },
   {
    "duration": 50,
    "start_time": "2024-07-22T18:18:03.921Z"
   },
   {
    "duration": 28,
    "start_time": "2024-07-22T18:18:03.974Z"
   },
   {
    "duration": 83,
    "start_time": "2024-07-22T18:18:04.006Z"
   },
   {
    "duration": 12,
    "start_time": "2024-07-22T18:18:04.092Z"
   },
   {
    "duration": 4,
    "start_time": "2024-07-22T18:18:04.107Z"
   },
   {
    "duration": 245,
    "start_time": "2024-07-22T18:18:04.114Z"
   },
   {
    "duration": 0,
    "start_time": "2024-07-22T18:18:04.368Z"
   },
   {
    "duration": 0,
    "start_time": "2024-07-22T18:18:04.371Z"
   },
   {
    "duration": 0,
    "start_time": "2024-07-22T18:18:04.373Z"
   },
   {
    "duration": 0,
    "start_time": "2024-07-22T18:18:04.375Z"
   },
   {
    "duration": 0,
    "start_time": "2024-07-22T18:18:04.378Z"
   },
   {
    "duration": 0,
    "start_time": "2024-07-22T18:18:04.381Z"
   },
   {
    "duration": 0,
    "start_time": "2024-07-22T18:18:04.383Z"
   },
   {
    "duration": 0,
    "start_time": "2024-07-22T18:18:04.386Z"
   },
   {
    "duration": 25,
    "start_time": "2024-07-22T18:18:21.645Z"
   },
   {
    "duration": 300,
    "start_time": "2024-07-22T18:19:06.776Z"
   },
   {
    "duration": 8,
    "start_time": "2024-07-22T18:19:17.069Z"
   },
   {
    "duration": 29,
    "start_time": "2024-07-22T18:19:24.125Z"
   },
   {
    "duration": 421,
    "start_time": "2024-07-22T18:19:56.695Z"
   },
   {
    "duration": 21,
    "start_time": "2024-07-22T18:20:20.523Z"
   },
   {
    "duration": 9,
    "start_time": "2024-07-22T18:21:56.525Z"
   },
   {
    "duration": 7,
    "start_time": "2024-07-22T18:22:06.497Z"
   },
   {
    "duration": 1307,
    "start_time": "2024-07-22T18:22:19.398Z"
   },
   {
    "duration": 327,
    "start_time": "2024-07-22T18:22:36.482Z"
   },
   {
    "duration": 419,
    "start_time": "2024-07-22T18:22:42.783Z"
   },
   {
    "duration": 40,
    "start_time": "2024-07-22T18:25:01.147Z"
   },
   {
    "duration": 419,
    "start_time": "2024-07-22T18:25:29.127Z"
   },
   {
    "duration": 332,
    "start_time": "2024-07-22T18:27:52.198Z"
   },
   {
    "duration": 431,
    "start_time": "2024-07-22T18:28:05.496Z"
   },
   {
    "duration": 7,
    "start_time": "2024-07-22T18:35:51.745Z"
   },
   {
    "duration": 563,
    "start_time": "2024-07-22T18:36:17.980Z"
   },
   {
    "duration": 6,
    "start_time": "2024-07-22T18:44:42.209Z"
   },
   {
    "duration": 23,
    "start_time": "2024-07-22T18:44:54.662Z"
   },
   {
    "duration": 321,
    "start_time": "2024-07-22T18:46:56.562Z"
   },
   {
    "duration": 426,
    "start_time": "2024-07-22T18:47:15.248Z"
   },
   {
    "duration": 408,
    "start_time": "2024-07-22T19:03:32.474Z"
   },
   {
    "duration": 317,
    "start_time": "2024-07-22T19:10:05.317Z"
   },
   {
    "duration": 7,
    "start_time": "2024-07-22T19:10:43.159Z"
   },
   {
    "duration": 331,
    "start_time": "2024-07-22T19:10:48.545Z"
   },
   {
    "duration": 315,
    "start_time": "2024-07-22T19:11:01.815Z"
   },
   {
    "duration": 7,
    "start_time": "2024-07-22T19:11:29.350Z"
   },
   {
    "duration": 389,
    "start_time": "2024-07-22T19:11:33.974Z"
   },
   {
    "duration": 8,
    "start_time": "2024-07-22T19:11:45.869Z"
   },
   {
    "duration": 435,
    "start_time": "2024-07-22T19:11:55.056Z"
   },
   {
    "duration": 7,
    "start_time": "2024-07-22T19:12:09.537Z"
   },
   {
    "duration": 392,
    "start_time": "2024-07-22T19:12:15.370Z"
   },
   {
    "duration": 419,
    "start_time": "2024-07-22T23:29:32.850Z"
   },
   {
    "duration": 414,
    "start_time": "2024-07-22T23:29:51.470Z"
   },
   {
    "duration": 413,
    "start_time": "2024-07-22T23:30:29.258Z"
   },
   {
    "duration": 10,
    "start_time": "2024-07-22T23:31:07.900Z"
   },
   {
    "duration": 541,
    "start_time": "2024-07-22T23:31:13.452Z"
   },
   {
    "duration": 7,
    "start_time": "2024-07-22T23:44:40.307Z"
   },
   {
    "duration": 7,
    "start_time": "2024-07-22T23:44:45.023Z"
   },
   {
    "duration": 6,
    "start_time": "2024-07-22T23:44:49.764Z"
   },
   {
    "duration": 6,
    "start_time": "2024-07-22T23:45:09.467Z"
   },
   {
    "duration": 7,
    "start_time": "2024-07-22T23:45:26.721Z"
   },
   {
    "duration": 172,
    "start_time": "2024-07-22T23:46:02.206Z"
   },
   {
    "duration": 9,
    "start_time": "2024-07-22T23:46:14.097Z"
   },
   {
    "duration": 21,
    "start_time": "2024-07-22T23:46:29.584Z"
   },
   {
    "duration": 7,
    "start_time": "2024-07-22T23:47:17.601Z"
   },
   {
    "duration": 437,
    "start_time": "2024-07-22T23:48:46.023Z"
   },
   {
    "duration": 436,
    "start_time": "2024-07-22T23:49:32.376Z"
   },
   {
    "duration": 8,
    "start_time": "2024-07-22T23:49:57.414Z"
   },
   {
    "duration": 348,
    "start_time": "2024-07-22T23:50:01.619Z"
   },
   {
    "duration": 1004,
    "start_time": "2024-07-22T23:50:21.091Z"
   },
   {
    "duration": 350,
    "start_time": "2024-07-22T23:50:27.384Z"
   },
   {
    "duration": 347,
    "start_time": "2024-07-22T23:50:58.523Z"
   },
   {
    "duration": 7,
    "start_time": "2024-07-22T23:51:13.489Z"
   },
   {
    "duration": 446,
    "start_time": "2024-07-22T23:51:16.262Z"
   },
   {
    "duration": 7,
    "start_time": "2024-07-22T23:51:25.307Z"
   },
   {
    "duration": 335,
    "start_time": "2024-07-22T23:51:29.509Z"
   },
   {
    "duration": 9,
    "start_time": "2024-07-22T23:51:45.088Z"
   },
   {
    "duration": 369,
    "start_time": "2024-07-22T23:55:49.646Z"
   },
   {
    "duration": 559,
    "start_time": "2024-07-22T23:58:45.425Z"
   },
   {
    "duration": 252,
    "start_time": "2024-07-22T23:58:58.467Z"
   },
   {
    "duration": 237,
    "start_time": "2024-07-22T23:59:17.537Z"
   },
   {
    "duration": 536,
    "start_time": "2024-07-22T23:59:32.141Z"
   },
   {
    "duration": 243,
    "start_time": "2024-07-22T23:59:46.302Z"
   },
   {
    "duration": 232,
    "start_time": "2024-07-23T00:00:10.440Z"
   },
   {
    "duration": 382,
    "start_time": "2024-07-23T00:00:16.609Z"
   },
   {
    "duration": 662,
    "start_time": "2024-07-23T00:03:08.774Z"
   },
   {
    "duration": 12,
    "start_time": "2024-07-23T00:04:12.250Z"
   },
   {
    "duration": 89,
    "start_time": "2024-07-23T00:05:09.156Z"
   },
   {
    "duration": 85,
    "start_time": "2024-07-23T00:05:24.228Z"
   },
   {
    "duration": 1638,
    "start_time": "2024-07-23T00:05:47.672Z"
   },
   {
    "duration": 17,
    "start_time": "2024-07-23T00:05:49.314Z"
   },
   {
    "duration": 11,
    "start_time": "2024-07-23T00:05:49.334Z"
   },
   {
    "duration": 12,
    "start_time": "2024-07-23T00:05:49.367Z"
   },
   {
    "duration": 14,
    "start_time": "2024-07-23T00:05:49.382Z"
   },
   {
    "duration": 14,
    "start_time": "2024-07-23T00:05:49.400Z"
   },
   {
    "duration": 56,
    "start_time": "2024-07-23T00:05:49.417Z"
   },
   {
    "duration": 21,
    "start_time": "2024-07-23T00:05:49.476Z"
   },
   {
    "duration": 14,
    "start_time": "2024-07-23T00:05:49.500Z"
   },
   {
    "duration": 49,
    "start_time": "2024-07-23T00:05:49.519Z"
   },
   {
    "duration": 9,
    "start_time": "2024-07-23T00:05:49.571Z"
   },
   {
    "duration": 26,
    "start_time": "2024-07-23T00:05:49.584Z"
   },
   {
    "duration": 64,
    "start_time": "2024-07-23T00:05:49.613Z"
   },
   {
    "duration": 16,
    "start_time": "2024-07-23T00:05:49.681Z"
   },
   {
    "duration": 86,
    "start_time": "2024-07-23T00:05:49.699Z"
   },
   {
    "duration": 92,
    "start_time": "2024-07-23T00:05:49.788Z"
   },
   {
    "duration": 20,
    "start_time": "2024-07-23T00:05:49.884Z"
   },
   {
    "duration": 13,
    "start_time": "2024-07-23T00:05:49.907Z"
   },
   {
    "duration": 66,
    "start_time": "2024-07-23T00:05:49.923Z"
   },
   {
    "duration": 76,
    "start_time": "2024-07-23T00:05:49.992Z"
   },
   {
    "duration": 23,
    "start_time": "2024-07-23T00:05:50.070Z"
   },
   {
    "duration": 14,
    "start_time": "2024-07-23T00:05:50.095Z"
   },
   {
    "duration": 100,
    "start_time": "2024-07-23T00:05:50.112Z"
   },
   {
    "duration": 86,
    "start_time": "2024-07-23T00:05:50.215Z"
   },
   {
    "duration": 12,
    "start_time": "2024-07-23T00:05:50.304Z"
   },
   {
    "duration": 62,
    "start_time": "2024-07-23T00:05:50.320Z"
   },
   {
    "duration": 33,
    "start_time": "2024-07-23T00:05:50.385Z"
   },
   {
    "duration": 47,
    "start_time": "2024-07-23T00:05:50.426Z"
   },
   {
    "duration": 28,
    "start_time": "2024-07-23T00:05:50.476Z"
   },
   {
    "duration": 82,
    "start_time": "2024-07-23T00:05:50.507Z"
   },
   {
    "duration": 12,
    "start_time": "2024-07-23T00:05:50.593Z"
   },
   {
    "duration": 3,
    "start_time": "2024-07-23T00:05:50.609Z"
   },
   {
    "duration": 503,
    "start_time": "2024-07-23T00:05:50.615Z"
   },
   {
    "duration": 0,
    "start_time": "2024-07-23T00:05:51.121Z"
   },
   {
    "duration": 0,
    "start_time": "2024-07-23T00:05:51.124Z"
   },
   {
    "duration": 0,
    "start_time": "2024-07-23T00:05:51.126Z"
   },
   {
    "duration": 0,
    "start_time": "2024-07-23T00:05:51.128Z"
   },
   {
    "duration": 0,
    "start_time": "2024-07-23T00:05:51.131Z"
   },
   {
    "duration": 0,
    "start_time": "2024-07-23T00:05:51.134Z"
   },
   {
    "duration": 0,
    "start_time": "2024-07-23T00:05:51.136Z"
   },
   {
    "duration": 0,
    "start_time": "2024-07-23T00:05:51.138Z"
   },
   {
    "duration": 426,
    "start_time": "2024-07-23T00:07:25.371Z"
   },
   {
    "duration": 8,
    "start_time": "2024-07-23T00:07:30.936Z"
   },
   {
    "duration": 343,
    "start_time": "2024-07-23T00:07:45.355Z"
   },
   {
    "duration": 7,
    "start_time": "2024-07-23T00:07:55.258Z"
   },
   {
    "duration": 374,
    "start_time": "2024-07-23T00:07:56.602Z"
   },
   {
    "duration": 20,
    "start_time": "2024-07-23T00:08:00.135Z"
   },
   {
    "duration": 761,
    "start_time": "2024-07-23T00:14:34.140Z"
   },
   {
    "duration": 416,
    "start_time": "2024-07-23T00:15:03.300Z"
   },
   {
    "duration": 414,
    "start_time": "2024-07-23T00:16:54.252Z"
   },
   {
    "duration": 8,
    "start_time": "2024-07-23T00:31:46.858Z"
   },
   {
    "duration": 7,
    "start_time": "2024-07-23T00:36:37.696Z"
   },
   {
    "duration": 6,
    "start_time": "2024-07-23T00:36:55.708Z"
   },
   {
    "duration": 9,
    "start_time": "2024-07-23T00:37:06.318Z"
   },
   {
    "duration": 354,
    "start_time": "2024-07-23T00:42:59.876Z"
   },
   {
    "duration": 25,
    "start_time": "2024-07-23T00:53:57.865Z"
   },
   {
    "duration": 9,
    "start_time": "2024-07-23T00:56:44.034Z"
   },
   {
    "duration": 10,
    "start_time": "2024-07-23T00:57:19.453Z"
   },
   {
    "duration": 90,
    "start_time": "2024-07-23T01:01:08.223Z"
   },
   {
    "duration": 83,
    "start_time": "2024-07-23T01:01:22.499Z"
   },
   {
    "duration": 9,
    "start_time": "2024-07-23T01:01:43.419Z"
   },
   {
    "duration": 9,
    "start_time": "2024-07-23T01:01:52.405Z"
   },
   {
    "duration": 17,
    "start_time": "2024-07-23T01:02:10.124Z"
   },
   {
    "duration": 491,
    "start_time": "2024-07-23T01:03:48.294Z"
   },
   {
    "duration": 243,
    "start_time": "2024-07-23T01:04:11.808Z"
   },
   {
    "duration": 8,
    "start_time": "2024-07-23T01:05:25.220Z"
   },
   {
    "duration": 414,
    "start_time": "2024-07-23T01:05:28.915Z"
   },
   {
    "duration": 418,
    "start_time": "2024-07-23T01:06:10.132Z"
   },
   {
    "duration": 430,
    "start_time": "2024-07-23T01:07:31.550Z"
   },
   {
    "duration": 5565,
    "start_time": "2024-07-23T23:58:45.370Z"
   },
   {
    "duration": 19,
    "start_time": "2024-07-23T23:58:50.939Z"
   },
   {
    "duration": 12,
    "start_time": "2024-07-23T23:58:50.961Z"
   },
   {
    "duration": 14,
    "start_time": "2024-07-23T23:58:50.977Z"
   },
   {
    "duration": 40,
    "start_time": "2024-07-23T23:58:50.994Z"
   },
   {
    "duration": 19,
    "start_time": "2024-07-23T23:58:51.037Z"
   },
   {
    "duration": 17,
    "start_time": "2024-07-23T23:58:51.062Z"
   },
   {
    "duration": 56,
    "start_time": "2024-07-23T23:58:51.083Z"
   },
   {
    "duration": 4,
    "start_time": "2024-07-23T23:58:51.143Z"
   },
   {
    "duration": 6,
    "start_time": "2024-07-23T23:58:51.152Z"
   },
   {
    "duration": 17,
    "start_time": "2024-07-23T23:58:51.161Z"
   },
   {
    "duration": 54,
    "start_time": "2024-07-23T23:58:51.181Z"
   },
   {
    "duration": 9,
    "start_time": "2024-07-23T23:58:51.238Z"
   },
   {
    "duration": 35,
    "start_time": "2024-07-23T23:58:51.250Z"
   },
   {
    "duration": 60,
    "start_time": "2024-07-23T23:58:51.288Z"
   },
   {
    "duration": 22,
    "start_time": "2024-07-23T23:58:51.351Z"
   },
   {
    "duration": 87,
    "start_time": "2024-07-23T23:58:51.376Z"
   },
   {
    "duration": 100,
    "start_time": "2024-07-23T23:58:51.466Z"
   },
   {
    "duration": 21,
    "start_time": "2024-07-23T23:58:51.569Z"
   },
   {
    "duration": 36,
    "start_time": "2024-07-23T23:58:51.594Z"
   },
   {
    "duration": 30,
    "start_time": "2024-07-23T23:58:51.634Z"
   },
   {
    "duration": 88,
    "start_time": "2024-07-23T23:58:51.667Z"
   },
   {
    "duration": 25,
    "start_time": "2024-07-23T23:58:51.759Z"
   },
   {
    "duration": 53,
    "start_time": "2024-07-23T23:58:51.788Z"
   },
   {
    "duration": 129,
    "start_time": "2024-07-23T23:58:51.846Z"
   },
   {
    "duration": 85,
    "start_time": "2024-07-23T23:58:51.978Z"
   },
   {
    "duration": 14,
    "start_time": "2024-07-23T23:58:52.066Z"
   },
   {
    "duration": 60,
    "start_time": "2024-07-23T23:58:52.093Z"
   },
   {
    "duration": 34,
    "start_time": "2024-07-23T23:58:52.156Z"
   },
   {
    "duration": 48,
    "start_time": "2024-07-23T23:58:52.193Z"
   },
   {
    "duration": 35,
    "start_time": "2024-07-23T23:58:52.244Z"
   },
   {
    "duration": 96,
    "start_time": "2024-07-23T23:58:52.283Z"
   },
   {
    "duration": 15,
    "start_time": "2024-07-23T23:58:52.383Z"
   },
   {
    "duration": 30,
    "start_time": "2024-07-23T23:58:52.402Z"
   },
   {
    "duration": 0,
    "start_time": "2024-07-23T23:58:52.435Z"
   },
   {
    "duration": 0,
    "start_time": "2024-07-23T23:58:52.438Z"
   },
   {
    "duration": 0,
    "start_time": "2024-07-23T23:58:52.441Z"
   },
   {
    "duration": 0,
    "start_time": "2024-07-23T23:58:52.443Z"
   },
   {
    "duration": 0,
    "start_time": "2024-07-23T23:58:52.446Z"
   },
   {
    "duration": 0,
    "start_time": "2024-07-23T23:58:52.448Z"
   },
   {
    "duration": 0,
    "start_time": "2024-07-23T23:58:52.450Z"
   },
   {
    "duration": 0,
    "start_time": "2024-07-23T23:58:52.452Z"
   },
   {
    "duration": 0,
    "start_time": "2024-07-23T23:58:52.454Z"
   },
   {
    "duration": 1,
    "start_time": "2024-07-23T23:58:52.456Z"
   },
   {
    "duration": 0,
    "start_time": "2024-07-23T23:58:52.459Z"
   },
   {
    "duration": 0,
    "start_time": "2024-07-23T23:58:52.461Z"
   },
   {
    "duration": 11,
    "start_time": "2024-07-23T23:59:29.349Z"
   },
   {
    "duration": 12,
    "start_time": "2024-07-23T23:59:38.400Z"
   },
   {
    "duration": 12,
    "start_time": "2024-07-24T00:01:09.318Z"
   },
   {
    "duration": 13,
    "start_time": "2024-07-24T00:02:22.640Z"
   },
   {
    "duration": 10,
    "start_time": "2024-07-24T00:02:32.674Z"
   },
   {
    "duration": 13,
    "start_time": "2024-07-24T00:03:50.671Z"
   },
   {
    "duration": 11,
    "start_time": "2024-07-24T00:04:40.607Z"
   },
   {
    "duration": 11,
    "start_time": "2024-07-24T00:05:27.221Z"
   },
   {
    "duration": 11,
    "start_time": "2024-07-24T00:05:40.662Z"
   },
   {
    "duration": 13,
    "start_time": "2024-07-24T00:05:59.061Z"
   },
   {
    "duration": 11,
    "start_time": "2024-07-24T00:07:02.628Z"
   },
   {
    "duration": 13,
    "start_time": "2024-07-24T00:08:03.571Z"
   },
   {
    "duration": 13,
    "start_time": "2024-07-24T00:08:18.740Z"
   },
   {
    "duration": 14,
    "start_time": "2024-07-24T00:14:16.749Z"
   },
   {
    "duration": 1567,
    "start_time": "2024-07-24T00:15:33.897Z"
   },
   {
    "duration": 17,
    "start_time": "2024-07-24T00:15:35.467Z"
   },
   {
    "duration": 12,
    "start_time": "2024-07-24T00:15:35.487Z"
   },
   {
    "duration": 11,
    "start_time": "2024-07-24T00:15:35.523Z"
   },
   {
    "duration": 13,
    "start_time": "2024-07-24T00:15:35.537Z"
   },
   {
    "duration": 15,
    "start_time": "2024-07-24T00:15:35.553Z"
   },
   {
    "duration": 55,
    "start_time": "2024-07-24T00:15:35.571Z"
   },
   {
    "duration": 17,
    "start_time": "2024-07-24T00:15:35.630Z"
   },
   {
    "duration": 4,
    "start_time": "2024-07-24T00:15:35.651Z"
   },
   {
    "duration": 8,
    "start_time": "2024-07-24T00:15:35.663Z"
   },
   {
    "duration": 56,
    "start_time": "2024-07-24T00:15:35.674Z"
   },
   {
    "duration": 17,
    "start_time": "2024-07-24T00:15:35.734Z"
   },
   {
    "duration": 9,
    "start_time": "2024-07-24T00:15:35.754Z"
   },
   {
    "duration": 66,
    "start_time": "2024-07-24T00:15:35.767Z"
   },
   {
    "duration": 28,
    "start_time": "2024-07-24T00:15:35.836Z"
   },
   {
    "duration": 18,
    "start_time": "2024-07-24T00:15:35.867Z"
   },
   {
    "duration": 62,
    "start_time": "2024-07-24T00:15:35.924Z"
   },
   {
    "duration": 104,
    "start_time": "2024-07-24T00:15:35.988Z"
   },
   {
    "duration": 37,
    "start_time": "2024-07-24T00:15:36.095Z"
   },
   {
    "duration": 13,
    "start_time": "2024-07-24T00:15:36.136Z"
   },
   {
    "duration": 30,
    "start_time": "2024-07-24T00:15:36.153Z"
   },
   {
    "duration": 89,
    "start_time": "2024-07-24T00:15:36.186Z"
   },
   {
    "duration": 47,
    "start_time": "2024-07-24T00:15:36.277Z"
   },
   {
    "duration": 16,
    "start_time": "2024-07-24T00:15:36.326Z"
   },
   {
    "duration": 96,
    "start_time": "2024-07-24T00:15:36.345Z"
   },
   {
    "duration": 88,
    "start_time": "2024-07-24T00:15:36.444Z"
   },
   {
    "duration": 13,
    "start_time": "2024-07-24T00:15:36.535Z"
   },
   {
    "duration": 36,
    "start_time": "2024-07-24T00:15:36.556Z"
   },
   {
    "duration": 36,
    "start_time": "2024-07-24T00:15:36.624Z"
   },
   {
    "duration": 28,
    "start_time": "2024-07-24T00:15:36.664Z"
   },
   {
    "duration": 31,
    "start_time": "2024-07-24T00:15:36.724Z"
   },
   {
    "duration": 86,
    "start_time": "2024-07-24T00:15:36.759Z"
   },
   {
    "duration": 13,
    "start_time": "2024-07-24T00:15:36.851Z"
   },
   {
    "duration": 12,
    "start_time": "2024-07-24T00:15:36.868Z"
   },
   {
    "duration": 0,
    "start_time": "2024-07-24T00:15:36.883Z"
   },
   {
    "duration": 0,
    "start_time": "2024-07-24T00:15:36.887Z"
   },
   {
    "duration": 0,
    "start_time": "2024-07-24T00:15:36.922Z"
   },
   {
    "duration": 0,
    "start_time": "2024-07-24T00:15:36.925Z"
   },
   {
    "duration": 0,
    "start_time": "2024-07-24T00:15:36.927Z"
   },
   {
    "duration": 0,
    "start_time": "2024-07-24T00:15:36.930Z"
   },
   {
    "duration": 0,
    "start_time": "2024-07-24T00:15:36.933Z"
   },
   {
    "duration": 0,
    "start_time": "2024-07-24T00:15:36.936Z"
   },
   {
    "duration": 0,
    "start_time": "2024-07-24T00:15:36.938Z"
   },
   {
    "duration": 0,
    "start_time": "2024-07-24T00:15:36.941Z"
   },
   {
    "duration": 0,
    "start_time": "2024-07-24T00:15:36.944Z"
   },
   {
    "duration": 0,
    "start_time": "2024-07-24T00:15:36.946Z"
   },
   {
    "duration": 502,
    "start_time": "2024-07-24T00:36:59.135Z"
   },
   {
    "duration": 42,
    "start_time": "2024-07-24T00:37:08.860Z"
   },
   {
    "duration": 42,
    "start_time": "2024-07-24T00:37:37.710Z"
   },
   {
    "duration": 14,
    "start_time": "2024-07-24T00:37:52.266Z"
   },
   {
    "duration": 24,
    "start_time": "2024-07-24T00:38:08.588Z"
   },
   {
    "duration": 433,
    "start_time": "2024-07-24T00:44:18.251Z"
   },
   {
    "duration": 335,
    "start_time": "2024-07-24T00:44:19.112Z"
   },
   {
    "duration": 9,
    "start_time": "2024-07-24T00:44:20.348Z"
   },
   {
    "duration": 391,
    "start_time": "2024-07-24T00:44:20.822Z"
   },
   {
    "duration": 423,
    "start_time": "2024-07-24T00:44:22.919Z"
   },
   {
    "duration": 8,
    "start_time": "2024-07-24T00:44:23.558Z"
   },
   {
    "duration": 358,
    "start_time": "2024-07-24T00:44:24.109Z"
   },
   {
    "duration": 359,
    "start_time": "2024-07-24T00:44:26.018Z"
   },
   {
    "duration": 762,
    "start_time": "2024-07-24T00:44:36.095Z"
   },
   {
    "duration": 431,
    "start_time": "2024-07-24T00:44:42.708Z"
   },
   {
    "duration": 23,
    "start_time": "2024-07-24T00:47:53.671Z"
   },
   {
    "duration": 189,
    "start_time": "2024-07-24T00:49:22.642Z"
   },
   {
    "duration": 23,
    "start_time": "2024-07-24T00:49:41.968Z"
   },
   {
    "duration": 24,
    "start_time": "2024-07-24T00:53:36.417Z"
   },
   {
    "duration": 23,
    "start_time": "2024-07-24T00:53:48.360Z"
   },
   {
    "duration": 248,
    "start_time": "2024-07-24T01:11:19.989Z"
   },
   {
    "duration": 46,
    "start_time": "2024-07-24T01:14:15.420Z"
   },
   {
    "duration": 52,
    "start_time": "2024-07-24T01:15:08.123Z"
   },
   {
    "duration": 39,
    "start_time": "2024-07-24T01:15:25.534Z"
   },
   {
    "duration": 33,
    "start_time": "2024-07-24T01:18:16.691Z"
   },
   {
    "duration": 106,
    "start_time": "2024-07-24T01:22:30.557Z"
   },
   {
    "duration": 15,
    "start_time": "2024-07-24T01:25:12.456Z"
   },
   {
    "duration": 19,
    "start_time": "2024-07-24T01:25:22.774Z"
   },
   {
    "duration": 9,
    "start_time": "2024-07-24T01:26:09.075Z"
   },
   {
    "duration": 155,
    "start_time": "2024-07-24T01:26:24.871Z"
   },
   {
    "duration": 49,
    "start_time": "2024-07-24T01:26:39.961Z"
   },
   {
    "duration": 43,
    "start_time": "2024-07-24T01:29:29.229Z"
   },
   {
    "duration": 366,
    "start_time": "2024-07-24T01:39:37.704Z"
   },
   {
    "duration": 8,
    "start_time": "2024-07-24T01:39:40.061Z"
   },
   {
    "duration": 7,
    "start_time": "2024-07-24T01:39:43.639Z"
   },
   {
    "duration": 365,
    "start_time": "2024-07-24T01:40:01.207Z"
   },
   {
    "duration": 121,
    "start_time": "2024-07-24T01:41:55.788Z"
   },
   {
    "duration": 442,
    "start_time": "2024-07-24T01:42:06.827Z"
   },
   {
    "duration": 16,
    "start_time": "2024-07-24T01:58:53.343Z"
   },
   {
    "duration": 378,
    "start_time": "2024-07-24T01:59:45.776Z"
   },
   {
    "duration": 263,
    "start_time": "2024-07-24T02:00:23.743Z"
   },
   {
    "duration": 259,
    "start_time": "2024-07-24T02:00:52.276Z"
   },
   {
    "duration": 261,
    "start_time": "2024-07-24T02:01:00.172Z"
   },
   {
    "duration": 7,
    "start_time": "2024-07-24T02:07:55.241Z"
   },
   {
    "duration": 41,
    "start_time": "2024-07-24T02:09:35.478Z"
   },
   {
    "duration": 33,
    "start_time": "2024-07-24T02:10:39.024Z"
   },
   {
    "duration": 16,
    "start_time": "2024-07-24T02:13:30.331Z"
   },
   {
    "duration": 25,
    "start_time": "2024-07-24T02:13:41.520Z"
   },
   {
    "duration": 50,
    "start_time": "2024-07-24T02:13:55.496Z"
   },
   {
    "duration": 12,
    "start_time": "2024-07-24T02:13:55.660Z"
   },
   {
    "duration": 35,
    "start_time": "2024-07-24T02:13:55.937Z"
   },
   {
    "duration": 413,
    "start_time": "2024-07-24T02:13:56.597Z"
   },
   {
    "duration": 358,
    "start_time": "2024-07-24T02:13:57.485Z"
   },
   {
    "duration": 7,
    "start_time": "2024-07-24T02:13:58.972Z"
   },
   {
    "duration": 374,
    "start_time": "2024-07-24T02:13:59.896Z"
   },
   {
    "duration": 68,
    "start_time": "2024-07-24T02:14:55.404Z"
   },
   {
    "duration": 11,
    "start_time": "2024-07-24T02:15:21.721Z"
   },
   {
    "duration": 34,
    "start_time": "2024-07-24T02:15:22.917Z"
   },
   {
    "duration": 34,
    "start_time": "2024-07-24T02:15:45.341Z"
   },
   {
    "duration": 415,
    "start_time": "2024-07-24T02:15:46.720Z"
   },
   {
    "duration": 331,
    "start_time": "2024-07-24T02:15:48.605Z"
   },
   {
    "duration": 8,
    "start_time": "2024-07-24T02:15:49.811Z"
   },
   {
    "duration": 370,
    "start_time": "2024-07-24T02:15:50.099Z"
   },
   {
    "duration": 93,
    "start_time": "2024-07-24T02:15:51.569Z"
   },
   {
    "duration": 7,
    "start_time": "2024-07-24T02:15:51.996Z"
   },
   {
    "duration": 1474,
    "start_time": "2024-07-24T02:16:11.362Z"
   },
   {
    "duration": 15,
    "start_time": "2024-07-24T02:16:12.840Z"
   },
   {
    "duration": 12,
    "start_time": "2024-07-24T02:16:12.857Z"
   },
   {
    "duration": 11,
    "start_time": "2024-07-24T02:16:12.873Z"
   },
   {
    "duration": 41,
    "start_time": "2024-07-24T02:16:12.887Z"
   },
   {
    "duration": 14,
    "start_time": "2024-07-24T02:16:12.931Z"
   },
   {
    "duration": 16,
    "start_time": "2024-07-24T02:16:12.948Z"
   },
   {
    "duration": 56,
    "start_time": "2024-07-24T02:16:12.967Z"
   },
   {
    "duration": 4,
    "start_time": "2024-07-24T02:16:13.025Z"
   },
   {
    "duration": 3,
    "start_time": "2024-07-24T02:16:13.035Z"
   },
   {
    "duration": 14,
    "start_time": "2024-07-24T02:16:13.041Z"
   },
   {
    "duration": 17,
    "start_time": "2024-07-24T02:16:13.059Z"
   },
   {
    "duration": 48,
    "start_time": "2024-07-24T02:16:13.079Z"
   },
   {
    "duration": 29,
    "start_time": "2024-07-24T02:16:13.130Z"
   },
   {
    "duration": 25,
    "start_time": "2024-07-24T02:16:13.162Z"
   },
   {
    "duration": 16,
    "start_time": "2024-07-24T02:16:13.222Z"
   },
   {
    "duration": 82,
    "start_time": "2024-07-24T02:16:13.240Z"
   },
   {
    "duration": 109,
    "start_time": "2024-07-24T02:16:13.325Z"
   },
   {
    "duration": 19,
    "start_time": "2024-07-24T02:16:13.437Z"
   },
   {
    "duration": 14,
    "start_time": "2024-07-24T02:16:13.460Z"
   },
   {
    "duration": 34,
    "start_time": "2024-07-24T02:16:13.523Z"
   },
   {
    "duration": 105,
    "start_time": "2024-07-24T02:16:13.559Z"
   },
   {
    "duration": 61,
    "start_time": "2024-07-24T02:16:13.667Z"
   },
   {
    "duration": 18,
    "start_time": "2024-07-24T02:16:13.731Z"
   },
   {
    "duration": 103,
    "start_time": "2024-07-24T02:16:13.752Z"
   },
   {
    "duration": 87,
    "start_time": "2024-07-24T02:16:13.859Z"
   },
   {
    "duration": 12,
    "start_time": "2024-07-24T02:16:13.949Z"
   },
   {
    "duration": 57,
    "start_time": "2024-07-24T02:16:13.971Z"
   },
   {
    "duration": 36,
    "start_time": "2024-07-24T02:16:14.031Z"
   },
   {
    "duration": 24,
    "start_time": "2024-07-24T02:16:14.070Z"
   },
   {
    "duration": 29,
    "start_time": "2024-07-24T02:16:14.124Z"
   },
   {
    "duration": 86,
    "start_time": "2024-07-24T02:16:14.155Z"
   },
   {
    "duration": 14,
    "start_time": "2024-07-24T02:16:14.244Z"
   },
   {
    "duration": 985,
    "start_time": "2024-07-24T02:16:14.261Z"
   },
   {
    "duration": 0,
    "start_time": "2024-07-24T02:16:15.249Z"
   },
   {
    "duration": 0,
    "start_time": "2024-07-24T02:16:15.251Z"
   },
   {
    "duration": 0,
    "start_time": "2024-07-24T02:16:15.255Z"
   },
   {
    "duration": 0,
    "start_time": "2024-07-24T02:16:15.257Z"
   },
   {
    "duration": 0,
    "start_time": "2024-07-24T02:16:15.260Z"
   },
   {
    "duration": 0,
    "start_time": "2024-07-24T02:16:15.262Z"
   },
   {
    "duration": 0,
    "start_time": "2024-07-24T02:16:15.264Z"
   },
   {
    "duration": 0,
    "start_time": "2024-07-24T02:16:15.266Z"
   },
   {
    "duration": 0,
    "start_time": "2024-07-24T02:16:15.269Z"
   },
   {
    "duration": 0,
    "start_time": "2024-07-24T02:16:15.270Z"
   },
   {
    "duration": 0,
    "start_time": "2024-07-24T02:16:15.272Z"
   },
   {
    "duration": 0,
    "start_time": "2024-07-24T02:16:15.275Z"
   },
   {
    "duration": 0,
    "start_time": "2024-07-24T02:16:15.277Z"
   },
   {
    "duration": 0,
    "start_time": "2024-07-24T02:16:15.279Z"
   },
   {
    "duration": 108,
    "start_time": "2024-07-24T02:16:49.477Z"
   },
   {
    "duration": 38,
    "start_time": "2024-07-24T02:18:05.353Z"
   },
   {
    "duration": 431,
    "start_time": "2024-07-24T02:18:35.098Z"
   },
   {
    "duration": 354,
    "start_time": "2024-07-24T02:18:39.861Z"
   },
   {
    "duration": 7,
    "start_time": "2024-07-24T02:18:40.461Z"
   },
   {
    "duration": 457,
    "start_time": "2024-07-24T02:18:40.798Z"
   },
   {
    "duration": 423,
    "start_time": "2024-07-24T02:18:43.307Z"
   },
   {
    "duration": 8,
    "start_time": "2024-07-24T02:18:43.733Z"
   },
   {
    "duration": 357,
    "start_time": "2024-07-24T02:18:44.284Z"
   },
   {
    "duration": 446,
    "start_time": "2024-07-24T02:18:46.209Z"
   },
   {
    "duration": 8,
    "start_time": "2024-07-24T02:18:46.802Z"
   },
   {
    "duration": 372,
    "start_time": "2024-07-24T02:18:47.114Z"
   },
   {
    "duration": 258,
    "start_time": "2024-07-24T02:18:49.322Z"
   },
   {
    "duration": 8,
    "start_time": "2024-07-24T02:18:50.085Z"
   },
   {
    "duration": 175,
    "start_time": "2024-07-24T02:20:02.292Z"
   },
   {
    "duration": 5459,
    "start_time": "2024-07-25T00:11:35.693Z"
   },
   {
    "duration": 15,
    "start_time": "2024-07-25T00:11:41.155Z"
   },
   {
    "duration": 12,
    "start_time": "2024-07-25T00:11:41.173Z"
   },
   {
    "duration": 27,
    "start_time": "2024-07-25T00:11:41.188Z"
   },
   {
    "duration": 12,
    "start_time": "2024-07-25T00:11:41.220Z"
   },
   {
    "duration": 14,
    "start_time": "2024-07-25T00:11:41.236Z"
   },
   {
    "duration": 16,
    "start_time": "2024-07-25T00:11:41.253Z"
   },
   {
    "duration": 14,
    "start_time": "2024-07-25T00:11:41.310Z"
   },
   {
    "duration": 4,
    "start_time": "2024-07-25T00:11:41.327Z"
   },
   {
    "duration": 3,
    "start_time": "2024-07-25T00:11:41.335Z"
   },
   {
    "duration": 15,
    "start_time": "2024-07-25T00:11:41.341Z"
   },
   {
    "duration": 61,
    "start_time": "2024-07-25T00:11:41.359Z"
   },
   {
    "duration": 8,
    "start_time": "2024-07-25T00:11:41.423Z"
   },
   {
    "duration": 26,
    "start_time": "2024-07-25T00:11:41.437Z"
   },
   {
    "duration": 66,
    "start_time": "2024-07-25T00:11:41.466Z"
   },
   {
    "duration": 16,
    "start_time": "2024-07-25T00:11:41.535Z"
   },
   {
    "duration": 89,
    "start_time": "2024-07-25T00:11:41.553Z"
   },
   {
    "duration": 92,
    "start_time": "2024-07-25T00:11:41.644Z"
   },
   {
    "duration": 20,
    "start_time": "2024-07-25T00:11:41.739Z"
   },
   {
    "duration": 47,
    "start_time": "2024-07-25T00:11:41.763Z"
   },
   {
    "duration": 30,
    "start_time": "2024-07-25T00:11:41.813Z"
   },
   {
    "duration": 80,
    "start_time": "2024-07-25T00:11:41.846Z"
   },
   {
    "duration": 21,
    "start_time": "2024-07-25T00:11:41.929Z"
   },
   {
    "duration": 15,
    "start_time": "2024-07-25T00:11:41.953Z"
   },
   {
    "duration": 93,
    "start_time": "2024-07-25T00:11:41.970Z"
   },
   {
    "duration": 90,
    "start_time": "2024-07-25T00:11:42.066Z"
   },
   {
    "duration": 12,
    "start_time": "2024-07-25T00:11:42.159Z"
   },
   {
    "duration": 58,
    "start_time": "2024-07-25T00:11:42.174Z"
   },
   {
    "duration": 32,
    "start_time": "2024-07-25T00:11:42.236Z"
   },
   {
    "duration": 43,
    "start_time": "2024-07-25T00:11:42.270Z"
   },
   {
    "duration": 28,
    "start_time": "2024-07-25T00:11:42.316Z"
   },
   {
    "duration": 81,
    "start_time": "2024-07-25T00:11:42.347Z"
   },
   {
    "duration": 12,
    "start_time": "2024-07-25T00:11:42.431Z"
   },
   {
    "duration": 35,
    "start_time": "2024-07-25T00:11:42.446Z"
   },
   {
    "duration": 469,
    "start_time": "2024-07-25T00:11:42.510Z"
   },
   {
    "duration": 343,
    "start_time": "2024-07-25T00:11:42.982Z"
   },
   {
    "duration": 8,
    "start_time": "2024-07-25T00:11:43.328Z"
   },
   {
    "duration": 389,
    "start_time": "2024-07-25T00:11:43.339Z"
   },
   {
    "duration": 466,
    "start_time": "2024-07-25T00:11:43.731Z"
   },
   {
    "duration": 12,
    "start_time": "2024-07-25T00:11:44.200Z"
   },
   {
    "duration": 461,
    "start_time": "2024-07-25T00:11:44.221Z"
   },
   {
    "duration": 461,
    "start_time": "2024-07-25T00:11:44.685Z"
   },
   {
    "duration": 8,
    "start_time": "2024-07-25T00:11:45.149Z"
   },
   {
    "duration": 386,
    "start_time": "2024-07-25T00:11:45.161Z"
   },
   {
    "duration": 269,
    "start_time": "2024-07-25T00:11:45.550Z"
   },
   {
    "duration": 8,
    "start_time": "2024-07-25T00:11:45.822Z"
   },
   {
    "duration": 205,
    "start_time": "2024-07-25T00:11:45.833Z"
   },
   {
    "duration": 3,
    "start_time": "2024-07-25T00:11:46.041Z"
   },
   {
    "duration": 3,
    "start_time": "2024-07-25T00:11:46.048Z"
   },
   {
    "duration": 16,
    "start_time": "2024-07-25T01:29:54.276Z"
   },
   {
    "duration": 7,
    "start_time": "2024-07-25T01:40:05.844Z"
   },
   {
    "duration": 16,
    "start_time": "2024-07-25T01:40:15.990Z"
   },
   {
    "duration": 10,
    "start_time": "2024-07-25T01:46:16.013Z"
   },
   {
    "duration": 481,
    "start_time": "2024-07-25T01:46:22.144Z"
   },
   {
    "duration": 30,
    "start_time": "2024-07-25T02:04:22.155Z"
   },
   {
    "duration": 31,
    "start_time": "2024-07-25T02:05:26.230Z"
   },
   {
    "duration": 30,
    "start_time": "2024-07-25T02:09:40.386Z"
   },
   {
    "duration": 35,
    "start_time": "2024-07-25T02:09:49.667Z"
   },
   {
    "duration": 46,
    "start_time": "2024-07-25T02:23:27.236Z"
   },
   {
    "duration": 33,
    "start_time": "2024-07-25T02:23:54.155Z"
   },
   {
    "duration": 869,
    "start_time": "2024-07-25T02:24:15.002Z"
   },
   {
    "duration": 33,
    "start_time": "2024-07-25T02:24:31.952Z"
   },
   {
    "duration": 86,
    "start_time": "2024-07-25T02:24:51.027Z"
   },
   {
    "duration": 36,
    "start_time": "2024-07-25T02:25:34.434Z"
   },
   {
    "duration": 83,
    "start_time": "2024-07-25T02:25:41.419Z"
   },
   {
    "duration": 35,
    "start_time": "2024-07-25T02:25:48.456Z"
   },
   {
    "duration": 13,
    "start_time": "2024-07-25T02:25:59.376Z"
   },
   {
    "duration": 41,
    "start_time": "2024-07-25T02:26:29.893Z"
   },
   {
    "duration": 107,
    "start_time": "2024-07-25T02:34:59.106Z"
   },
   {
    "duration": 36,
    "start_time": "2024-07-25T02:35:24.163Z"
   },
   {
    "duration": 19,
    "start_time": "2024-07-25T02:35:31.273Z"
   },
   {
    "duration": 33,
    "start_time": "2024-07-25T02:35:44.539Z"
   },
   {
    "duration": 68,
    "start_time": "2024-07-25T02:35:57.150Z"
   },
   {
    "duration": 36,
    "start_time": "2024-07-25T02:36:05.853Z"
   },
   {
    "duration": 433,
    "start_time": "2024-07-25T02:36:33.887Z"
   },
   {
    "duration": 17,
    "start_time": "2024-07-25T02:48:49.198Z"
   },
   {
    "duration": 42,
    "start_time": "2024-07-25T02:51:33.427Z"
   },
   {
    "duration": 5106,
    "start_time": "2024-07-25T11:51:41.139Z"
   },
   {
    "duration": 16,
    "start_time": "2024-07-25T11:51:46.249Z"
   },
   {
    "duration": 11,
    "start_time": "2024-07-25T11:51:46.268Z"
   },
   {
    "duration": 25,
    "start_time": "2024-07-25T11:51:46.283Z"
   },
   {
    "duration": 13,
    "start_time": "2024-07-25T11:51:46.311Z"
   },
   {
    "duration": 18,
    "start_time": "2024-07-25T11:51:46.327Z"
   },
   {
    "duration": 20,
    "start_time": "2024-07-25T11:51:46.349Z"
   },
   {
    "duration": 15,
    "start_time": "2024-07-25T11:51:46.407Z"
   },
   {
    "duration": 5,
    "start_time": "2024-07-25T11:51:46.425Z"
   },
   {
    "duration": 4,
    "start_time": "2024-07-25T11:51:46.436Z"
   },
   {
    "duration": 15,
    "start_time": "2024-07-25T11:51:46.442Z"
   },
   {
    "duration": 15,
    "start_time": "2024-07-25T11:51:46.507Z"
   },
   {
    "duration": 8,
    "start_time": "2024-07-25T11:51:46.529Z"
   },
   {
    "duration": 27,
    "start_time": "2024-07-25T11:51:46.540Z"
   },
   {
    "duration": 25,
    "start_time": "2024-07-25T11:51:46.608Z"
   },
   {
    "duration": 17,
    "start_time": "2024-07-25T11:51:46.636Z"
   },
   {
    "duration": 89,
    "start_time": "2024-07-25T11:51:46.656Z"
   },
   {
    "duration": 95,
    "start_time": "2024-07-25T11:51:46.747Z"
   },
   {
    "duration": 19,
    "start_time": "2024-07-25T11:51:46.844Z"
   },
   {
    "duration": 12,
    "start_time": "2024-07-25T11:51:46.866Z"
   },
   {
    "duration": 31,
    "start_time": "2024-07-25T11:51:46.908Z"
   },
   {
    "duration": 85,
    "start_time": "2024-07-25T11:51:46.942Z"
   },
   {
    "duration": 23,
    "start_time": "2024-07-25T11:51:47.030Z"
   },
   {
    "duration": 14,
    "start_time": "2024-07-25T11:51:47.058Z"
   },
   {
    "duration": 96,
    "start_time": "2024-07-25T11:51:47.075Z"
   },
   {
    "duration": 87,
    "start_time": "2024-07-25T11:51:47.174Z"
   },
   {
    "duration": 12,
    "start_time": "2024-07-25T11:51:47.263Z"
   },
   {
    "duration": 51,
    "start_time": "2024-07-25T11:51:47.283Z"
   },
   {
    "duration": 32,
    "start_time": "2024-07-25T11:51:47.337Z"
   },
   {
    "duration": 50,
    "start_time": "2024-07-25T11:51:47.372Z"
   },
   {
    "duration": 29,
    "start_time": "2024-07-25T11:51:47.425Z"
   },
   {
    "duration": 89,
    "start_time": "2024-07-25T11:51:47.457Z"
   },
   {
    "duration": 11,
    "start_time": "2024-07-25T11:51:47.549Z"
   },
   {
    "duration": 54,
    "start_time": "2024-07-25T11:51:47.564Z"
   },
   {
    "duration": 453,
    "start_time": "2024-07-25T11:51:47.621Z"
   },
   {
    "duration": 357,
    "start_time": "2024-07-25T11:51:48.077Z"
   },
   {
    "duration": 8,
    "start_time": "2024-07-25T11:51:48.437Z"
   },
   {
    "duration": 461,
    "start_time": "2024-07-25T11:51:48.448Z"
   },
   {
    "duration": 424,
    "start_time": "2024-07-25T11:51:48.915Z"
   },
   {
    "duration": 8,
    "start_time": "2024-07-25T11:51:49.341Z"
   },
   {
    "duration": 390,
    "start_time": "2024-07-25T11:51:49.352Z"
   },
   {
    "duration": 421,
    "start_time": "2024-07-25T11:51:49.746Z"
   },
   {
    "duration": 9,
    "start_time": "2024-07-25T11:51:50.169Z"
   },
   {
    "duration": 401,
    "start_time": "2024-07-25T11:51:50.181Z"
   },
   {
    "duration": 265,
    "start_time": "2024-07-25T11:51:50.585Z"
   },
   {
    "duration": 8,
    "start_time": "2024-07-25T11:51:50.854Z"
   },
   {
    "duration": 195,
    "start_time": "2024-07-25T11:51:50.865Z"
   },
   {
    "duration": 492,
    "start_time": "2024-07-25T11:51:51.063Z"
   },
   {
    "duration": 0,
    "start_time": "2024-07-25T11:51:51.558Z"
   },
   {
    "duration": 42,
    "start_time": "2024-07-25T12:02:32.597Z"
   },
   {
    "duration": 1526,
    "start_time": "2024-07-25T12:02:56.424Z"
   },
   {
    "duration": 14,
    "start_time": "2024-07-25T12:02:57.954Z"
   },
   {
    "duration": 12,
    "start_time": "2024-07-25T12:02:57.971Z"
   },
   {
    "duration": 33,
    "start_time": "2024-07-25T12:02:57.987Z"
   },
   {
    "duration": 13,
    "start_time": "2024-07-25T12:02:58.022Z"
   },
   {
    "duration": 13,
    "start_time": "2024-07-25T12:02:58.038Z"
   },
   {
    "duration": 52,
    "start_time": "2024-07-25T12:02:58.054Z"
   },
   {
    "duration": 16,
    "start_time": "2024-07-25T12:02:58.108Z"
   },
   {
    "duration": 4,
    "start_time": "2024-07-25T12:02:58.127Z"
   },
   {
    "duration": 3,
    "start_time": "2024-07-25T12:02:58.139Z"
   },
   {
    "duration": 61,
    "start_time": "2024-07-25T12:02:58.145Z"
   },
   {
    "duration": 15,
    "start_time": "2024-07-25T12:02:58.209Z"
   },
   {
    "duration": 8,
    "start_time": "2024-07-25T12:02:58.228Z"
   },
   {
    "duration": 74,
    "start_time": "2024-07-25T12:02:58.239Z"
   },
   {
    "duration": 25,
    "start_time": "2024-07-25T12:02:58.317Z"
   },
   {
    "duration": 17,
    "start_time": "2024-07-25T12:02:58.345Z"
   },
   {
    "duration": 88,
    "start_time": "2024-07-25T12:02:58.365Z"
   },
   {
    "duration": 96,
    "start_time": "2024-07-25T12:02:58.455Z"
   },
   {
    "duration": 19,
    "start_time": "2024-07-25T12:02:58.554Z"
   },
   {
    "duration": 38,
    "start_time": "2024-07-25T12:02:58.576Z"
   },
   {
    "duration": 29,
    "start_time": "2024-07-25T12:02:58.617Z"
   },
   {
    "duration": 82,
    "start_time": "2024-07-25T12:02:58.649Z"
   },
   {
    "duration": 22,
    "start_time": "2024-07-25T12:02:58.734Z"
   },
   {
    "duration": 14,
    "start_time": "2024-07-25T12:02:58.759Z"
   },
   {
    "duration": 66,
    "start_time": "2024-07-25T12:02:58.805Z"
   },
   {
    "duration": 85,
    "start_time": "2024-07-25T12:02:58.875Z"
   },
   {
    "duration": 11,
    "start_time": "2024-07-25T12:02:58.963Z"
   },
   {
    "duration": 33,
    "start_time": "2024-07-25T12:02:59.005Z"
   },
   {
    "duration": 34,
    "start_time": "2024-07-25T12:02:59.042Z"
   },
   {
    "duration": 49,
    "start_time": "2024-07-25T12:02:59.078Z"
   },
   {
    "duration": 29,
    "start_time": "2024-07-25T12:02:59.130Z"
   },
   {
    "duration": 81,
    "start_time": "2024-07-25T12:02:59.162Z"
   },
   {
    "duration": 12,
    "start_time": "2024-07-25T12:02:59.246Z"
   },
   {
    "duration": 4649,
    "start_time": "2024-07-25T12:02:59.260Z"
   },
   {
    "duration": 427,
    "start_time": "2024-07-25T12:03:03.912Z"
   },
   {
    "duration": 408,
    "start_time": "2024-07-25T12:03:04.341Z"
   },
   {
    "duration": 8,
    "start_time": "2024-07-25T12:03:04.752Z"
   },
   {
    "duration": 384,
    "start_time": "2024-07-25T12:03:04.763Z"
   },
   {
    "duration": 433,
    "start_time": "2024-07-25T12:03:05.150Z"
   },
   {
    "duration": 19,
    "start_time": "2024-07-25T12:03:05.587Z"
   },
   {
    "duration": 361,
    "start_time": "2024-07-25T12:03:05.609Z"
   },
   {
    "duration": 433,
    "start_time": "2024-07-25T12:03:05.973Z"
   },
   {
    "duration": 7,
    "start_time": "2024-07-25T12:03:06.409Z"
   },
   {
    "duration": 379,
    "start_time": "2024-07-25T12:03:06.419Z"
   },
   {
    "duration": 2378,
    "start_time": "2024-07-25T12:03:06.805Z"
   },
   {
    "duration": 21,
    "start_time": "2024-07-25T12:03:09.186Z"
   },
   {
    "duration": 395,
    "start_time": "2024-07-25T12:03:09.211Z"
   },
   {
    "duration": 429,
    "start_time": "2024-07-25T12:03:09.610Z"
   },
   {
    "duration": 0,
    "start_time": "2024-07-25T12:03:10.042Z"
   },
   {
    "duration": 9,
    "start_time": "2024-07-25T12:14:00.710Z"
   },
   {
    "duration": 51,
    "start_time": "2024-07-25T12:14:06.301Z"
   },
   {
    "duration": 47,
    "start_time": "2024-07-25T12:22:52.026Z"
   },
   {
    "duration": 47,
    "start_time": "2024-07-25T12:23:15.997Z"
   },
   {
    "duration": 47,
    "start_time": "2024-07-25T12:23:36.664Z"
   },
   {
    "duration": 46,
    "start_time": "2024-07-25T12:24:06.228Z"
   },
   {
    "duration": 46,
    "start_time": "2024-07-25T12:24:42.555Z"
   },
   {
    "duration": 46,
    "start_time": "2024-07-25T13:39:33.048Z"
   },
   {
    "duration": 54,
    "start_time": "2024-07-25T13:40:34.832Z"
   },
   {
    "duration": 49,
    "start_time": "2024-07-25T13:40:58.133Z"
   },
   {
    "duration": 46,
    "start_time": "2024-07-25T13:41:25.535Z"
   },
   {
    "duration": 50,
    "start_time": "2024-07-25T13:41:48.618Z"
   },
   {
    "duration": 29,
    "start_time": "2024-07-25T13:42:54.628Z"
   },
   {
    "duration": 50,
    "start_time": "2024-07-25T13:43:49.504Z"
   },
   {
    "duration": 28,
    "start_time": "2024-07-25T13:44:15.651Z"
   },
   {
    "duration": 78,
    "start_time": "2024-07-25T13:51:04.810Z"
   },
   {
    "duration": 74,
    "start_time": "2024-07-25T13:55:03.674Z"
   },
   {
    "duration": 61,
    "start_time": "2024-07-25T13:55:26.146Z"
   },
   {
    "duration": 66,
    "start_time": "2024-07-25T13:55:36.988Z"
   },
   {
    "duration": 139,
    "start_time": "2024-07-25T13:57:40.271Z"
   },
   {
    "duration": 62,
    "start_time": "2024-07-25T13:58:06.757Z"
   },
   {
    "duration": 72,
    "start_time": "2024-07-25T14:02:20.556Z"
   },
   {
    "duration": 79,
    "start_time": "2024-07-25T14:02:32.256Z"
   },
   {
    "duration": 115,
    "start_time": "2024-07-25T14:03:28.979Z"
   },
   {
    "duration": 435,
    "start_time": "2024-07-25T14:03:38.314Z"
   },
   {
    "duration": 121,
    "start_time": "2024-07-25T14:03:49.922Z"
   },
   {
    "duration": 91,
    "start_time": "2024-07-25T14:03:59.442Z"
   },
   {
    "duration": 94,
    "start_time": "2024-07-25T14:04:13.422Z"
   },
   {
    "duration": 109,
    "start_time": "2024-07-25T14:09:10.940Z"
   },
   {
    "duration": 104,
    "start_time": "2024-07-25T14:10:11.544Z"
   },
   {
    "duration": 131,
    "start_time": "2024-07-25T14:10:17.951Z"
   },
   {
    "duration": 165,
    "start_time": "2024-07-25T14:12:48.865Z"
   },
   {
    "duration": 121,
    "start_time": "2024-07-25T14:13:08.503Z"
   },
   {
    "duration": 121,
    "start_time": "2024-07-25T14:13:35.596Z"
   },
   {
    "duration": 123,
    "start_time": "2024-07-25T14:14:12.077Z"
   },
   {
    "duration": 111,
    "start_time": "2024-07-25T14:42:41.123Z"
   },
   {
    "duration": 108,
    "start_time": "2024-07-25T14:42:51.232Z"
   },
   {
    "duration": 1368,
    "start_time": "2024-07-25T15:30:41.009Z"
   },
   {
    "duration": 1633,
    "start_time": "2024-07-25T15:31:01.541Z"
   },
   {
    "duration": 17,
    "start_time": "2024-07-25T15:31:03.178Z"
   },
   {
    "duration": 12,
    "start_time": "2024-07-25T15:31:03.198Z"
   },
   {
    "duration": 11,
    "start_time": "2024-07-25T15:31:03.213Z"
   },
   {
    "duration": 13,
    "start_time": "2024-07-25T15:31:03.230Z"
   },
   {
    "duration": 15,
    "start_time": "2024-07-25T15:31:03.246Z"
   },
   {
    "duration": 16,
    "start_time": "2024-07-25T15:31:03.305Z"
   },
   {
    "duration": 13,
    "start_time": "2024-07-25T15:31:03.325Z"
   },
   {
    "duration": 5,
    "start_time": "2024-07-25T15:31:03.340Z"
   },
   {
    "duration": 4,
    "start_time": "2024-07-25T15:31:03.348Z"
   },
   {
    "duration": 60,
    "start_time": "2024-07-25T15:31:03.355Z"
   },
   {
    "duration": 16,
    "start_time": "2024-07-25T15:31:03.418Z"
   },
   {
    "duration": 9,
    "start_time": "2024-07-25T15:31:03.437Z"
   },
   {
    "duration": 63,
    "start_time": "2024-07-25T15:31:03.453Z"
   },
   {
    "duration": 32,
    "start_time": "2024-07-25T15:31:03.519Z"
   },
   {
    "duration": 15,
    "start_time": "2024-07-25T15:31:03.557Z"
   },
   {
    "duration": 87,
    "start_time": "2024-07-25T15:31:03.575Z"
   },
   {
    "duration": 104,
    "start_time": "2024-07-25T15:31:03.665Z"
   },
   {
    "duration": 40,
    "start_time": "2024-07-25T15:31:03.772Z"
   },
   {
    "duration": 17,
    "start_time": "2024-07-25T15:31:03.815Z"
   },
   {
    "duration": 29,
    "start_time": "2024-07-25T15:31:03.838Z"
   },
   {
    "duration": 78,
    "start_time": "2024-07-25T15:31:03.872Z"
   },
   {
    "duration": 23,
    "start_time": "2024-07-25T15:31:03.953Z"
   },
   {
    "duration": 34,
    "start_time": "2024-07-25T15:31:03.979Z"
   },
   {
    "duration": 65,
    "start_time": "2024-07-25T15:31:04.016Z"
   },
   {
    "duration": 72,
    "start_time": "2024-07-25T15:31:04.106Z"
   },
   {
    "duration": 33,
    "start_time": "2024-07-25T15:31:04.181Z"
   },
   {
    "duration": 37,
    "start_time": "2024-07-25T15:31:04.217Z"
   },
   {
    "duration": 58,
    "start_time": "2024-07-25T15:31:04.257Z"
   },
   {
    "duration": 24,
    "start_time": "2024-07-25T15:31:04.317Z"
   },
   {
    "duration": 29,
    "start_time": "2024-07-25T15:31:04.344Z"
   },
   {
    "duration": 534,
    "start_time": "2024-07-25T15:31:04.375Z"
   },
   {
    "duration": 0,
    "start_time": "2024-07-25T15:31:04.913Z"
   },
   {
    "duration": 0,
    "start_time": "2024-07-25T15:31:04.915Z"
   },
   {
    "duration": 0,
    "start_time": "2024-07-25T15:31:04.917Z"
   },
   {
    "duration": 0,
    "start_time": "2024-07-25T15:31:04.919Z"
   },
   {
    "duration": 0,
    "start_time": "2024-07-25T15:31:04.921Z"
   },
   {
    "duration": 0,
    "start_time": "2024-07-25T15:31:04.923Z"
   },
   {
    "duration": 0,
    "start_time": "2024-07-25T15:31:04.925Z"
   },
   {
    "duration": 0,
    "start_time": "2024-07-25T15:31:04.927Z"
   },
   {
    "duration": 0,
    "start_time": "2024-07-25T15:31:04.930Z"
   },
   {
    "duration": 0,
    "start_time": "2024-07-25T15:31:04.932Z"
   },
   {
    "duration": 0,
    "start_time": "2024-07-25T15:31:04.934Z"
   },
   {
    "duration": 0,
    "start_time": "2024-07-25T15:31:04.935Z"
   },
   {
    "duration": 0,
    "start_time": "2024-07-25T15:31:04.938Z"
   },
   {
    "duration": 0,
    "start_time": "2024-07-25T15:31:04.939Z"
   },
   {
    "duration": 0,
    "start_time": "2024-07-25T15:31:04.941Z"
   },
   {
    "duration": 0,
    "start_time": "2024-07-25T15:31:04.943Z"
   },
   {
    "duration": 0,
    "start_time": "2024-07-25T15:31:04.945Z"
   },
   {
    "duration": 64,
    "start_time": "2024-07-25T15:31:47.767Z"
   },
   {
    "duration": 50,
    "start_time": "2024-07-25T15:31:55.040Z"
   },
   {
    "duration": 56,
    "start_time": "2024-07-25T15:32:02.487Z"
   },
   {
    "duration": 4846,
    "start_time": "2024-07-25T15:32:42.670Z"
   },
   {
    "duration": 14,
    "start_time": "2024-07-25T15:32:51.780Z"
   },
   {
    "duration": 1544,
    "start_time": "2024-07-25T15:33:24.750Z"
   },
   {
    "duration": 17,
    "start_time": "2024-07-25T15:33:26.298Z"
   },
   {
    "duration": 16,
    "start_time": "2024-07-25T15:33:26.319Z"
   },
   {
    "duration": 11,
    "start_time": "2024-07-25T15:33:26.338Z"
   },
   {
    "duration": 14,
    "start_time": "2024-07-25T15:33:26.354Z"
   },
   {
    "duration": 15,
    "start_time": "2024-07-25T15:33:26.407Z"
   },
   {
    "duration": 17,
    "start_time": "2024-07-25T15:33:26.426Z"
   },
   {
    "duration": 13,
    "start_time": "2024-07-25T15:33:26.447Z"
   },
   {
    "duration": 3,
    "start_time": "2024-07-25T15:33:26.464Z"
   },
   {
    "duration": 4,
    "start_time": "2024-07-25T15:33:26.506Z"
   },
   {
    "duration": 16,
    "start_time": "2024-07-25T15:33:26.514Z"
   },
   {
    "duration": 16,
    "start_time": "2024-07-25T15:33:26.535Z"
   },
   {
    "duration": 11,
    "start_time": "2024-07-25T15:33:26.554Z"
   },
   {
    "duration": 26,
    "start_time": "2024-07-25T15:33:26.608Z"
   },
   {
    "duration": 24,
    "start_time": "2024-07-25T15:33:26.638Z"
   },
   {
    "duration": 46,
    "start_time": "2024-07-25T15:33:26.665Z"
   },
   {
    "duration": 60,
    "start_time": "2024-07-25T15:33:26.714Z"
   },
   {
    "duration": 107,
    "start_time": "2024-07-25T15:33:26.776Z"
   },
   {
    "duration": 32,
    "start_time": "2024-07-25T15:33:26.886Z"
   },
   {
    "duration": 20,
    "start_time": "2024-07-25T15:33:26.922Z"
   },
   {
    "duration": 38,
    "start_time": "2024-07-25T15:33:26.948Z"
   },
   {
    "duration": 74,
    "start_time": "2024-07-25T15:33:26.988Z"
   },
   {
    "duration": 46,
    "start_time": "2024-07-25T15:33:27.067Z"
   },
   {
    "duration": 16,
    "start_time": "2024-07-25T15:33:27.117Z"
   },
   {
    "duration": 88,
    "start_time": "2024-07-25T15:33:27.136Z"
   },
   {
    "duration": 78,
    "start_time": "2024-07-25T15:33:27.230Z"
   },
   {
    "duration": 12,
    "start_time": "2024-07-25T15:33:27.311Z"
   },
   {
    "duration": 35,
    "start_time": "2024-07-25T15:33:27.326Z"
   },
   {
    "duration": 66,
    "start_time": "2024-07-25T15:33:27.363Z"
   },
   {
    "duration": 27,
    "start_time": "2024-07-25T15:33:27.432Z"
   },
   {
    "duration": 57,
    "start_time": "2024-07-25T15:33:27.461Z"
   },
   {
    "duration": 63,
    "start_time": "2024-07-25T15:33:27.521Z"
   },
   {
    "duration": 24,
    "start_time": "2024-07-25T15:33:27.586Z"
   },
   {
    "duration": 4914,
    "start_time": "2024-07-25T15:33:27.613Z"
   },
   {
    "duration": 452,
    "start_time": "2024-07-25T15:33:32.533Z"
   },
   {
    "duration": 417,
    "start_time": "2024-07-25T15:33:32.991Z"
   },
   {
    "duration": 8,
    "start_time": "2024-07-25T15:33:33.412Z"
   },
   {
    "duration": 396,
    "start_time": "2024-07-25T15:33:33.423Z"
   },
   {
    "duration": 432,
    "start_time": "2024-07-25T15:33:33.821Z"
   },
   {
    "duration": 8,
    "start_time": "2024-07-25T15:33:34.256Z"
   },
   {
    "duration": 393,
    "start_time": "2024-07-25T15:33:34.272Z"
   },
   {
    "duration": 433,
    "start_time": "2024-07-25T15:33:34.668Z"
   },
   {
    "duration": 9,
    "start_time": "2024-07-25T15:33:35.107Z"
   },
   {
    "duration": 393,
    "start_time": "2024-07-25T15:33:35.119Z"
   },
   {
    "duration": 2390,
    "start_time": "2024-07-25T15:33:35.515Z"
   },
   {
    "duration": 17,
    "start_time": "2024-07-25T15:33:37.908Z"
   },
   {
    "duration": 441,
    "start_time": "2024-07-25T15:33:37.929Z"
   },
   {
    "duration": 49,
    "start_time": "2024-07-25T15:33:38.373Z"
   },
   {
    "duration": 9,
    "start_time": "2024-07-25T15:33:38.425Z"
   },
   {
    "duration": 1176,
    "start_time": "2024-07-25T16:02:58.736Z"
   },
   {
    "duration": 461,
    "start_time": "2024-07-25T16:03:14.151Z"
   },
   {
    "duration": 95,
    "start_time": "2024-07-25T16:03:31.589Z"
   },
   {
    "duration": 434,
    "start_time": "2024-07-25T16:03:38.532Z"
   },
   {
    "duration": 115,
    "start_time": "2024-07-25T16:14:03.387Z"
   },
   {
    "duration": 5448,
    "start_time": "2024-07-25T21:16:21.567Z"
   },
   {
    "duration": 14,
    "start_time": "2024-07-25T21:16:27.019Z"
   },
   {
    "duration": 11,
    "start_time": "2024-07-25T21:16:27.038Z"
   },
   {
    "duration": 11,
    "start_time": "2024-07-25T21:16:27.053Z"
   },
   {
    "duration": 13,
    "start_time": "2024-07-25T21:16:27.067Z"
   },
   {
    "duration": 50,
    "start_time": "2024-07-25T21:16:27.084Z"
   },
   {
    "duration": 16,
    "start_time": "2024-07-25T21:16:27.138Z"
   },
   {
    "duration": 13,
    "start_time": "2024-07-25T21:16:27.158Z"
   },
   {
    "duration": 4,
    "start_time": "2024-07-25T21:16:27.174Z"
   },
   {
    "duration": 3,
    "start_time": "2024-07-25T21:16:27.184Z"
   },
   {
    "duration": 15,
    "start_time": "2024-07-25T21:16:27.235Z"
   },
   {
    "duration": 17,
    "start_time": "2024-07-25T21:16:27.254Z"
   },
   {
    "duration": 10,
    "start_time": "2024-07-25T21:16:27.274Z"
   },
   {
    "duration": 68,
    "start_time": "2024-07-25T21:16:27.287Z"
   },
   {
    "duration": 27,
    "start_time": "2024-07-25T21:16:27.357Z"
   },
   {
    "duration": 49,
    "start_time": "2024-07-25T21:16:27.388Z"
   },
   {
    "duration": 58,
    "start_time": "2024-07-25T21:16:27.441Z"
   },
   {
    "duration": 105,
    "start_time": "2024-07-25T21:16:27.501Z"
   },
   {
    "duration": 40,
    "start_time": "2024-07-25T21:16:27.610Z"
   },
   {
    "duration": 14,
    "start_time": "2024-07-25T21:16:27.653Z"
   },
   {
    "duration": 29,
    "start_time": "2024-07-25T21:16:27.670Z"
   },
   {
    "duration": 58,
    "start_time": "2024-07-25T21:16:27.735Z"
   },
   {
    "duration": 43,
    "start_time": "2024-07-25T21:16:27.796Z"
   },
   {
    "duration": 15,
    "start_time": "2024-07-25T21:16:27.842Z"
   },
   {
    "duration": 96,
    "start_time": "2024-07-25T21:16:27.860Z"
   },
   {
    "duration": 81,
    "start_time": "2024-07-25T21:16:27.959Z"
   },
   {
    "duration": 11,
    "start_time": "2024-07-25T21:16:28.043Z"
   },
   {
    "duration": 35,
    "start_time": "2024-07-25T21:16:28.062Z"
   },
   {
    "duration": 61,
    "start_time": "2024-07-25T21:16:28.100Z"
   },
   {
    "duration": 23,
    "start_time": "2024-07-25T21:16:28.164Z"
   },
   {
    "duration": 52,
    "start_time": "2024-07-25T21:16:28.189Z"
   },
   {
    "duration": 59,
    "start_time": "2024-07-25T21:16:28.244Z"
   },
   {
    "duration": 31,
    "start_time": "2024-07-25T21:16:28.306Z"
   },
   {
    "duration": 4617,
    "start_time": "2024-07-25T21:16:28.340Z"
   },
   {
    "duration": 441,
    "start_time": "2024-07-25T21:16:32.960Z"
   },
   {
    "duration": 350,
    "start_time": "2024-07-25T21:16:33.404Z"
   },
   {
    "duration": 7,
    "start_time": "2024-07-25T21:16:33.757Z"
   },
   {
    "duration": 394,
    "start_time": "2024-07-25T21:16:33.767Z"
   },
   {
    "duration": 424,
    "start_time": "2024-07-25T21:16:34.164Z"
   },
   {
    "duration": 8,
    "start_time": "2024-07-25T21:16:34.591Z"
   },
   {
    "duration": 481,
    "start_time": "2024-07-25T21:16:34.602Z"
   },
   {
    "duration": 431,
    "start_time": "2024-07-25T21:16:35.086Z"
   },
   {
    "duration": 19,
    "start_time": "2024-07-25T21:16:35.520Z"
   },
   {
    "duration": 369,
    "start_time": "2024-07-25T21:16:35.543Z"
   },
   {
    "duration": 2346,
    "start_time": "2024-07-25T21:16:35.917Z"
   },
   {
    "duration": 10,
    "start_time": "2024-07-25T21:16:38.266Z"
   },
   {
    "duration": 416,
    "start_time": "2024-07-25T21:16:38.279Z"
   },
   {
    "duration": 47,
    "start_time": "2024-07-25T21:16:38.698Z"
   },
   {
    "duration": 127,
    "start_time": "2024-07-25T21:16:38.748Z"
   },
   {
    "duration": 5229,
    "start_time": "2024-07-26T22:43:51.134Z"
   },
   {
    "duration": 16,
    "start_time": "2024-07-26T22:43:56.367Z"
   },
   {
    "duration": 12,
    "start_time": "2024-07-26T22:43:56.386Z"
   },
   {
    "duration": 10,
    "start_time": "2024-07-26T22:43:56.402Z"
   },
   {
    "duration": 12,
    "start_time": "2024-07-26T22:43:56.415Z"
   },
   {
    "duration": 14,
    "start_time": "2024-07-26T22:43:56.430Z"
   },
   {
    "duration": 51,
    "start_time": "2024-07-26T22:43:56.448Z"
   },
   {
    "duration": 13,
    "start_time": "2024-07-26T22:43:56.502Z"
   },
   {
    "duration": 4,
    "start_time": "2024-07-26T22:43:56.518Z"
   },
   {
    "duration": 5,
    "start_time": "2024-07-26T22:43:56.529Z"
   },
   {
    "duration": 60,
    "start_time": "2024-07-26T22:43:56.536Z"
   },
   {
    "duration": 14,
    "start_time": "2024-07-26T22:43:56.599Z"
   },
   {
    "duration": 8,
    "start_time": "2024-07-26T22:43:56.616Z"
   },
   {
    "duration": 65,
    "start_time": "2024-07-26T22:43:56.627Z"
   },
   {
    "duration": 30,
    "start_time": "2024-07-26T22:43:56.695Z"
   },
   {
    "duration": 19,
    "start_time": "2024-07-26T22:43:56.728Z"
   },
   {
    "duration": 91,
    "start_time": "2024-07-26T22:43:56.750Z"
   },
   {
    "duration": 108,
    "start_time": "2024-07-26T22:43:56.844Z"
   },
   {
    "duration": 20,
    "start_time": "2024-07-26T22:43:56.955Z"
   },
   {
    "duration": 13,
    "start_time": "2024-07-26T22:43:56.992Z"
   },
   {
    "duration": 29,
    "start_time": "2024-07-26T22:43:57.008Z"
   },
   {
    "duration": 90,
    "start_time": "2024-07-26T22:43:57.040Z"
   },
   {
    "duration": 22,
    "start_time": "2024-07-26T22:43:57.134Z"
   },
   {
    "duration": 35,
    "start_time": "2024-07-26T22:43:57.160Z"
   },
   {
    "duration": 68,
    "start_time": "2024-07-26T22:43:57.199Z"
   },
   {
    "duration": 69,
    "start_time": "2024-07-26T22:43:57.291Z"
   },
   {
    "duration": 32,
    "start_time": "2024-07-26T22:43:57.363Z"
   },
   {
    "duration": 29,
    "start_time": "2024-07-26T22:43:57.403Z"
   },
   {
    "duration": 61,
    "start_time": "2024-07-26T22:43:57.435Z"
   },
   {
    "duration": 23,
    "start_time": "2024-07-26T22:43:57.499Z"
   },
   {
    "duration": 28,
    "start_time": "2024-07-26T22:43:57.526Z"
   },
   {
    "duration": 92,
    "start_time": "2024-07-26T22:43:57.557Z"
   },
   {
    "duration": 13,
    "start_time": "2024-07-26T22:43:57.652Z"
   },
   {
    "duration": 4623,
    "start_time": "2024-07-26T22:43:57.690Z"
   },
   {
    "duration": 445,
    "start_time": "2024-07-26T22:44:02.317Z"
   },
   {
    "duration": 385,
    "start_time": "2024-07-26T22:44:02.765Z"
   },
   {
    "duration": 8,
    "start_time": "2024-07-26T22:44:03.153Z"
   },
   {
    "duration": 472,
    "start_time": "2024-07-26T22:44:03.165Z"
   },
   {
    "duration": 434,
    "start_time": "2024-07-26T22:44:03.640Z"
   },
   {
    "duration": 17,
    "start_time": "2024-07-26T22:44:04.077Z"
   },
   {
    "duration": 395,
    "start_time": "2024-07-26T22:44:04.097Z"
   },
   {
    "duration": 459,
    "start_time": "2024-07-26T22:44:04.495Z"
   },
   {
    "duration": 9,
    "start_time": "2024-07-26T22:44:04.957Z"
   },
   {
    "duration": 398,
    "start_time": "2024-07-26T22:44:04.969Z"
   },
   {
    "duration": 2226,
    "start_time": "2024-07-26T22:44:05.370Z"
   },
   {
    "duration": 10,
    "start_time": "2024-07-26T22:44:07.599Z"
   },
   {
    "duration": 489,
    "start_time": "2024-07-26T22:44:07.612Z"
   },
   {
    "duration": 32,
    "start_time": "2024-07-26T22:44:08.104Z"
   },
   {
    "duration": 142,
    "start_time": "2024-07-26T22:44:08.139Z"
   },
   {
    "duration": 14,
    "start_time": "2024-07-26T22:51:57.411Z"
   },
   {
    "duration": 24,
    "start_time": "2024-07-26T22:52:10.554Z"
   },
   {
    "duration": 27,
    "start_time": "2024-07-26T22:53:09.014Z"
   },
   {
    "duration": 28,
    "start_time": "2024-07-26T22:58:05.784Z"
   },
   {
    "duration": 20,
    "start_time": "2024-07-26T23:00:12.503Z"
   },
   {
    "duration": 29,
    "start_time": "2024-07-26T23:00:24.960Z"
   },
   {
    "duration": 63,
    "start_time": "2024-07-26T23:12:31.969Z"
   },
   {
    "duration": 12,
    "start_time": "2024-07-26T23:12:33.922Z"
   },
   {
    "duration": 220,
    "start_time": "2024-07-26T23:12:42.912Z"
   },
   {
    "duration": 45,
    "start_time": "2024-07-26T23:13:12.698Z"
   },
   {
    "duration": 28,
    "start_time": "2024-07-26T23:14:49.461Z"
   },
   {
    "duration": 63,
    "start_time": "2024-07-26T23:14:51.068Z"
   },
   {
    "duration": 13,
    "start_time": "2024-07-26T23:14:53.539Z"
   },
   {
    "duration": 45,
    "start_time": "2024-07-26T23:14:55.723Z"
   },
   {
    "duration": 1533,
    "start_time": "2024-07-26T23:15:05.911Z"
   },
   {
    "duration": 16,
    "start_time": "2024-07-26T23:15:07.447Z"
   },
   {
    "duration": 10,
    "start_time": "2024-07-26T23:15:07.466Z"
   },
   {
    "duration": 10,
    "start_time": "2024-07-26T23:15:07.492Z"
   },
   {
    "duration": 14,
    "start_time": "2024-07-26T23:15:07.506Z"
   },
   {
    "duration": 14,
    "start_time": "2024-07-26T23:15:07.523Z"
   },
   {
    "duration": 60,
    "start_time": "2024-07-26T23:15:07.541Z"
   },
   {
    "duration": 13,
    "start_time": "2024-07-26T23:15:07.604Z"
   },
   {
    "duration": 3,
    "start_time": "2024-07-26T23:15:07.620Z"
   },
   {
    "duration": 2,
    "start_time": "2024-07-26T23:15:07.631Z"
   },
   {
    "duration": 62,
    "start_time": "2024-07-26T23:15:07.636Z"
   },
   {
    "duration": 16,
    "start_time": "2024-07-26T23:15:07.702Z"
   },
   {
    "duration": 9,
    "start_time": "2024-07-26T23:15:07.722Z"
   },
   {
    "duration": 65,
    "start_time": "2024-07-26T23:15:07.735Z"
   },
   {
    "duration": 26,
    "start_time": "2024-07-26T23:15:07.803Z"
   },
   {
    "duration": 16,
    "start_time": "2024-07-26T23:15:07.832Z"
   },
   {
    "duration": 93,
    "start_time": "2024-07-26T23:15:07.851Z"
   },
   {
    "duration": 105,
    "start_time": "2024-07-26T23:15:07.947Z"
   },
   {
    "duration": 36,
    "start_time": "2024-07-26T23:15:08.055Z"
   },
   {
    "duration": 13,
    "start_time": "2024-07-26T23:15:08.094Z"
   },
   {
    "duration": 30,
    "start_time": "2024-07-26T23:15:08.111Z"
   },
   {
    "duration": 88,
    "start_time": "2024-07-26T23:15:08.144Z"
   },
   {
    "duration": 22,
    "start_time": "2024-07-26T23:15:08.235Z"
   },
   {
    "duration": 39,
    "start_time": "2024-07-26T23:15:08.260Z"
   },
   {
    "duration": 66,
    "start_time": "2024-07-26T23:15:08.303Z"
   },
   {
    "duration": 70,
    "start_time": "2024-07-26T23:15:08.392Z"
   },
   {
    "duration": 32,
    "start_time": "2024-07-26T23:15:08.465Z"
   },
   {
    "duration": 32,
    "start_time": "2024-07-26T23:15:08.508Z"
   },
   {
    "duration": 60,
    "start_time": "2024-07-26T23:15:08.543Z"
   },
   {
    "duration": 22,
    "start_time": "2024-07-26T23:15:08.606Z"
   },
   {
    "duration": 62,
    "start_time": "2024-07-26T23:15:08.631Z"
   },
   {
    "duration": 66,
    "start_time": "2024-07-26T23:15:08.696Z"
   },
   {
    "duration": 31,
    "start_time": "2024-07-26T23:15:08.767Z"
   },
   {
    "duration": 4822,
    "start_time": "2024-07-26T23:15:08.802Z"
   },
   {
    "duration": 449,
    "start_time": "2024-07-26T23:15:13.628Z"
   },
   {
    "duration": 410,
    "start_time": "2024-07-26T23:15:14.080Z"
   },
   {
    "duration": 8,
    "start_time": "2024-07-26T23:15:14.493Z"
   },
   {
    "duration": 413,
    "start_time": "2024-07-26T23:15:14.505Z"
   },
   {
    "duration": 432,
    "start_time": "2024-07-26T23:15:14.922Z"
   },
   {
    "duration": 9,
    "start_time": "2024-07-26T23:15:15.357Z"
   },
   {
    "duration": 382,
    "start_time": "2024-07-26T23:15:15.370Z"
   },
   {
    "duration": 456,
    "start_time": "2024-07-26T23:15:15.755Z"
   },
   {
    "duration": 8,
    "start_time": "2024-07-26T23:15:16.215Z"
   },
   {
    "duration": 389,
    "start_time": "2024-07-26T23:15:16.226Z"
   },
   {
    "duration": 2394,
    "start_time": "2024-07-26T23:15:16.618Z"
   },
   {
    "duration": 10,
    "start_time": "2024-07-26T23:15:19.015Z"
   },
   {
    "duration": 415,
    "start_time": "2024-07-26T23:15:19.027Z"
   },
   {
    "duration": 30,
    "start_time": "2024-07-26T23:15:19.445Z"
   },
   {
    "duration": 124,
    "start_time": "2024-07-26T23:15:19.492Z"
   },
   {
    "duration": 1148,
    "start_time": "2024-07-26T23:16:53.695Z"
   },
   {
    "duration": 430,
    "start_time": "2024-07-26T23:17:05.465Z"
   },
   {
    "duration": 34,
    "start_time": "2024-07-26T23:17:52.509Z"
   },
   {
    "duration": 319,
    "start_time": "2024-07-27T00:08:44.091Z"
   },
   {
    "duration": 1548,
    "start_time": "2024-07-27T00:08:55.265Z"
   },
   {
    "duration": 17,
    "start_time": "2024-07-27T00:08:56.816Z"
   },
   {
    "duration": 13,
    "start_time": "2024-07-27T00:08:56.835Z"
   },
   {
    "duration": 39,
    "start_time": "2024-07-27T00:08:56.852Z"
   },
   {
    "duration": 13,
    "start_time": "2024-07-27T00:08:56.897Z"
   },
   {
    "duration": 15,
    "start_time": "2024-07-27T00:08:56.913Z"
   },
   {
    "duration": 15,
    "start_time": "2024-07-27T00:08:56.932Z"
   },
   {
    "duration": 13,
    "start_time": "2024-07-27T00:08:56.990Z"
   },
   {
    "duration": 4,
    "start_time": "2024-07-27T00:08:57.006Z"
   },
   {
    "duration": 4,
    "start_time": "2024-07-27T00:08:57.015Z"
   },
   {
    "duration": 15,
    "start_time": "2024-07-27T00:08:57.022Z"
   },
   {
    "duration": 59,
    "start_time": "2024-07-27T00:08:57.040Z"
   },
   {
    "duration": 7,
    "start_time": "2024-07-27T00:08:57.102Z"
   },
   {
    "duration": 27,
    "start_time": "2024-07-27T00:08:57.118Z"
   },
   {
    "duration": 61,
    "start_time": "2024-07-27T00:08:57.148Z"
   },
   {
    "duration": 17,
    "start_time": "2024-07-27T00:08:57.212Z"
   },
   {
    "duration": 91,
    "start_time": "2024-07-27T00:08:57.233Z"
   },
   {
    "duration": 68,
    "start_time": "2024-07-27T00:08:57.327Z"
   },
   {
    "duration": 20,
    "start_time": "2024-07-27T00:08:57.398Z"
   },
   {
    "duration": 12,
    "start_time": "2024-07-27T00:08:57.421Z"
   },
   {
    "duration": 66,
    "start_time": "2024-07-27T00:08:57.436Z"
   },
   {
    "duration": 55,
    "start_time": "2024-07-27T00:08:57.505Z"
   },
   {
    "duration": 42,
    "start_time": "2024-07-27T00:08:57.563Z"
   },
   {
    "duration": 16,
    "start_time": "2024-07-27T00:08:57.608Z"
   },
   {
    "duration": 94,
    "start_time": "2024-07-27T00:08:57.627Z"
   },
   {
    "duration": 84,
    "start_time": "2024-07-27T00:08:57.724Z"
   },
   {
    "duration": 11,
    "start_time": "2024-07-27T00:08:57.811Z"
   },
   {
    "duration": 33,
    "start_time": "2024-07-27T00:08:57.826Z"
   },
   {
    "duration": 32,
    "start_time": "2024-07-27T00:08:57.890Z"
   },
   {
    "duration": 23,
    "start_time": "2024-07-27T00:08:57.925Z"
   },
   {
    "duration": 64,
    "start_time": "2024-07-27T00:08:57.951Z"
   },
   {
    "duration": 81,
    "start_time": "2024-07-27T00:08:58.018Z"
   },
   {
    "duration": 12,
    "start_time": "2024-07-27T00:08:58.103Z"
   },
   {
    "duration": 4762,
    "start_time": "2024-07-27T00:08:58.118Z"
   },
   {
    "duration": 450,
    "start_time": "2024-07-27T00:09:02.890Z"
   },
   {
    "duration": 410,
    "start_time": "2024-07-27T00:09:03.344Z"
   },
   {
    "duration": 9,
    "start_time": "2024-07-27T00:09:03.757Z"
   },
   {
    "duration": 400,
    "start_time": "2024-07-27T00:09:03.770Z"
   },
   {
    "duration": 425,
    "start_time": "2024-07-27T00:09:04.173Z"
   },
   {
    "duration": 7,
    "start_time": "2024-07-27T00:09:04.601Z"
   },
   {
    "duration": 423,
    "start_time": "2024-07-27T00:09:04.617Z"
   },
   {
    "duration": 435,
    "start_time": "2024-07-27T00:09:05.042Z"
   },
   {
    "duration": 15,
    "start_time": "2024-07-27T00:09:05.480Z"
   },
   {
    "duration": 379,
    "start_time": "2024-07-27T00:09:05.498Z"
   },
   {
    "duration": 2356,
    "start_time": "2024-07-27T00:09:05.879Z"
   },
   {
    "duration": 10,
    "start_time": "2024-07-27T00:09:08.239Z"
   },
   {
    "duration": 420,
    "start_time": "2024-07-27T00:09:08.252Z"
   },
   {
    "duration": 36,
    "start_time": "2024-07-27T00:09:08.676Z"
   },
   {
    "duration": 140,
    "start_time": "2024-07-27T00:09:08.715Z"
   },
   {
    "duration": 56,
    "start_time": "2024-07-27T00:11:05.104Z"
   },
   {
    "duration": 56,
    "start_time": "2024-07-27T00:11:14.498Z"
   },
   {
    "duration": 39,
    "start_time": "2024-07-27T00:23:26.885Z"
   },
   {
    "duration": 63,
    "start_time": "2024-07-27T00:23:32.809Z"
   },
   {
    "duration": 12,
    "start_time": "2024-07-27T00:23:36.507Z"
   },
   {
    "duration": 229,
    "start_time": "2024-07-27T00:23:42.532Z"
   },
   {
    "duration": 1519,
    "start_time": "2024-07-27T00:24:45.983Z"
   },
   {
    "duration": 16,
    "start_time": "2024-07-27T00:24:47.506Z"
   },
   {
    "duration": 11,
    "start_time": "2024-07-27T00:24:47.525Z"
   },
   {
    "duration": 10,
    "start_time": "2024-07-27T00:24:47.542Z"
   },
   {
    "duration": 46,
    "start_time": "2024-07-27T00:24:47.555Z"
   },
   {
    "duration": 16,
    "start_time": "2024-07-27T00:24:47.605Z"
   },
   {
    "duration": 18,
    "start_time": "2024-07-27T00:24:47.624Z"
   },
   {
    "duration": 58,
    "start_time": "2024-07-27T00:24:47.645Z"
   },
   {
    "duration": 4,
    "start_time": "2024-07-27T00:24:47.706Z"
   },
   {
    "duration": 3,
    "start_time": "2024-07-27T00:24:47.717Z"
   },
   {
    "duration": 16,
    "start_time": "2024-07-27T00:24:47.724Z"
   },
   {
    "duration": 58,
    "start_time": "2024-07-27T00:24:47.743Z"
   },
   {
    "duration": 9,
    "start_time": "2024-07-27T00:24:47.804Z"
   },
   {
    "duration": 40,
    "start_time": "2024-07-27T00:24:47.816Z"
   },
   {
    "duration": 26,
    "start_time": "2024-07-27T00:24:47.890Z"
   },
   {
    "duration": 16,
    "start_time": "2024-07-27T00:24:47.920Z"
   },
   {
    "duration": 106,
    "start_time": "2024-07-27T00:24:47.938Z"
   },
   {
    "duration": 80,
    "start_time": "2024-07-27T00:24:48.048Z"
   },
   {
    "duration": 21,
    "start_time": "2024-07-27T00:24:48.131Z"
   },
   {
    "duration": 37,
    "start_time": "2024-07-27T00:24:48.155Z"
   },
   {
    "duration": 31,
    "start_time": "2024-07-27T00:24:48.195Z"
   },
   {
    "duration": 82,
    "start_time": "2024-07-27T00:24:48.229Z"
   },
   {
    "duration": 24,
    "start_time": "2024-07-27T00:24:48.314Z"
   },
   {
    "duration": 14,
    "start_time": "2024-07-27T00:24:48.341Z"
   },
   {
    "duration": 94,
    "start_time": "2024-07-27T00:24:48.358Z"
   },
   {
    "duration": 89,
    "start_time": "2024-07-27T00:24:48.455Z"
   },
   {
    "duration": 13,
    "start_time": "2024-07-27T00:24:48.547Z"
   },
   {
    "duration": 31,
    "start_time": "2024-07-27T00:24:48.594Z"
   },
   {
    "duration": 33,
    "start_time": "2024-07-27T00:24:48.628Z"
   },
   {
    "duration": 49,
    "start_time": "2024-07-27T00:24:48.664Z"
   },
   {
    "duration": 33,
    "start_time": "2024-07-27T00:24:48.716Z"
   },
   {
    "duration": 92,
    "start_time": "2024-07-27T00:24:48.753Z"
   },
   {
    "duration": 13,
    "start_time": "2024-07-27T00:24:48.849Z"
   },
   {
    "duration": 4633,
    "start_time": "2024-07-27T00:24:48.865Z"
   },
   {
    "duration": 464,
    "start_time": "2024-07-27T00:24:53.501Z"
   },
   {
    "duration": 425,
    "start_time": "2024-07-27T00:24:53.968Z"
   },
   {
    "duration": 8,
    "start_time": "2024-07-27T00:24:54.396Z"
   },
   {
    "duration": 414,
    "start_time": "2024-07-27T00:24:54.407Z"
   },
   {
    "duration": 442,
    "start_time": "2024-07-27T00:24:54.825Z"
   },
   {
    "duration": 20,
    "start_time": "2024-07-27T00:24:55.270Z"
   },
   {
    "duration": 371,
    "start_time": "2024-07-27T00:24:55.293Z"
   },
   {
    "duration": 855,
    "start_time": "2024-07-27T00:24:55.667Z"
   },
   {
    "duration": 0,
    "start_time": "2024-07-27T00:24:56.525Z"
   },
   {
    "duration": 0,
    "start_time": "2024-07-27T00:24:56.527Z"
   },
   {
    "duration": 0,
    "start_time": "2024-07-27T00:24:56.529Z"
   },
   {
    "duration": 0,
    "start_time": "2024-07-27T00:24:56.531Z"
   },
   {
    "duration": 0,
    "start_time": "2024-07-27T00:24:56.533Z"
   },
   {
    "duration": 0,
    "start_time": "2024-07-27T00:24:56.535Z"
   },
   {
    "duration": 0,
    "start_time": "2024-07-27T00:24:56.538Z"
   },
   {
    "duration": 765,
    "start_time": "2024-07-27T00:25:11.050Z"
   },
   {
    "duration": 412,
    "start_time": "2024-07-27T00:26:46.215Z"
   },
   {
    "duration": 8,
    "start_time": "2024-07-27T00:26:50.292Z"
   },
   {
    "duration": 135,
    "start_time": "2024-07-27T00:26:51.588Z"
   },
   {
    "duration": 354,
    "start_time": "2024-07-27T00:26:56.815Z"
   },
   {
    "duration": 2276,
    "start_time": "2024-07-27T00:27:03.093Z"
   },
   {
    "duration": 20,
    "start_time": "2024-07-27T00:27:05.373Z"
   },
   {
    "duration": 400,
    "start_time": "2024-07-27T00:27:05.398Z"
   },
   {
    "duration": 32,
    "start_time": "2024-07-27T00:27:11.875Z"
   },
   {
    "duration": 115,
    "start_time": "2024-07-27T00:27:13.157Z"
   },
   {
    "duration": 1695,
    "start_time": "2024-07-27T01:19:44.974Z"
   },
   {
    "duration": 19,
    "start_time": "2024-07-27T01:19:46.674Z"
   },
   {
    "duration": 14,
    "start_time": "2024-07-27T01:19:46.696Z"
   },
   {
    "duration": 12,
    "start_time": "2024-07-27T01:19:46.715Z"
   },
   {
    "duration": 15,
    "start_time": "2024-07-27T01:19:46.731Z"
   },
   {
    "duration": 15,
    "start_time": "2024-07-27T01:19:46.792Z"
   },
   {
    "duration": 16,
    "start_time": "2024-07-27T01:19:46.811Z"
   },
   {
    "duration": 14,
    "start_time": "2024-07-27T01:19:46.831Z"
   },
   {
    "duration": 44,
    "start_time": "2024-07-27T01:19:46.849Z"
   },
   {
    "duration": 4,
    "start_time": "2024-07-27T01:19:46.900Z"
   },
   {
    "duration": 17,
    "start_time": "2024-07-27T01:19:46.907Z"
   },
   {
    "duration": 16,
    "start_time": "2024-07-27T01:19:46.927Z"
   },
   {
    "duration": 48,
    "start_time": "2024-07-27T01:19:46.948Z"
   },
   {
    "duration": 29,
    "start_time": "2024-07-27T01:19:46.999Z"
   },
   {
    "duration": 63,
    "start_time": "2024-07-27T01:19:47.032Z"
   },
   {
    "duration": 19,
    "start_time": "2024-07-27T01:19:47.098Z"
   },
   {
    "duration": 101,
    "start_time": "2024-07-27T01:19:47.122Z"
   },
   {
    "duration": 82,
    "start_time": "2024-07-27T01:19:47.226Z"
   },
   {
    "duration": 20,
    "start_time": "2024-07-27T01:19:47.312Z"
   },
   {
    "duration": 16,
    "start_time": "2024-07-27T01:19:47.336Z"
   },
   {
    "duration": 64,
    "start_time": "2024-07-27T01:19:47.355Z"
   },
   {
    "duration": 81,
    "start_time": "2024-07-27T01:19:47.422Z"
   },
   {
    "duration": 23,
    "start_time": "2024-07-27T01:19:47.507Z"
   },
   {
    "duration": 17,
    "start_time": "2024-07-27T01:19:47.533Z"
   },
   {
    "duration": 108,
    "start_time": "2024-07-27T01:19:47.553Z"
   },
   {
    "duration": 94,
    "start_time": "2024-07-27T01:19:47.664Z"
   },
   {
    "duration": 32,
    "start_time": "2024-07-27T01:19:47.761Z"
   },
   {
    "duration": 35,
    "start_time": "2024-07-27T01:19:47.802Z"
   },
   {
    "duration": 70,
    "start_time": "2024-07-27T01:19:47.840Z"
   },
   {
    "duration": 26,
    "start_time": "2024-07-27T01:19:47.913Z"
   },
   {
    "duration": 58,
    "start_time": "2024-07-27T01:19:47.942Z"
   },
   {
    "duration": 62,
    "start_time": "2024-07-27T01:19:48.003Z"
   },
   {
    "duration": 33,
    "start_time": "2024-07-27T01:19:48.068Z"
   },
   {
    "duration": 4732,
    "start_time": "2024-07-27T01:19:48.106Z"
   },
   {
    "duration": 454,
    "start_time": "2024-07-27T01:19:52.843Z"
   },
   {
    "duration": 411,
    "start_time": "2024-07-27T01:19:53.300Z"
   },
   {
    "duration": 10,
    "start_time": "2024-07-27T01:19:53.714Z"
   },
   {
    "duration": 407,
    "start_time": "2024-07-27T01:19:53.729Z"
   },
   {
    "duration": 422,
    "start_time": "2024-07-27T01:19:54.139Z"
   },
   {
    "duration": 7,
    "start_time": "2024-07-27T01:19:54.565Z"
   },
   {
    "duration": 400,
    "start_time": "2024-07-27T01:19:54.575Z"
   },
   {
    "duration": 445,
    "start_time": "2024-07-27T01:19:54.979Z"
   },
   {
    "duration": 8,
    "start_time": "2024-07-27T01:19:55.427Z"
   },
   {
    "duration": 377,
    "start_time": "2024-07-27T01:19:55.438Z"
   },
   {
    "duration": 2380,
    "start_time": "2024-07-27T01:19:55.818Z"
   },
   {
    "duration": 10,
    "start_time": "2024-07-27T01:19:58.201Z"
   },
   {
    "duration": 414,
    "start_time": "2024-07-27T01:19:58.215Z"
   },
   {
    "duration": 31,
    "start_time": "2024-07-27T01:19:58.632Z"
   },
   {
    "duration": 146,
    "start_time": "2024-07-27T01:19:58.667Z"
   },
   {
    "duration": 500,
    "start_time": "2024-07-27T01:20:49.823Z"
   },
   {
    "duration": 110,
    "start_time": "2024-07-27T01:20:59.060Z"
   },
   {
    "duration": 107,
    "start_time": "2024-07-27T01:21:53.354Z"
   },
   {
    "duration": 106,
    "start_time": "2024-07-27T01:22:09.237Z"
   },
   {
    "duration": 103,
    "start_time": "2024-07-27T01:23:11.471Z"
   },
   {
    "duration": 106,
    "start_time": "2024-07-27T01:23:47.104Z"
   },
   {
    "duration": 108,
    "start_time": "2024-07-27T01:23:57.630Z"
   },
   {
    "duration": 104,
    "start_time": "2024-07-27T01:29:57.081Z"
   },
   {
    "duration": 29,
    "start_time": "2024-07-27T01:30:16.143Z"
   },
   {
    "duration": 34,
    "start_time": "2024-07-27T01:31:17.110Z"
   },
   {
    "duration": 51,
    "start_time": "2024-07-27T01:32:42.264Z"
   },
   {
    "duration": 29,
    "start_time": "2024-07-27T01:32:53.000Z"
   },
   {
    "duration": 28,
    "start_time": "2024-07-27T01:34:19.542Z"
   },
   {
    "duration": 28,
    "start_time": "2024-07-27T01:42:19.222Z"
   },
   {
    "duration": 29,
    "start_time": "2024-07-27T01:49:21.030Z"
   },
   {
    "duration": 29,
    "start_time": "2024-07-27T01:49:42.419Z"
   },
   {
    "duration": 27,
    "start_time": "2024-07-27T01:50:05.452Z"
   },
   {
    "duration": 34,
    "start_time": "2024-07-27T01:50:38.399Z"
   },
   {
    "duration": 31,
    "start_time": "2024-07-27T01:50:56.326Z"
   },
   {
    "duration": 32,
    "start_time": "2024-07-27T01:51:11.133Z"
   },
   {
    "duration": 36,
    "start_time": "2024-07-27T01:51:24.821Z"
   },
   {
    "duration": 37,
    "start_time": "2024-07-27T01:51:37.370Z"
   },
   {
    "duration": 34,
    "start_time": "2024-07-27T01:52:40.198Z"
   },
   {
    "duration": 107,
    "start_time": "2024-07-27T01:55:14.878Z"
   },
   {
    "duration": 5295,
    "start_time": "2024-07-27T20:17:47.350Z"
   },
   {
    "duration": 17,
    "start_time": "2024-07-27T20:17:52.648Z"
   },
   {
    "duration": 11,
    "start_time": "2024-07-27T20:17:52.668Z"
   },
   {
    "duration": 9,
    "start_time": "2024-07-27T20:17:52.684Z"
   },
   {
    "duration": 12,
    "start_time": "2024-07-27T20:17:52.697Z"
   },
   {
    "duration": 14,
    "start_time": "2024-07-27T20:17:52.712Z"
   },
   {
    "duration": 16,
    "start_time": "2024-07-27T20:17:52.769Z"
   },
   {
    "duration": 14,
    "start_time": "2024-07-27T20:17:52.789Z"
   },
   {
    "duration": 4,
    "start_time": "2024-07-27T20:17:52.806Z"
   },
   {
    "duration": 4,
    "start_time": "2024-07-27T20:17:52.816Z"
   },
   {
    "duration": 14,
    "start_time": "2024-07-27T20:17:52.867Z"
   },
   {
    "duration": 14,
    "start_time": "2024-07-27T20:17:52.885Z"
   },
   {
    "duration": 6,
    "start_time": "2024-07-27T20:17:52.903Z"
   },
   {
    "duration": 67,
    "start_time": "2024-07-27T20:17:52.912Z"
   },
   {
    "duration": 26,
    "start_time": "2024-07-27T20:17:52.982Z"
   },
   {
    "duration": 16,
    "start_time": "2024-07-27T20:17:53.010Z"
   },
   {
    "duration": 105,
    "start_time": "2024-07-27T20:17:53.029Z"
   },
   {
    "duration": 84,
    "start_time": "2024-07-27T20:17:53.137Z"
   },
   {
    "duration": 19,
    "start_time": "2024-07-27T20:17:53.224Z"
   },
   {
    "duration": 15,
    "start_time": "2024-07-27T20:17:53.269Z"
   },
   {
    "duration": 28,
    "start_time": "2024-07-27T20:17:53.288Z"
   },
   {
    "duration": 84,
    "start_time": "2024-07-27T20:17:53.319Z"
   },
   {
    "duration": 23,
    "start_time": "2024-07-27T20:17:53.406Z"
   },
   {
    "duration": 37,
    "start_time": "2024-07-27T20:17:53.431Z"
   },
   {
    "duration": 67,
    "start_time": "2024-07-27T20:17:53.471Z"
   },
   {
    "duration": 90,
    "start_time": "2024-07-27T20:17:53.541Z"
   },
   {
    "duration": 12,
    "start_time": "2024-07-27T20:17:53.633Z"
   },
   {
    "duration": 32,
    "start_time": "2024-07-27T20:17:53.672Z"
   },
   {
    "duration": 32,
    "start_time": "2024-07-27T20:17:53.707Z"
   },
   {
    "duration": 23,
    "start_time": "2024-07-27T20:17:53.768Z"
   },
   {
    "duration": 33,
    "start_time": "2024-07-27T20:17:53.794Z"
   },
   {
    "duration": 90,
    "start_time": "2024-07-27T20:17:53.830Z"
   },
   {
    "duration": 11,
    "start_time": "2024-07-27T20:17:53.923Z"
   },
   {
    "duration": 4586,
    "start_time": "2024-07-27T20:17:53.938Z"
   },
   {
    "duration": 443,
    "start_time": "2024-07-27T20:17:58.527Z"
   },
   {
    "duration": 351,
    "start_time": "2024-07-27T20:17:58.975Z"
   },
   {
    "duration": 8,
    "start_time": "2024-07-27T20:17:59.330Z"
   },
   {
    "duration": 448,
    "start_time": "2024-07-27T20:17:59.341Z"
   },
   {
    "duration": 418,
    "start_time": "2024-07-27T20:17:59.792Z"
   },
   {
    "duration": 7,
    "start_time": "2024-07-27T20:18:00.213Z"
   },
   {
    "duration": 378,
    "start_time": "2024-07-27T20:18:00.224Z"
   },
   {
    "duration": 429,
    "start_time": "2024-07-27T20:18:00.605Z"
   },
   {
    "duration": 7,
    "start_time": "2024-07-27T20:18:01.037Z"
   },
   {
    "duration": 376,
    "start_time": "2024-07-27T20:18:01.047Z"
   },
   {
    "duration": 2244,
    "start_time": "2024-07-27T20:18:01.427Z"
   },
   {
    "duration": 10,
    "start_time": "2024-07-27T20:18:03.675Z"
   },
   {
    "duration": 491,
    "start_time": "2024-07-27T20:18:03.688Z"
   },
   {
    "duration": 29,
    "start_time": "2024-07-27T20:18:04.182Z"
   },
   {
    "duration": 145,
    "start_time": "2024-07-27T20:18:04.215Z"
   },
   {
    "duration": 13,
    "start_time": "2024-07-27T21:27:00.657Z"
   },
   {
    "duration": 4,
    "start_time": "2024-07-27T21:30:04.861Z"
   },
   {
    "duration": 13,
    "start_time": "2024-07-27T21:30:16.205Z"
   },
   {
    "duration": 1483,
    "start_time": "2024-07-27T21:35:30.682Z"
   },
   {
    "duration": 15,
    "start_time": "2024-07-27T21:35:32.169Z"
   },
   {
    "duration": 11,
    "start_time": "2024-07-27T21:35:32.187Z"
   },
   {
    "duration": 10,
    "start_time": "2024-07-27T21:35:32.202Z"
   },
   {
    "duration": 52,
    "start_time": "2024-07-27T21:35:32.215Z"
   },
   {
    "duration": 14,
    "start_time": "2024-07-27T21:35:32.270Z"
   },
   {
    "duration": 14,
    "start_time": "2024-07-27T21:35:32.288Z"
   },
   {
    "duration": 13,
    "start_time": "2024-07-27T21:35:32.305Z"
   },
   {
    "duration": 47,
    "start_time": "2024-07-27T21:35:32.324Z"
   },
   {
    "duration": 16,
    "start_time": "2024-07-27T21:35:32.377Z"
   },
   {
    "duration": 15,
    "start_time": "2024-07-27T21:35:32.396Z"
   },
   {
    "duration": 16,
    "start_time": "2024-07-27T21:35:32.414Z"
   },
   {
    "duration": 7,
    "start_time": "2024-07-27T21:35:32.472Z"
   },
   {
    "duration": 29,
    "start_time": "2024-07-27T21:35:32.482Z"
   },
   {
    "duration": 60,
    "start_time": "2024-07-27T21:35:32.514Z"
   },
   {
    "duration": 16,
    "start_time": "2024-07-27T21:35:32.578Z"
   },
   {
    "duration": 94,
    "start_time": "2024-07-27T21:35:32.597Z"
   },
   {
    "duration": 79,
    "start_time": "2024-07-27T21:35:32.694Z"
   },
   {
    "duration": 20,
    "start_time": "2024-07-27T21:35:32.776Z"
   },
   {
    "duration": 14,
    "start_time": "2024-07-27T21:35:32.799Z"
   },
   {
    "duration": 66,
    "start_time": "2024-07-27T21:35:32.816Z"
   },
   {
    "duration": 55,
    "start_time": "2024-07-27T21:35:32.885Z"
   },
   {
    "duration": 43,
    "start_time": "2024-07-27T21:35:32.943Z"
   },
   {
    "duration": 15,
    "start_time": "2024-07-27T21:35:32.989Z"
   },
   {
    "duration": 96,
    "start_time": "2024-07-27T21:35:33.007Z"
   },
   {
    "duration": 81,
    "start_time": "2024-07-27T21:35:33.106Z"
   },
   {
    "duration": 13,
    "start_time": "2024-07-27T21:35:33.190Z"
   },
   {
    "duration": 57,
    "start_time": "2024-07-27T21:35:33.211Z"
   },
   {
    "duration": 38,
    "start_time": "2024-07-27T21:35:33.271Z"
   },
   {
    "duration": 28,
    "start_time": "2024-07-27T21:35:33.313Z"
   },
   {
    "duration": 30,
    "start_time": "2024-07-27T21:35:33.368Z"
   },
   {
    "duration": 84,
    "start_time": "2024-07-27T21:35:33.401Z"
   },
   {
    "duration": 17,
    "start_time": "2024-07-27T21:35:33.487Z"
   },
   {
    "duration": 4593,
    "start_time": "2024-07-27T21:35:33.507Z"
   },
   {
    "duration": 444,
    "start_time": "2024-07-27T21:35:38.103Z"
   },
   {
    "duration": 413,
    "start_time": "2024-07-27T21:35:38.550Z"
   },
   {
    "duration": 8,
    "start_time": "2024-07-27T21:35:38.968Z"
   },
   {
    "duration": 380,
    "start_time": "2024-07-27T21:35:38.980Z"
   },
   {
    "duration": 422,
    "start_time": "2024-07-27T21:35:39.368Z"
   },
   {
    "duration": 9,
    "start_time": "2024-07-27T21:35:39.794Z"
   },
   {
    "duration": 385,
    "start_time": "2024-07-27T21:35:39.807Z"
   },
   {
    "duration": 437,
    "start_time": "2024-07-27T21:35:40.195Z"
   },
   {
    "duration": 8,
    "start_time": "2024-07-27T21:35:40.634Z"
   },
   {
    "duration": 371,
    "start_time": "2024-07-27T21:35:40.645Z"
   },
   {
    "duration": 2324,
    "start_time": "2024-07-27T21:35:41.019Z"
   },
   {
    "duration": 24,
    "start_time": "2024-07-27T21:35:43.346Z"
   },
   {
    "duration": 400,
    "start_time": "2024-07-27T21:35:43.375Z"
   },
   {
    "duration": 31,
    "start_time": "2024-07-27T21:35:43.779Z"
   },
   {
    "duration": 137,
    "start_time": "2024-07-27T21:35:43.814Z"
   },
   {
    "duration": 27,
    "start_time": "2024-07-27T22:28:10.440Z"
   },
   {
    "duration": 1638,
    "start_time": "2024-07-27T22:35:35.961Z"
   },
   {
    "duration": 15,
    "start_time": "2024-07-27T22:35:37.602Z"
   },
   {
    "duration": 11,
    "start_time": "2024-07-27T22:35:37.621Z"
   },
   {
    "duration": 32,
    "start_time": "2024-07-27T22:35:37.637Z"
   },
   {
    "duration": 13,
    "start_time": "2024-07-27T22:35:37.672Z"
   },
   {
    "duration": 15,
    "start_time": "2024-07-27T22:35:37.688Z"
   },
   {
    "duration": 14,
    "start_time": "2024-07-27T22:35:37.707Z"
   },
   {
    "duration": 54,
    "start_time": "2024-07-27T22:35:37.724Z"
   },
   {
    "duration": 15,
    "start_time": "2024-07-27T22:35:37.783Z"
   },
   {
    "duration": 16,
    "start_time": "2024-07-27T22:35:37.803Z"
   },
   {
    "duration": 56,
    "start_time": "2024-07-27T22:35:37.825Z"
   },
   {
    "duration": 17,
    "start_time": "2024-07-27T22:35:37.884Z"
   },
   {
    "duration": 10,
    "start_time": "2024-07-27T22:35:37.904Z"
   },
   {
    "duration": 63,
    "start_time": "2024-07-27T22:35:37.917Z"
   },
   {
    "duration": 25,
    "start_time": "2024-07-27T22:35:37.983Z"
   },
   {
    "duration": 16,
    "start_time": "2024-07-27T22:35:38.011Z"
   },
   {
    "duration": 110,
    "start_time": "2024-07-27T22:35:38.029Z"
   },
   {
    "duration": 80,
    "start_time": "2024-07-27T22:35:38.142Z"
   },
   {
    "duration": 20,
    "start_time": "2024-07-27T22:35:38.225Z"
   },
   {
    "duration": 15,
    "start_time": "2024-07-27T22:35:38.270Z"
   },
   {
    "duration": 30,
    "start_time": "2024-07-27T22:35:38.288Z"
   },
   {
    "duration": 93,
    "start_time": "2024-07-27T22:35:38.322Z"
   },
   {
    "duration": 22,
    "start_time": "2024-07-27T22:35:38.418Z"
   },
   {
    "duration": 21,
    "start_time": "2024-07-27T22:35:38.467Z"
   },
   {
    "duration": 83,
    "start_time": "2024-07-27T22:35:38.492Z"
   },
   {
    "duration": 69,
    "start_time": "2024-07-27T22:35:38.577Z"
   },
   {
    "duration": 15,
    "start_time": "2024-07-27T22:35:38.668Z"
   },
   {
    "duration": 32,
    "start_time": "2024-07-27T22:35:38.690Z"
   },
   {
    "duration": 63,
    "start_time": "2024-07-27T22:35:38.724Z"
   },
   {
    "duration": 24,
    "start_time": "2024-07-27T22:35:38.790Z"
   },
   {
    "duration": 60,
    "start_time": "2024-07-27T22:35:38.817Z"
   },
   {
    "duration": 62,
    "start_time": "2024-07-27T22:35:38.879Z"
   },
   {
    "duration": 29,
    "start_time": "2024-07-27T22:35:38.943Z"
   },
   {
    "duration": 4549,
    "start_time": "2024-07-27T22:35:38.975Z"
   },
   {
    "duration": 440,
    "start_time": "2024-07-27T22:35:43.527Z"
   },
   {
    "duration": 404,
    "start_time": "2024-07-27T22:35:43.971Z"
   },
   {
    "duration": 7,
    "start_time": "2024-07-27T22:35:44.380Z"
   },
   {
    "duration": 386,
    "start_time": "2024-07-27T22:35:44.390Z"
   },
   {
    "duration": 442,
    "start_time": "2024-07-27T22:35:44.780Z"
   },
   {
    "duration": 7,
    "start_time": "2024-07-27T22:35:45.225Z"
   },
   {
    "duration": 383,
    "start_time": "2024-07-27T22:35:45.236Z"
   },
   {
    "duration": 447,
    "start_time": "2024-07-27T22:35:45.623Z"
   },
   {
    "duration": 9,
    "start_time": "2024-07-27T22:35:46.073Z"
   },
   {
    "duration": 389,
    "start_time": "2024-07-27T22:35:46.085Z"
   },
   {
    "duration": 2370,
    "start_time": "2024-07-27T22:35:46.478Z"
   },
   {
    "duration": 22,
    "start_time": "2024-07-27T22:35:48.852Z"
   },
   {
    "duration": 411,
    "start_time": "2024-07-27T22:35:48.878Z"
   },
   {
    "duration": 31,
    "start_time": "2024-07-27T22:35:49.292Z"
   },
   {
    "duration": 148,
    "start_time": "2024-07-27T22:35:49.328Z"
   },
   {
    "duration": 108,
    "start_time": "2024-07-27T22:40:57.233Z"
   },
   {
    "duration": 115,
    "start_time": "2024-07-27T22:41:05.648Z"
   },
   {
    "duration": 108,
    "start_time": "2024-07-27T22:42:51.095Z"
   },
   {
    "duration": 107,
    "start_time": "2024-07-27T22:42:57.244Z"
   },
   {
    "duration": 110,
    "start_time": "2024-07-27T22:54:07.475Z"
   },
   {
    "duration": 107,
    "start_time": "2024-07-27T22:54:18.829Z"
   },
   {
    "duration": 28,
    "start_time": "2024-07-27T22:56:35.346Z"
   },
   {
    "duration": 27,
    "start_time": "2024-07-27T22:56:59.996Z"
   },
   {
    "duration": 1523,
    "start_time": "2024-07-27T23:14:33.389Z"
   },
   {
    "duration": 16,
    "start_time": "2024-07-27T23:14:34.915Z"
   },
   {
    "duration": 11,
    "start_time": "2024-07-27T23:14:34.934Z"
   },
   {
    "duration": 29,
    "start_time": "2024-07-27T23:14:34.949Z"
   },
   {
    "duration": 14,
    "start_time": "2024-07-27T23:14:34.984Z"
   },
   {
    "duration": 19,
    "start_time": "2024-07-27T23:14:35.002Z"
   },
   {
    "duration": 50,
    "start_time": "2024-07-27T23:14:35.024Z"
   },
   {
    "duration": 15,
    "start_time": "2024-07-27T23:14:35.077Z"
   },
   {
    "duration": 15,
    "start_time": "2024-07-27T23:14:35.094Z"
   },
   {
    "duration": 13,
    "start_time": "2024-07-27T23:14:35.112Z"
   },
   {
    "duration": 15,
    "start_time": "2024-07-27T23:14:35.169Z"
   },
   {
    "duration": 14,
    "start_time": "2024-07-27T23:14:35.187Z"
   },
   {
    "duration": 8,
    "start_time": "2024-07-27T23:14:35.204Z"
   },
   {
    "duration": 70,
    "start_time": "2024-07-27T23:14:35.219Z"
   },
   {
    "duration": 24,
    "start_time": "2024-07-27T23:14:35.292Z"
   },
   {
    "duration": 50,
    "start_time": "2024-07-27T23:14:35.319Z"
   },
   {
    "duration": 68,
    "start_time": "2024-07-27T23:14:35.372Z"
   },
   {
    "duration": 89,
    "start_time": "2024-07-27T23:14:35.444Z"
   },
   {
    "duration": 40,
    "start_time": "2024-07-27T23:14:35.535Z"
   },
   {
    "duration": 12,
    "start_time": "2024-07-27T23:14:35.578Z"
   },
   {
    "duration": 29,
    "start_time": "2024-07-27T23:14:35.593Z"
   },
   {
    "duration": 88,
    "start_time": "2024-07-27T23:14:35.625Z"
   },
   {
    "duration": 22,
    "start_time": "2024-07-27T23:14:35.716Z"
   },
   {
    "duration": 35,
    "start_time": "2024-07-27T23:14:35.742Z"
   },
   {
    "duration": 91,
    "start_time": "2024-07-27T23:14:35.781Z"
   },
   {
    "duration": 95,
    "start_time": "2024-07-27T23:14:35.876Z"
   },
   {
    "duration": 13,
    "start_time": "2024-07-27T23:14:35.974Z"
   },
   {
    "duration": 31,
    "start_time": "2024-07-27T23:14:35.990Z"
   },
   {
    "duration": 71,
    "start_time": "2024-07-27T23:14:36.024Z"
   },
   {
    "duration": 23,
    "start_time": "2024-07-27T23:14:36.098Z"
   },
   {
    "duration": 56,
    "start_time": "2024-07-27T23:14:36.125Z"
   },
   {
    "duration": 59,
    "start_time": "2024-07-27T23:14:36.185Z"
   },
   {
    "duration": 30,
    "start_time": "2024-07-27T23:14:36.247Z"
   },
   {
    "duration": 4733,
    "start_time": "2024-07-27T23:14:36.281Z"
   },
   {
    "duration": 440,
    "start_time": "2024-07-27T23:14:41.016Z"
   },
   {
    "duration": 401,
    "start_time": "2024-07-27T23:14:41.460Z"
   },
   {
    "duration": 8,
    "start_time": "2024-07-27T23:14:41.867Z"
   },
   {
    "duration": 399,
    "start_time": "2024-07-27T23:14:41.878Z"
   },
   {
    "duration": 437,
    "start_time": "2024-07-27T23:14:42.280Z"
   },
   {
    "duration": 7,
    "start_time": "2024-07-27T23:14:42.720Z"
   },
   {
    "duration": 373,
    "start_time": "2024-07-27T23:14:42.737Z"
   },
   {
    "duration": 441,
    "start_time": "2024-07-27T23:14:43.113Z"
   },
   {
    "duration": 12,
    "start_time": "2024-07-27T23:14:43.557Z"
   },
   {
    "duration": 380,
    "start_time": "2024-07-27T23:14:43.573Z"
   },
   {
    "duration": 2378,
    "start_time": "2024-07-27T23:14:43.956Z"
   },
   {
    "duration": 10,
    "start_time": "2024-07-27T23:14:46.337Z"
   },
   {
    "duration": 414,
    "start_time": "2024-07-27T23:14:46.369Z"
   },
   {
    "duration": 33,
    "start_time": "2024-07-27T23:14:46.786Z"
   },
   {
    "duration": 141,
    "start_time": "2024-07-27T23:14:46.821Z"
   },
   {
    "duration": 309,
    "start_time": "2024-07-28T00:27:12.119Z"
   },
   {
    "duration": 5376,
    "start_time": "2024-07-28T00:27:30.072Z"
   },
   {
    "duration": 17,
    "start_time": "2024-07-28T00:27:35.451Z"
   },
   {
    "duration": 11,
    "start_time": "2024-07-28T00:27:35.472Z"
   },
   {
    "duration": 24,
    "start_time": "2024-07-28T00:27:35.488Z"
   },
   {
    "duration": 13,
    "start_time": "2024-07-28T00:27:35.516Z"
   },
   {
    "duration": 15,
    "start_time": "2024-07-28T00:27:35.532Z"
   },
   {
    "duration": 64,
    "start_time": "2024-07-28T00:27:35.551Z"
   },
   {
    "duration": 14,
    "start_time": "2024-07-28T00:27:35.619Z"
   },
   {
    "duration": 16,
    "start_time": "2024-07-28T00:27:35.636Z"
   },
   {
    "duration": 51,
    "start_time": "2024-07-28T00:27:35.658Z"
   },
   {
    "duration": 15,
    "start_time": "2024-07-28T00:27:35.713Z"
   },
   {
    "duration": 18,
    "start_time": "2024-07-28T00:27:35.732Z"
   },
   {
    "duration": 54,
    "start_time": "2024-07-28T00:27:35.753Z"
   },
   {
    "duration": 31,
    "start_time": "2024-07-28T00:27:35.810Z"
   },
   {
    "duration": 65,
    "start_time": "2024-07-28T00:27:35.843Z"
   },
   {
    "duration": 18,
    "start_time": "2024-07-28T00:27:35.912Z"
   },
   {
    "duration": 116,
    "start_time": "2024-07-28T00:27:35.933Z"
   },
   {
    "duration": 92,
    "start_time": "2024-07-28T00:27:36.052Z"
   },
   {
    "duration": 22,
    "start_time": "2024-07-28T00:27:36.149Z"
   },
   {
    "duration": 34,
    "start_time": "2024-07-28T00:27:36.173Z"
   },
   {
    "duration": 31,
    "start_time": "2024-07-28T00:27:36.211Z"
   },
   {
    "duration": 89,
    "start_time": "2024-07-28T00:27:36.245Z"
   },
   {
    "duration": 23,
    "start_time": "2024-07-28T00:27:36.337Z"
   },
   {
    "duration": 41,
    "start_time": "2024-07-28T00:27:36.363Z"
   },
   {
    "duration": 93,
    "start_time": "2024-07-28T00:27:36.410Z"
   },
   {
    "duration": 95,
    "start_time": "2024-07-28T00:27:36.507Z"
   },
   {
    "duration": 15,
    "start_time": "2024-07-28T00:27:36.605Z"
   },
   {
    "duration": 33,
    "start_time": "2024-07-28T00:27:36.628Z"
   },
   {
    "duration": 69,
    "start_time": "2024-07-28T00:27:36.664Z"
   },
   {
    "duration": 24,
    "start_time": "2024-07-28T00:27:36.736Z"
   },
   {
    "duration": 64,
    "start_time": "2024-07-28T00:27:36.764Z"
   },
   {
    "duration": 78,
    "start_time": "2024-07-28T00:27:36.832Z"
   },
   {
    "duration": 13,
    "start_time": "2024-07-28T00:27:36.913Z"
   },
   {
    "duration": 4593,
    "start_time": "2024-07-28T00:27:36.929Z"
   },
   {
    "duration": 438,
    "start_time": "2024-07-28T00:27:41.526Z"
   },
   {
    "duration": 358,
    "start_time": "2024-07-28T00:27:41.967Z"
   },
   {
    "duration": 8,
    "start_time": "2024-07-28T00:27:42.328Z"
   },
   {
    "duration": 412,
    "start_time": "2024-07-28T00:27:42.339Z"
   },
   {
    "duration": 440,
    "start_time": "2024-07-28T00:27:42.754Z"
   },
   {
    "duration": 9,
    "start_time": "2024-07-28T00:27:43.201Z"
   },
   {
    "duration": 464,
    "start_time": "2024-07-28T00:27:43.213Z"
   },
   {
    "duration": 446,
    "start_time": "2024-07-28T00:27:43.681Z"
   },
   {
    "duration": 12,
    "start_time": "2024-07-28T00:27:44.131Z"
   },
   {
    "duration": 403,
    "start_time": "2024-07-28T00:27:44.146Z"
   },
   {
    "duration": 2298,
    "start_time": "2024-07-28T00:27:44.552Z"
   },
   {
    "duration": 10,
    "start_time": "2024-07-28T00:27:46.853Z"
   },
   {
    "duration": 417,
    "start_time": "2024-07-28T00:27:46.866Z"
   },
   {
    "duration": 42,
    "start_time": "2024-07-28T00:27:47.289Z"
   },
   {
    "duration": 8,
    "start_time": "2024-07-28T00:27:47.335Z"
   },
   {
    "duration": 149,
    "start_time": "2024-07-28T00:27:47.346Z"
   },
   {
    "duration": 8,
    "start_time": "2024-07-28T00:28:02.085Z"
   }
  ],
  "kernelspec": {
   "display_name": "Python 3 (ipykernel)",
   "language": "python",
   "name": "python3"
  },
  "language_info": {
   "codemirror_mode": {
    "name": "ipython",
    "version": 3
   },
   "file_extension": ".py",
   "mimetype": "text/x-python",
   "name": "python",
   "nbconvert_exporter": "python",
   "pygments_lexer": "ipython3",
   "version": "3.9.19"
  },
  "toc": {
   "base_numbering": 1,
   "nav_menu": {},
   "number_sections": true,
   "sideBar": true,
   "skip_h1_title": false,
   "title_cell": "Table of Contents",
   "title_sidebar": "Contents",
   "toc_cell": false,
   "toc_position": {
    "height": "calc(100% - 180px)",
    "left": "10px",
    "top": "150px",
    "width": "399.125px"
   },
   "toc_section_display": true,
   "toc_window_display": true
  }
 },
 "nbformat": 4,
 "nbformat_minor": 2
}
